{
 "cells": [
  {
   "cell_type": "markdown",
   "metadata": {},
   "source": [
    "# Case3-challenge05-check"
   ]
  },
  {
   "cell_type": "markdown",
   "metadata": {},
   "source": [
    "In this note, we check whether we can reproduce ra/dec values in the data from the parameters also written in the data."
   ]
  },
  {
   "cell_type": "markdown",
   "metadata": {},
   "source": [
    "At first, we add the analysis directory to the python path."
   ]
  },
  {
   "cell_type": "code",
   "execution_count": 1,
   "metadata": {},
   "outputs": [],
   "source": [
    "import sys\n",
    "sys.path.append('/home/kamizuka/analysis')"
   ]
  },
  {
   "cell_type": "markdown",
   "metadata": {},
   "source": [
    "At first, we load the data, 'case3_chalenge_05.txt'."
   ]
  },
  {
   "cell_type": "code",
   "execution_count": 2,
   "metadata": {},
   "outputs": [],
   "source": [
    "import astropy.io.ascii as asc\n",
    "from astropy import units as u\n",
    "\n",
    "data = asc.read('case3_challenge_05.txt')\n",
    "data['x'] = data['x']*1.e-3 # Converting um to mm.\n",
    "data['y'] = data['y']*1.e-3 # Converting um to mm.\n",
    "data['x'].unit = u.mm\n",
    "data['y'].unit = u.mm\n",
    "data['ra'].unit = u.deg\n",
    "data['dec'].unit = u.deg"
   ]
  },
  {
   "cell_type": "markdown",
   "metadata": {},
   "source": [
    "The source distribution is shown in the figure below."
   ]
  },
  {
   "cell_type": "code",
   "execution_count": 4,
   "metadata": {},
   "outputs": [
    {
     "data": {
      "image/png": "[encoded data removed]",
      "text/plain": [
       "<Figure size 504x288 with 1 Axes>"
      ]
     },
     "metadata": {
      "needs_background": "light"
     },
     "output_type": "display_data"
    },
    {
     "data": {
      "image/png": "[encoded data removed]",
      "text/plain": [
       "<Figure size 504x288 with 1 Axes>"
      ]
     },
     "metadata": {
      "needs_background": "light"
     },
     "output_type": "display_data"
    }
   ],
   "source": [
    "import matplotlib.pylab as plt\n",
    "\n",
    "fig = plt.figure(figsize=(7,4))\n",
    "ax = fig.add_subplot(111)\n",
    "ax.scatter(data['x'], data['y'], marker='x')\n",
    "ax.set_xlabel('X (mm)')\n",
    "ax.set_ylabel('Y (mm)')\n",
    "ax.set_xlim([-25,25])\n",
    "ax.set_ylim([-25,25])\n",
    "ax.set_aspect('equal', adjustable='box')\n",
    "\n",
    "fig = plt.figure(figsize=(7,4))\n",
    "ax = fig.add_subplot(111)\n",
    "ax.scatter(data['ra'], data['dec'], marker='x')\n",
    "ax.scatter(data['ra']-360.0, data['dec'], marker='x')\n",
    "ax.set_xlabel('R.A. (deg)')\n",
    "ax.set_ylabel('Dec. (deg)')\n",
    "ax.set_xlim([-0.3,0.3])\n",
    "ax.set_aspect('equal', adjustable='box')"
   ]
  },
  {
   "cell_type": "markdown",
   "metadata": {},
   "source": [
    "We set the field parameters as below."
   ]
  },
  {
   "cell_type": "code",
   "execution_count": 5,
   "metadata": {},
   "outputs": [
    {
     "name": "stdout",
     "output_type": "stream",
     "text": [
      "0.0 deg\n",
      "0.0 deg\n",
      "134.8344427850505 deg\n",
      "0.007848736919600318 deg / mm\n"
     ]
    }
   ],
   "source": [
    "import warpfield as w\n",
    "from astropy.coordinates import SkyCoord, Longitude, Latitude, Angle\n",
    "\n",
    "ra_ptg  = 0.0*u.deg\n",
    "dec_ptg = 0.0*u.deg\n",
    "pa_ptg  = 134.8344427850505*u.deg\n",
    "\n",
    "pointing = SkyCoord(Longitude(ra_ptg), Latitude(dec_ptg), frame='icrs')\n",
    "jasmine  = w.Telescope(pointing, Angle(pa_ptg))\n",
    "scale    = jasmine.optics.scale/3600. * 1000. * u.deg/u.mm\n",
    "\n",
    "print(ra_ptg)\n",
    "print(dec_ptg)\n",
    "print(pa_ptg)\n",
    "print(scale)"
   ]
  },
  {
   "cell_type": "markdown",
   "metadata": {},
   "source": [
    "We set the distortion parameters as below."
   ]
  },
  {
   "cell_type": "code",
   "execution_count": 6,
   "metadata": {},
   "outputs": [
    {
     "name": "stdout",
     "output_type": "stream",
     "text": [
      "[[ 0.00000000e+00  0.00000000e+00  2.79041292e-08  0.00000000e+00\n",
      "   0.00000000e+00]\n",
      " [ 0.00000000e+00 -5.80878134e-08 -5.25169807e-12  0.00000000e+00\n",
      "   0.00000000e+00]\n",
      " [-5.71380166e-08 -9.24082838e-12 -2.61254901e-15  0.00000000e+00\n",
      "   0.00000000e+00]\n",
      " [ 0.00000000e+00  0.00000000e+00  0.00000000e+00  0.00000000e+00\n",
      "   0.00000000e+00]\n",
      " [ 0.00000000e+00  0.00000000e+00  0.00000000e+00  0.00000000e+00\n",
      "   0.00000000e+00]]\n",
      "[[ 0.00000000e+00  0.00000000e+00 -1.52387600e-07  0.00000000e+00\n",
      "   0.00000000e+00]\n",
      " [ 0.00000000e+00 -7.42406837e-08 -7.03343802e-12  0.00000000e+00\n",
      "   0.00000000e+00]\n",
      " [-2.13962066e-07 -6.29474961e-12  5.97720467e-16  0.00000000e+00\n",
      "   0.00000000e+00]\n",
      " [ 0.00000000e+00  0.00000000e+00  0.00000000e+00  0.00000000e+00\n",
      "   0.00000000e+00]\n",
      " [ 0.00000000e+00  0.00000000e+00  0.00000000e+00  0.00000000e+00\n",
      "   0.00000000e+00]]\n"
     ]
    }
   ],
   "source": [
    "import numpy as np\n",
    "\n",
    "sip_c = np.zeros(shape=(5, 5))\n",
    "sip_d = np.zeros(shape=(5, 5))\n",
    "\n",
    "sip_c[0,2]=2.7904129220013768e-08\n",
    "sip_c[1,1]=-5.80878134023515e-08\n",
    "sip_c[1,2]=-5.2516980717814774e-12\n",
    "sip_c[2,0]=-5.7138016575414155e-08\n",
    "sip_c[2,1]=-9.240828377471048e-12\n",
    "sip_c[2,2]=-2.6125490126936015e-15\n",
    "\n",
    "sip_d[0,2]=-1.523875997615861e-07\n",
    "sip_d[1,1]=-7.424068371191725e-08\n",
    "sip_d[1,2]=-7.033438017074073e-12\n",
    "sip_d[2,0]=-2.1396206560762395e-07\n",
    "sip_d[2,1]=-6.2947496092425084e-12\n",
    "sip_d[2,2]=5.977204669126082e-16\n",
    "\n",
    "print(sip_c)\n",
    "print(sip_d)"
   ]
  },
  {
   "cell_type": "markdown",
   "metadata": {},
   "source": [
    "Here, we define a function to construct a wcs instance from given parameters."
   ]
  },
  {
   "cell_type": "code",
   "execution_count": 7,
   "metadata": {},
   "outputs": [],
   "source": [
    "from astropy.wcs import WCS\n",
    "from astropy.wcs import Sip\n",
    "\n",
    "def wcs(ra0, dec0, pa0, scale0, a=None, b=None):\n",
    "    w = WCS(naxis=2)\n",
    "    w.wcs.crpix=[0,0]\n",
    "    w.wcs.cdelt=np.array([-scale0, scale0])\n",
    "    w.wcs.crval=[ra0, dec0]\n",
    "    w.wcs.ctype=[\"RA---TAN-SIP\", \"DEC--TAN-SIP\"]\n",
    "    w.wcs.pc=[[ np.cos(pa0*u.deg), np.sin(pa0*u.deg)],\n",
    "              [-np.sin(pa0*u.deg), np.cos(pa0*u.deg)]]\n",
    "    if a is not None and b is not None:\n",
    "        w.sip = Sip(a, b, None, None, [0, 0])\n",
    "    return w"
   ]
  },
  {
   "cell_type": "markdown",
   "metadata": {},
   "source": [
    "And we define a model function which calculates RA and Dec from the position on the focal plane with considering the distortion. It is represented by the Sip function implemented to astropy.wcs."
   ]
  },
  {
   "cell_type": "code",
   "execution_count": 8,
   "metadata": {},
   "outputs": [],
   "source": [
    "def model(params, pxcrd, sip_order):\n",
    "    # params must be an ndarray of dimension-less values.\n",
    "    # assuming params = [ra, dec, pa, scale, a00, a01, ..., a0m, a10, a11, ..., amm, b00, b01, ..., bmm].\n",
    "    ra_ptg  = params[0] # value in deg.\n",
    "    dec_ptg = params[1] # value in deg.\n",
    "    pa_ptg  = params[2] # value in deg.\n",
    "    scale   = params[3] # value in deg/mm.\n",
    "    a = params[4:4+(sip_order+1)**2].reshape((sip_order+1, sip_order+1))\n",
    "    b = params[4+(sip_order+1)**2:4+2*(sip_order+1)**2].reshape((sip_order+1, sip_order+1))\n",
    "#    # constraining some parametes to be zero.\n",
    "#    m, n = np.indices((sip_order+1, sip_order+1))\n",
    "#    pos = np.where((m+n==0)+(m+n==1)+(m+n>sip_order))\n",
    "#    a[pos] = 0.\n",
    "#    b[pos] = 0.\n",
    "#    # additional constraints.\n",
    "#    pos = (np.array([0, 0, 1, 3, 3, 4]), np.array([3, 4, 3, 0, 1, 0]))\n",
    "#    a[pos] = 0.\n",
    "#    b[pos] = 0.\n",
    "    \n",
    "    w = wcs(ra_ptg, dec_ptg, pa_ptg, scale, a, b)\n",
    "    world = w.all_pix2world(pixcrd, 0)\n",
    "\n",
    "    # constraining ra and dec in 'world' between -180 to 180 deg.\n",
    "    pos = np.where(world>180.)\n",
    "    world[pos] = world[pos] - 360.\n",
    "    pos = np.where(world<-180.)\n",
    "    world[pos] = world[pos] + 360.\n",
    "    \n",
    "    return world.T.flatten()"
   ]
  },
  {
   "cell_type": "markdown",
   "metadata": {},
   "source": [
    "Then, we make an array of the coordinates on the focal plane."
   ]
  },
  {
   "cell_type": "code",
   "execution_count": 9,
   "metadata": {},
   "outputs": [],
   "source": [
    "pixcrd = np.concatenate(([data['x']],[data['y']])).T"
   ]
  },
  {
   "cell_type": "markdown",
   "metadata": {},
   "source": [
    "Let's compare the ra/dec values calculated from the derived parameters with the true values."
   ]
  },
  {
   "cell_type": "code",
   "execution_count": 11,
   "metadata": {},
   "outputs": [
    {
     "data": {
      "text/plain": [
       "<matplotlib.legend.Legend at 0x7f9d863685c0>"
      ]
     },
     "execution_count": 11,
     "metadata": {},
     "output_type": "execute_result"
    },
    {
     "data": {
      "image/png": "[encoded data removed]",
      "text/plain": [
       "<Figure size 1008x576 with 1 Axes>"
      ]
     },
     "metadata": {
      "needs_background": "light"
     },
     "output_type": "display_data"
    }
   ],
   "source": [
    "params    = np.concatenate(([ra_ptg.value, dec_ptg.value, pa_ptg.value, scale.value], sip_c.flatten(), sip_d.flatten()))\n",
    "positions = model(params, pixcrd, 4)\n",
    "positions = positions.reshape((2,int(positions.size/2))).T\n",
    "\n",
    "fig = plt.figure(figsize=(14,8))\n",
    "ax = fig.add_subplot(111)\n",
    "ax.scatter(data['ra'], data['dec'], marker='+', label='Truth')\n",
    "ax.scatter(data['ra']-360., data['dec'], marker='+', label='')\n",
    "ax.scatter(positions[:,0], positions[:,1], marker='x', label='Reproduced')\n",
    "ax.set_xlabel('R.A. (deg)')\n",
    "ax.set_ylabel('Dec. (deg)')\n",
    "ax.set_xlim([-0.3,0.3])\n",
    "#ax.set_aspect('equal', adjustable='box')\n",
    "ax.legend()"
   ]
  },
  {
   "cell_type": "markdown",
   "metadata": {},
   "source": [
    "The reproduced ra/dec values show offset from the true values. Why...?"
   ]
  },
  {
   "cell_type": "code",
   "execution_count": null,
   "metadata": {},
   "outputs": [],
   "source": []
  }
 ],
 "metadata": {
  "kernelspec": {
   "display_name": "Python 3",
   "language": "python",
   "name": "python3"
  },
  "language_info": {
   "codemirror_mode": {
    "name": "ipython",
    "version": 3
   },
   "file_extension": ".py",
   "mimetype": "text/x-python",
   "name": "python",
   "nbconvert_exporter": "python",
   "pygments_lexer": "ipython3",
   "version": "3.7.1"
  }
 },
 "nbformat": 4,
 "nbformat_minor": 2
}
