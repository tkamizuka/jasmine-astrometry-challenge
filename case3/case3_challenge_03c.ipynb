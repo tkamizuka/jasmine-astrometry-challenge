{
 "cells": [
  {
   "cell_type": "markdown",
   "metadata": {},
   "source": [
    "# Case3-challenge03"
   ]
  },
  {
   "cell_type": "markdown",
   "metadata": {},
   "source": [
    "At first, we add the analysis directory to the python path."
   ]
  },
  {
   "cell_type": "code",
   "execution_count": 1,
   "metadata": {},
   "outputs": [],
   "source": [
    "import sys\n",
    "sys.path.append('/home/kamizuka/analysis')"
   ]
  },
  {
   "cell_type": "markdown",
   "metadata": {},
   "source": [
    "At first, we load the data, 'case3_chalenge_03.txt'."
   ]
  },
  {
   "cell_type": "code",
   "execution_count": 2,
   "metadata": {},
   "outputs": [],
   "source": [
    "import astropy.io.ascii as asc\n",
    "from astropy import units as u\n",
    "\n",
    "data = asc.read('case3_challenge_03.txt')\n",
    "data['x'] = data['x']*1.e-3 # Converting um to mm.\n",
    "data['y'] = data['y']*1.e-3 # Converting um to mm.\n",
    "data['x'].unit = u.mm\n",
    "data['y'].unit = u.mm\n",
    "data['ra'].unit = u.deg\n",
    "data['dec'].unit = u.deg"
   ]
  },
  {
   "cell_type": "markdown",
   "metadata": {},
   "source": [
    "The source distribution is shown in the figure below."
   ]
  },
  {
   "cell_type": "code",
   "execution_count": 4,
   "metadata": {},
   "outputs": [
    {
     "data": {
      "image/png": "[encoded data removed]",
      "text/plain": [
       "<Figure size 504x288 with 1 Axes>"
      ]
     },
     "metadata": {
      "needs_background": "light"
     },
     "output_type": "display_data"
    },
    {
     "data": {
      "image/png": "[encoded data removed]",
      "text/plain": [
       "<Figure size 504x288 with 1 Axes>"
      ]
     },
     "metadata": {
      "needs_background": "light"
     },
     "output_type": "display_data"
    }
   ],
   "source": [
    "import matplotlib.pylab as plt\n",
    "\n",
    "fig = plt.figure(figsize=(7,4))\n",
    "ax = fig.add_subplot(111)\n",
    "ax.scatter(data['x'], data['y'], marker='x')\n",
    "ax.set_xlabel('X (mm)')\n",
    "ax.set_ylabel('Y (mm)')\n",
    "ax.set_xlim([-25,25])\n",
    "ax.set_ylim([-25,25])\n",
    "ax.set_aspect('equal', adjustable='box')\n",
    "\n",
    "fig = plt.figure(figsize=(7,4))\n",
    "ax = fig.add_subplot(111)\n",
    "ax.scatter(data['ra'], data['dec'], marker='x')\n",
    "ax.scatter(data['ra']-360.0, data['dec'], marker='x')\n",
    "ax.set_xlabel('R.A. (deg)')\n",
    "ax.set_ylabel('Dec. (deg)')\n",
    "ax.set_xlim([-0.3,0.3])\n",
    "ax.set_aspect('equal', adjustable='box')"
   ]
  },
  {
   "cell_type": "markdown",
   "metadata": {},
   "source": [
    "We guess the field parameters."
   ]
  },
  {
   "cell_type": "code",
   "execution_count": 5,
   "metadata": {},
   "outputs": [
    {
     "name": "stdout",
     "output_type": "stream",
     "text": [
      "0.006122448979591855 deg\n",
      "-0.006122448979591855 deg\n",
      "0.008455928879777107 deg / mm\n",
      "0.0 deg\n"
     ]
    }
   ],
   "source": [
    "import numpy as np\n",
    "from astropy.coordinates import SkyCoord, Angle\n",
    "\n",
    "r = np.sqrt(data['x']**2.+data['y']**2.)\n",
    "i0 = np.argmin(r)\n",
    "ra0  = data['ra'].quantity[i0]\n",
    "dec0 = data['dec'].quantity[i0]\n",
    "\n",
    "c0 = SkyCoord(ra=ra0, dec=dec0, frame='icrs')\n",
    "c1 = SkyCoord(ra=data['ra'].quantity[0], dec=data['dec'].quantity[0], frame='icrs')\n",
    "angle_sep = c0.separation(c1)\n",
    "\n",
    "dx = data['x'].quantity[i0] - data['x'].quantity[0]\n",
    "dy = data['y'].quantity[i0] - data['y'].quantity[0]\n",
    "mm_sep = np.sqrt(dx*dx+dy*dy)\n",
    "\n",
    "scale0 = angle_sep/mm_sep\n",
    "\n",
    "pa0 = 0.0 * u.deg\n",
    "\n",
    "print(ra0)\n",
    "print(dec0)\n",
    "print(scale0)\n",
    "print(pa0)"
   ]
  },
  {
   "cell_type": "markdown",
   "metadata": {},
   "source": [
    "Here, we define a function to construct a wcs instance from given parameters."
   ]
  },
  {
   "cell_type": "code",
   "execution_count": 6,
   "metadata": {},
   "outputs": [],
   "source": [
    "from astropy.wcs import WCS\n",
    "from astropy.wcs import Sip\n",
    "\n",
    "def wcs(ra0, dec0, pa0, scale0, a=None, b=None):\n",
    "    w = WCS(naxis=2)\n",
    "    w.wcs.crpix=[0,0]\n",
    "    w.wcs.cdelt=np.array([-scale0, scale0])\n",
    "    w.wcs.crval=[ra0, dec0]\n",
    "    w.wcs.ctype=[\"RA---TAN-SIP\", \"DEC--TAN-SIP\"]\n",
    "    w.wcs.pc=[[ np.cos(pa0*u.deg), np.sin(pa0*u.deg)],\n",
    "              [-np.sin(pa0*u.deg), np.cos(pa0*u.deg)]]\n",
    "    if a is not None and b is not None:\n",
    "        w.sip = Sip(a, b, None, None, [0, 0])\n",
    "    return w"
   ]
  },
  {
   "cell_type": "markdown",
   "metadata": {},
   "source": [
    "Next, we define a model function to estimate the position angle. This function calculates RA and Dec from the position on the focal plane. At this moment, we ignore the distortion."
   ]
  },
  {
   "cell_type": "code",
   "execution_count": 7,
   "metadata": {},
   "outputs": [],
   "source": [
    "def model_wo_distortion(params, pxcrd):\n",
    "    # params must be an ndarray of dimension-less values.\n",
    "    # assuming params = [ra, dec, pa, scale].\n",
    "    ra_ptg  = params[0] # value in deg.\n",
    "    dec_ptg = params[1] # value in deg.\n",
    "    pa_ptg  = params[2] # value in deg.\n",
    "    scale   = params[3] # value in deg/mm.\n",
    "    \n",
    "    w = wcs(ra_ptg, dec_ptg, pa_ptg, scale)\n",
    "    world = w.all_pix2world(pixcrd, 0)\n",
    "\n",
    "    # constraining ra and dec in 'world' between -180 to 180 deg.\n",
    "    pos = np.where(world>180.)\n",
    "    world[pos] = world[pos] - 360.\n",
    "    pos = np.where(world<-180.)\n",
    "    world[pos] = world[pos] + 360.\n",
    "    \n",
    "    return world.T.flatten()"
   ]
  },
  {
   "cell_type": "markdown",
   "metadata": {},
   "source": [
    "Then, we make an array of the coordinates on the focal plane."
   ]
  },
  {
   "cell_type": "code",
   "execution_count": 8,
   "metadata": {},
   "outputs": [],
   "source": [
    "pixcrd = np.concatenate(([data['x']],[data['y']])).T"
   ]
  },
  {
   "cell_type": "code",
   "execution_count": 9,
   "metadata": {},
   "outputs": [
    {
     "name": "stderr",
     "output_type": "stream",
     "text": [
      "2021-07-10 12:34:49,709  DEBUG  common.leastsquare : Solving with least square calculation (iteration = 1, norm = 4.794988)\n",
      "2021-07-10 12:34:49,718  DEBUG  common.leastsquare : Solving with least square calculation (iteration = 2, norm = 9.911833)\n",
      "2021-07-10 12:34:49,725  DEBUG  common.leastsquare : Solving with least square calculation (iteration = 3, norm = 0.010124)\n",
      "2021-07-10 12:34:49,733  DEBUG  common.leastsquare : Solving with least square calculation (iteration = 4, norm = 0.000152)\n",
      "2021-07-10 12:34:49,741  DEBUG  common.leastsquare : Solving with least square calculation (iteration = 5, norm = 0.000000)\n",
      "2021-07-10 12:34:49,748  DEBUG  common.leastsquare : Solving with least square calculation (iteration = 6, norm = 0.000000)\n",
      "2021-07-10 12:34:49,756  DEBUG  common.leastsquare : Solving with least square calculation (iteration = 7, norm = 0.000000)\n",
      "2021-07-10 12:34:49,763  DEBUG  common.leastsquare : Solving with least square calculation (iteration = 8, norm = 0.000000)\n",
      "2021-07-10 12:34:49,771  DEBUG  common.leastsquare : Solving with least square calculation (iteration = 9, norm = 0.000000)\n",
      "2021-07-10 12:34:49,778  DEBUG  common.leastsquare : Solving with least square calculation (iteration = 10, norm = 0.000000)\n",
      "2021-07-10 12:34:49,786  DEBUG  common.leastsquare : Solving with least square calculation (iteration = 11, norm = 0.000000)\n",
      "2021-07-10 12:34:49,793  DEBUG  common.leastsquare : Solving with least square calculation (iteration = 12, norm = 0.000000)\n",
      "2021-07-10 12:34:49,801  DEBUG  common.leastsquare : Solving with least square calculation (iteration = 13, norm = 0.000000)\n",
      "2021-07-10 12:34:49,808  DEBUG  common.leastsquare : Solving with least square calculation (iteration = 14, norm = 0.000000)\n",
      "2021-07-10 12:34:49,816  DEBUG  common.leastsquare : Solving with least square calculation (iteration = 15, norm = 0.000000)\n",
      "2021-07-10 12:34:49,824  DEBUG  common.leastsquare : Solving with least square calculation (iteration = 16, norm = 0.000000)\n",
      "2021-07-10 12:34:49,831  DEBUG  common.leastsquare : Solving with least square calculation (iteration = 17, norm = 0.000000)\n",
      "2021-07-10 12:34:49,839  DEBUG  common.leastsquare : Solving with least square calculation (iteration = 18, norm = 0.000000)\n",
      "2021-07-10 12:34:49,847  DEBUG  common.leastsquare : Solving with least square calculation (iteration = 19, norm = 0.000000)\n",
      "2021-07-10 12:34:49,854  DEBUG  common.leastsquare : Solving with least square calculation (iteration = 20, norm = 0.000000)\n",
      "2021-07-10 12:34:49,862  DEBUG  common.leastsquare : Solving with least square calculation (iteration = 21, norm = 0.000000)\n",
      "2021-07-10 12:34:49,869  DEBUG  common.leastsquare : Solving with least square calculation (iteration = 22, norm = 0.000000)\n",
      "2021-07-10 12:34:49,877  DEBUG  common.leastsquare : Solving with least square calculation (iteration = 23, norm = 0.000000)\n",
      "2021-07-10 12:34:49,885  DEBUG  common.leastsquare : Solving with least square calculation (iteration = 24, norm = 0.000000)\n",
      "2021-07-10 12:34:49,892  DEBUG  common.leastsquare : Solving with least square calculation (iteration = 25, norm = 0.000000)\n",
      "2021-07-10 12:34:49,900  DEBUG  common.leastsquare : Solving with least square calculation (iteration = 26, norm = 0.000000)\n",
      "2021-07-10 12:34:49,907  DEBUG  common.leastsquare : Solving with least square calculation (iteration = 27, norm = 0.000000)\n",
      "2021-07-10 12:34:49,915  DEBUG  common.leastsquare : Solving with least square calculation (iteration = 28, norm = 0.000000)\n",
      "2021-07-10 12:34:49,923  DEBUG  common.leastsquare : Solving with least square calculation (iteration = 29, norm = 0.000000)\n",
      "2021-07-10 12:34:49,931  DEBUG  common.leastsquare : Solving with least square calculation (iteration = 30, norm = 0.000000)\n",
      "2021-07-10 12:34:49,938  DEBUG  common.leastsquare : Solving with least square calculation (iteration = 31, norm = 0.000000)\n",
      "2021-07-10 12:34:49,946  DEBUG  common.leastsquare : Solving with least square calculation (iteration = 32, norm = 0.000000)\n",
      "2021-07-10 12:34:49,954  DEBUG  common.leastsquare : Solving with least square calculation (iteration = 33, norm = 0.000000)\n",
      "2021-07-10 12:34:49,961  DEBUG  common.leastsquare : Solving with least square calculation (iteration = 34, norm = 0.000000)\n",
      "2021-07-10 12:34:49,969  DEBUG  common.leastsquare : Solving with least square calculation (iteration = 35, norm = 0.000000)\n",
      "2021-07-10 12:34:49,977  DEBUG  common.leastsquare : Solving with least square calculation (iteration = 36, norm = 0.000000)\n",
      "2021-07-10 12:34:49,985  DEBUG  common.leastsquare : Solving with least square calculation (iteration = 37, norm = 0.000000)\n",
      "2021-07-10 12:34:49,992  DEBUG  common.leastsquare : Solving with least square calculation (iteration = 38, norm = 0.000000)\n",
      "2021-07-10 12:34:50,000  DEBUG  common.leastsquare : Solving with least square calculation (iteration = 39, norm = 0.000000)\n",
      "2021-07-10 12:34:50,008  DEBUG  common.leastsquare : Solving with least square calculation (iteration = 40, norm = 0.000000)\n",
      "2021-07-10 12:34:50,015  DEBUG  common.leastsquare : Solving with least square calculation (iteration = 41, norm = 0.000000)\n",
      "2021-07-10 12:34:50,023  DEBUG  common.leastsquare : Solving with least square calculation (iteration = 42, norm = 0.000000)\n",
      "2021-07-10 12:34:50,031  DEBUG  common.leastsquare : Solving with least square calculation (iteration = 43, norm = 0.000000)\n",
      "2021-07-10 12:34:50,038  DEBUG  common.leastsquare : Solving with least square calculation (iteration = 44, norm = 0.000000)\n",
      "2021-07-10 12:34:50,046  DEBUG  common.leastsquare : Solving with least square calculation (iteration = 45, norm = 0.000000)\n",
      "2021-07-10 12:34:50,054  DEBUG  common.leastsquare : Solving with least square calculation (iteration = 46, norm = 0.000000)\n",
      "2021-07-10 12:34:50,061  DEBUG  common.leastsquare : Solving with least square calculation (iteration = 47, norm = 0.000000)\n",
      "2021-07-10 12:34:50,069  DEBUG  common.leastsquare : Solving with least square calculation (iteration = 48, norm = 0.000000)\n",
      "2021-07-10 12:34:50,076  DEBUG  common.leastsquare : Solving with least square calculation (iteration = 49, norm = 0.000000)\n",
      "2021-07-10 12:34:50,084  DEBUG  common.leastsquare : Solving with least square calculation (iteration = 50, norm = 0.000000)\n",
      "2021-07-10 12:34:50,092  DEBUG  common.leastsquare : Solving with least square calculation (iteration = 51, norm = 0.000000)\n",
      "2021-07-10 12:34:50,099  DEBUG  common.leastsquare : Solving with least square calculation (iteration = 52, norm = 0.000000)\n",
      "2021-07-10 12:34:50,107  DEBUG  common.leastsquare : Solving with least square calculation (iteration = 53, norm = 0.000000)\n",
      "2021-07-10 12:34:50,115  DEBUG  common.leastsquare : Solving with least square calculation (iteration = 54, norm = 0.000000)\n",
      "2021-07-10 12:34:50,122  DEBUG  common.leastsquare : Solving with least square calculation (iteration = 55, norm = 0.000000)\n",
      "2021-07-10 12:34:50,130  DEBUG  common.leastsquare : Solving with least square calculation (iteration = 56, norm = 0.000000)\n",
      "2021-07-10 12:34:50,138  DEBUG  common.leastsquare : Solving with least square calculation (iteration = 57, norm = 0.000000)\n",
      "2021-07-10 12:34:50,148  DEBUG  common.leastsquare : Solving with least square calculation (iteration = 58, norm = 0.000000)\n",
      "2021-07-10 12:34:50,157  DEBUG  common.leastsquare : Solving with least square calculation (iteration = 59, norm = 0.000000)\n",
      "2021-07-10 12:34:50,167  DEBUG  common.leastsquare : Solving with least square calculation (iteration = 60, norm = 0.000000)\n",
      "2021-07-10 12:34:50,176  DEBUG  common.leastsquare : Solving with least square calculation (iteration = 61, norm = 0.000000)\n",
      "2021-07-10 12:34:50,186  DEBUG  common.leastsquare : Solving with least square calculation (iteration = 62, norm = 0.000000)\n",
      "2021-07-10 12:34:50,195  DEBUG  common.leastsquare : Solving with least square calculation (iteration = 63, norm = 0.000000)\n",
      "2021-07-10 12:34:50,204  DEBUG  common.leastsquare : Solving with least square calculation (iteration = 64, norm = 0.000000)\n",
      "2021-07-10 12:34:50,214  DEBUG  common.leastsquare : Solving with least square calculation (iteration = 65, norm = 0.000000)\n",
      "2021-07-10 12:34:50,223  DEBUG  common.leastsquare : Solving with least square calculation (iteration = 66, norm = 0.000000)\n",
      "2021-07-10 12:34:50,233  DEBUG  common.leastsquare : Solving with least square calculation (iteration = 67, norm = 0.000000)\n",
      "2021-07-10 12:34:50,242  DEBUG  common.leastsquare : Solving with least square calculation (iteration = 68, norm = 0.000000)\n",
      "2021-07-10 12:34:50,251  DEBUG  common.leastsquare : Solving with least square calculation (iteration = 69, norm = 0.000000)\n",
      "2021-07-10 12:34:50,263  DEBUG  common.leastsquare : Solving with least square calculation (iteration = 70, norm = 0.000000)\n",
      "2021-07-10 12:34:50,274  DEBUG  common.leastsquare : Solving with least square calculation (iteration = 71, norm = 0.000000)\n",
      "2021-07-10 12:34:50,283  DEBUG  common.leastsquare : Solving with least square calculation (iteration = 72, norm = 0.000000)\n",
      "2021-07-10 12:34:50,292  DEBUG  common.leastsquare : Solving with least square calculation (iteration = 73, norm = 0.000000)\n",
      "2021-07-10 12:34:50,301  DEBUG  common.leastsquare : Solving with least square calculation (iteration = 74, norm = 0.000000)\n",
      "2021-07-10 12:34:50,310  DEBUG  common.leastsquare : Solving with least square calculation (iteration = 75, norm = 0.000000)\n",
      "2021-07-10 12:34:50,319  DEBUG  common.leastsquare : Solving with least square calculation (iteration = 76, norm = 0.000000)\n",
      "2021-07-10 12:34:50,327  DEBUG  common.leastsquare : Solving with least square calculation (iteration = 77, norm = 0.000000)\n",
      "2021-07-10 12:34:50,335  DEBUG  common.leastsquare : Solving with least square calculation (iteration = 78, norm = 0.000000)\n",
      "2021-07-10 12:34:50,343  DEBUG  common.leastsquare : Solving with least square calculation (iteration = 79, norm = 0.000000)\n",
      "2021-07-10 12:34:50,351  DEBUG  common.leastsquare : Solving with least square calculation (iteration = 80, norm = 0.000000)\n",
      "2021-07-10 12:34:50,358  DEBUG  common.leastsquare : Solving with least square calculation (iteration = 81, norm = 0.000000)\n",
      "2021-07-10 12:34:50,366  DEBUG  common.leastsquare : Solving with least square calculation (iteration = 82, norm = 0.000000)\n",
      "2021-07-10 12:34:50,374  DEBUG  common.leastsquare : Solving with least square calculation (iteration = 83, norm = 0.000000)\n",
      "2021-07-10 12:34:50,381  DEBUG  common.leastsquare : Solving with least square calculation (iteration = 84, norm = 0.000000)\n",
      "2021-07-10 12:34:50,389  DEBUG  common.leastsquare : Solving with least square calculation (iteration = 85, norm = 0.000000)\n",
      "2021-07-10 12:34:50,397  DEBUG  common.leastsquare : Solving with least square calculation (iteration = 86, norm = 0.000000)\n",
      "2021-07-10 12:34:50,404  DEBUG  common.leastsquare : Solving with least square calculation (iteration = 87, norm = 0.000000)\n",
      "2021-07-10 12:34:50,412  DEBUG  common.leastsquare : Solving with least square calculation (iteration = 88, norm = 0.000000)\n",
      "2021-07-10 12:34:50,422  DEBUG  common.leastsquare : Solving with least square calculation (iteration = 89, norm = 0.000000)\n",
      "2021-07-10 12:34:50,431  DEBUG  common.leastsquare : Solving with least square calculation (iteration = 90, norm = 0.000000)\n",
      "2021-07-10 12:34:50,440  DEBUG  common.leastsquare : Solving with least square calculation (iteration = 91, norm = 0.000000)\n",
      "2021-07-10 12:34:50,450  DEBUG  common.leastsquare : Solving with least square calculation (iteration = 92, norm = 0.000000)\n",
      "2021-07-10 12:34:50,459  DEBUG  common.leastsquare : Solving with least square calculation (iteration = 93, norm = 0.000000)\n",
      "2021-07-10 12:34:50,468  DEBUG  common.leastsquare : Solving with least square calculation (iteration = 94, norm = 0.000000)\n",
      "2021-07-10 12:34:50,478  DEBUG  common.leastsquare : Solving with least square calculation (iteration = 95, norm = 0.000000)\n",
      "2021-07-10 12:34:50,487  DEBUG  common.leastsquare : Solving with least square calculation (iteration = 96, norm = 0.000000)\n",
      "2021-07-10 12:34:50,496  DEBUG  common.leastsquare : Solving with least square calculation (iteration = 97, norm = 0.000000)\n",
      "2021-07-10 12:34:50,505  DEBUG  common.leastsquare : Solving with least square calculation (iteration = 98, norm = 0.000000)\n",
      "2021-07-10 12:34:50,515  DEBUG  common.leastsquare : Solving with least square calculation (iteration = 99, norm = 0.000000)\n",
      "2021-07-10 12:34:50,524  DEBUG  common.leastsquare : Solving with least square calculation (iteration = 100, norm = 0.000000)\n"
     ]
    },
    {
     "name": "stdout",
     "output_type": "stream",
     "text": [
      "Center R.A.   : -0.008630 deg.\n",
      "Center Dec.   : 0.003884 deg.\n",
      "Position angle: 185.126878 deg.\n",
      "Plate scale   : 7.918986e-03 deg/mm\n"
     ]
    }
   ],
   "source": [
    "from common.leastsquare import LeastSquare\n",
    "\n",
    "ls = LeastSquare(lambda a: model_wo_distortion(a, pixcrd), np.size(data['x'])*2)\n",
    "\n",
    "# constructing a_init (initial parameter set).\n",
    "a_init = [ra0.value, dec0.value, pa0.value, scale0.value]\n",
    "a_init = np.array(a_init) # This must be an ndarray.\n",
    "\n",
    "# constraining ra/dec values in 'observed' between -180 and 180 deg.\n",
    "true_pos = np.concatenate((data['ra'], data['dec']))\n",
    "pos = np.where(true_pos>180.)\n",
    "true_pos[pos] = true_pos[pos] - 360.\n",
    "pos = np.where(true_pos<-180.)\n",
    "true_pos[pos] = true_pos[pos] + 360.\n",
    "\n",
    "result, _ = ls.solve(true_pos, a_init, max_iteration=100)\n",
    "\n",
    "if result[3] < 0:\n",
    "    result[3] = -result[3]\n",
    "    result[2] = result[2] + 180.0\n",
    "\n",
    "if result[2] > 360.0 or result[2] < 0.0:\n",
    "    result[2] = result[2]%360.0\n",
    "\n",
    "# Showing the results.\n",
    "print(\"Center R.A.   : {:f} deg.\".format(result[0]))\n",
    "print(\"Center Dec.   : {:f} deg.\".format(result[1]))\n",
    "print(\"Position angle: {:f} deg.\".format(result[2]))\n",
    "print(\"Plate scale   : {:e} deg/mm\".format(result[3]))\n",
    "    \n",
    "# Updating the field parameters.\n",
    "ra0    = result[0] * u.deg\n",
    "dec0   = result[1] * u.deg\n",
    "pa0    = result[2] * u.deg\n",
    "scale0 = result[3] * u.deg/u.mm"
   ]
  },
  {
   "cell_type": "markdown",
   "metadata": {},
   "source": [
    "We define a model function which calculates RA and Dec from the position on the focal plane with considering the distortion. It is represented by the Sip function implemented to astropy.wcs."
   ]
  },
  {
   "cell_type": "code",
   "execution_count": 10,
   "metadata": {},
   "outputs": [],
   "source": [
    "def model(params, pxcrd, sip_order):\n",
    "    # params must be an ndarray of dimension-less values.\n",
    "    # assuming params = [ra, dec, pa, scale, a00, a01, ..., a0m, a10, a11, ..., amm, b00, b01, ..., bmm].\n",
    "    ra_ptg  = params[0] # value in deg.\n",
    "    dec_ptg = params[1] # value in deg.\n",
    "    pa_ptg  = params[2] # value in deg.\n",
    "    scale   = params[3] # value in deg/mm.\n",
    "    a = params[4:4+(sip_order+1)**2].reshape((sip_order+1, sip_order+1))\n",
    "    b = params[4+(sip_order+1)**2:4+2*(sip_order+1)**2].reshape((sip_order+1, sip_order+1))\n",
    "    # constraining some parametes to be zero.\n",
    "    m, n = np.indices((sip_order+1, sip_order+1))\n",
    "    pos = np.where((m+n==0)+(m+n==1)+(m+n>sip_order))\n",
    "    a[pos] = 0.\n",
    "    b[pos] = 0.\n",
    "    \n",
    "    w = wcs(ra_ptg, dec_ptg, pa_ptg, scale, a, b)\n",
    "    world = w.all_pix2world(pixcrd, 0)\n",
    "\n",
    "    # constraining ra and dec in 'world' between -180 to 180 deg.\n",
    "    pos = np.where(world>180.)\n",
    "    world[pos] = world[pos] - 360.\n",
    "    pos = np.where(world<-180.)\n",
    "    world[pos] = world[pos] + 360.\n",
    "    \n",
    "    return world.T.flatten()"
   ]
  },
  {
   "cell_type": "markdown",
   "metadata": {},
   "source": [
    "And now, we estimate the field and distortion parameters with the LeastSquare module. Here, we set the sip order to be 4."
   ]
  },
  {
   "cell_type": "code",
   "execution_count": 11,
   "metadata": {},
   "outputs": [
    {
     "name": "stderr",
     "output_type": "stream",
     "text": [
      "2021-07-10 12:34:55,918  WARNING  common.leastsquare : Cannot calculate inverse matrix. Calculate pseudo-inverse matrix instead.\n",
      "2021-07-10 12:34:55,920  DEBUG  common.leastsquare : Solving with least square calculation (iteration = 1, norm = 0.007582)\n",
      "2021-07-10 12:34:56,013  WARNING  common.leastsquare : Cannot calculate inverse matrix. Calculate pseudo-inverse matrix instead.\n",
      "2021-07-10 12:34:56,015  DEBUG  common.leastsquare : Solving with least square calculation (iteration = 2, norm = 0.000124)\n",
      "2021-07-10 12:34:56,146  WARNING  common.leastsquare : Cannot calculate inverse matrix. Calculate pseudo-inverse matrix instead.\n",
      "2021-07-10 12:34:56,148  DEBUG  common.leastsquare : Solving with least square calculation (iteration = 3, norm = 0.000000)\n",
      "2021-07-10 12:34:56,246  WARNING  common.leastsquare : Cannot calculate inverse matrix. Calculate pseudo-inverse matrix instead.\n",
      "2021-07-10 12:34:56,248  DEBUG  common.leastsquare : Solving with least square calculation (iteration = 4, norm = 0.000000)\n",
      "2021-07-10 12:34:56,343  WARNING  common.leastsquare : Cannot calculate inverse matrix. Calculate pseudo-inverse matrix instead.\n",
      "2021-07-10 12:34:56,345  DEBUG  common.leastsquare : Solving with least square calculation (iteration = 5, norm = 0.000000)\n",
      "2021-07-10 12:34:56,439  WARNING  common.leastsquare : Cannot calculate inverse matrix. Calculate pseudo-inverse matrix instead.\n",
      "2021-07-10 12:34:56,441  DEBUG  common.leastsquare : Solving with least square calculation (iteration = 6, norm = 0.000000)\n",
      "2021-07-10 12:34:56,535  WARNING  common.leastsquare : Cannot calculate inverse matrix. Calculate pseudo-inverse matrix instead.\n",
      "2021-07-10 12:34:56,538  DEBUG  common.leastsquare : Solving with least square calculation (iteration = 7, norm = 0.000000)\n",
      "2021-07-10 12:34:56,672  WARNING  common.leastsquare : Cannot calculate inverse matrix. Calculate pseudo-inverse matrix instead.\n",
      "2021-07-10 12:34:56,674  DEBUG  common.leastsquare : Solving with least square calculation (iteration = 8, norm = 0.000000)\n",
      "2021-07-10 12:34:56,774  WARNING  common.leastsquare : Cannot calculate inverse matrix. Calculate pseudo-inverse matrix instead.\n",
      "2021-07-10 12:34:56,776  DEBUG  common.leastsquare : Solving with least square calculation (iteration = 9, norm = 0.000000)\n",
      "2021-07-10 12:34:56,869  WARNING  common.leastsquare : Cannot calculate inverse matrix. Calculate pseudo-inverse matrix instead.\n",
      "2021-07-10 12:34:56,871  DEBUG  common.leastsquare : Solving with least square calculation (iteration = 10, norm = 0.000000)\n",
      "2021-07-10 12:34:56,965  WARNING  common.leastsquare : Cannot calculate inverse matrix. Calculate pseudo-inverse matrix instead.\n",
      "2021-07-10 12:34:56,967  DEBUG  common.leastsquare : Solving with least square calculation (iteration = 11, norm = 0.000000)\n",
      "2021-07-10 12:34:57,093  WARNING  common.leastsquare : Cannot calculate inverse matrix. Calculate pseudo-inverse matrix instead.\n",
      "2021-07-10 12:34:57,095  DEBUG  common.leastsquare : Solving with least square calculation (iteration = 12, norm = 0.000000)\n",
      "2021-07-10 12:34:57,189  WARNING  common.leastsquare : Cannot calculate inverse matrix. Calculate pseudo-inverse matrix instead.\n",
      "2021-07-10 12:34:57,191  DEBUG  common.leastsquare : Solving with least square calculation (iteration = 13, norm = 0.000000)\n",
      "2021-07-10 12:34:57,284  WARNING  common.leastsquare : Cannot calculate inverse matrix. Calculate pseudo-inverse matrix instead.\n",
      "2021-07-10 12:34:57,286  DEBUG  common.leastsquare : Solving with least square calculation (iteration = 14, norm = 0.000000)\n",
      "2021-07-10 12:34:57,391  WARNING  common.leastsquare : Cannot calculate inverse matrix. Calculate pseudo-inverse matrix instead.\n",
      "2021-07-10 12:34:57,399  DEBUG  common.leastsquare : Solving with least square calculation (iteration = 15, norm = 0.000000)\n",
      "2021-07-10 12:34:57,457  WARNING  common.leastsquare : Cannot calculate inverse matrix. Calculate pseudo-inverse matrix instead.\n",
      "2021-07-10 12:34:57,459  DEBUG  common.leastsquare : Solving with least square calculation (iteration = 16, norm = 0.000000)\n",
      "2021-07-10 12:34:57,514  WARNING  common.leastsquare : Cannot calculate inverse matrix. Calculate pseudo-inverse matrix instead.\n",
      "2021-07-10 12:34:57,516  DEBUG  common.leastsquare : Solving with least square calculation (iteration = 17, norm = 0.000000)\n",
      "2021-07-10 12:34:57,630  WARNING  common.leastsquare : Cannot calculate inverse matrix. Calculate pseudo-inverse matrix instead.\n",
      "2021-07-10 12:34:57,633  DEBUG  common.leastsquare : Solving with least square calculation (iteration = 18, norm = 0.000000)\n",
      "2021-07-10 12:34:57,779  WARNING  common.leastsquare : Cannot calculate inverse matrix. Calculate pseudo-inverse matrix instead.\n",
      "2021-07-10 12:34:57,781  DEBUG  common.leastsquare : Solving with least square calculation (iteration = 19, norm = 0.000000)\n",
      "2021-07-10 12:34:57,874  WARNING  common.leastsquare : Cannot calculate inverse matrix. Calculate pseudo-inverse matrix instead.\n",
      "2021-07-10 12:34:57,876  DEBUG  common.leastsquare : Solving with least square calculation (iteration = 20, norm = 0.000000)\n",
      "2021-07-10 12:34:58,004  WARNING  common.leastsquare : Cannot calculate inverse matrix. Calculate pseudo-inverse matrix instead.\n",
      "2021-07-10 12:34:58,006  DEBUG  common.leastsquare : Solving with least square calculation (iteration = 21, norm = 0.000000)\n",
      "2021-07-10 12:34:58,102  WARNING  common.leastsquare : Cannot calculate inverse matrix. Calculate pseudo-inverse matrix instead.\n",
      "2021-07-10 12:34:58,104  DEBUG  common.leastsquare : Solving with least square calculation (iteration = 22, norm = 0.000000)\n",
      "2021-07-10 12:34:58,197  WARNING  common.leastsquare : Cannot calculate inverse matrix. Calculate pseudo-inverse matrix instead.\n",
      "2021-07-10 12:34:58,199  DEBUG  common.leastsquare : Solving with least square calculation (iteration = 23, norm = 0.000000)\n",
      "2021-07-10 12:34:58,293  WARNING  common.leastsquare : Cannot calculate inverse matrix. Calculate pseudo-inverse matrix instead.\n",
      "2021-07-10 12:34:58,295  DEBUG  common.leastsquare : Solving with least square calculation (iteration = 24, norm = 0.000000)\n",
      "2021-07-10 12:34:58,388  WARNING  common.leastsquare : Cannot calculate inverse matrix. Calculate pseudo-inverse matrix instead.\n",
      "2021-07-10 12:34:58,390  DEBUG  common.leastsquare : Solving with least square calculation (iteration = 25, norm = 0.000000)\n",
      "2021-07-10 12:34:58,483  WARNING  common.leastsquare : Cannot calculate inverse matrix. Calculate pseudo-inverse matrix instead.\n",
      "2021-07-10 12:34:58,485  DEBUG  common.leastsquare : Solving with least square calculation (iteration = 26, norm = 0.000000)\n",
      "2021-07-10 12:34:58,579  WARNING  common.leastsquare : Cannot calculate inverse matrix. Calculate pseudo-inverse matrix instead.\n",
      "2021-07-10 12:34:58,581  DEBUG  common.leastsquare : Solving with least square calculation (iteration = 27, norm = 0.000000)\n",
      "2021-07-10 12:34:58,714  WARNING  common.leastsquare : Cannot calculate inverse matrix. Calculate pseudo-inverse matrix instead.\n",
      "2021-07-10 12:34:58,716  DEBUG  common.leastsquare : Solving with least square calculation (iteration = 28, norm = 0.000000)\n",
      "2021-07-10 12:34:58,816  WARNING  common.leastsquare : Cannot calculate inverse matrix. Calculate pseudo-inverse matrix instead.\n",
      "2021-07-10 12:34:58,818  DEBUG  common.leastsquare : Solving with least square calculation (iteration = 29, norm = 0.000000)\n",
      "2021-07-10 12:34:58,934  WARNING  common.leastsquare : Cannot calculate inverse matrix. Calculate pseudo-inverse matrix instead.\n",
      "2021-07-10 12:34:58,939  DEBUG  common.leastsquare : Solving with least square calculation (iteration = 30, norm = 0.000000)\n",
      "2021-07-10 12:34:59,034  WARNING  common.leastsquare : Cannot calculate inverse matrix. Calculate pseudo-inverse matrix instead.\n",
      "2021-07-10 12:34:59,038  DEBUG  common.leastsquare : Solving with least square calculation (iteration = 31, norm = 0.000000)\n",
      "2021-07-10 12:34:59,133  WARNING  common.leastsquare : Cannot calculate inverse matrix. Calculate pseudo-inverse matrix instead.\n",
      "2021-07-10 12:34:59,138  DEBUG  common.leastsquare : Solving with least square calculation (iteration = 32, norm = 0.000000)\n",
      "2021-07-10 12:34:59,232  WARNING  common.leastsquare : Cannot calculate inverse matrix. Calculate pseudo-inverse matrix instead.\n",
      "2021-07-10 12:34:59,237  DEBUG  common.leastsquare : Solving with least square calculation (iteration = 33, norm = 0.000000)\n",
      "2021-07-10 12:34:59,371  WARNING  common.leastsquare : Cannot calculate inverse matrix. Calculate pseudo-inverse matrix instead.\n",
      "2021-07-10 12:34:59,376  DEBUG  common.leastsquare : Solving with least square calculation (iteration = 34, norm = 0.000000)\n",
      "2021-07-10 12:34:59,516  WARNING  common.leastsquare : Cannot calculate inverse matrix. Calculate pseudo-inverse matrix instead.\n",
      "2021-07-10 12:34:59,521  DEBUG  common.leastsquare : Solving with least square calculation (iteration = 35, norm = 0.000000)\n",
      "2021-07-10 12:34:59,623  WARNING  common.leastsquare : Cannot calculate inverse matrix. Calculate pseudo-inverse matrix instead.\n",
      "2021-07-10 12:34:59,627  DEBUG  common.leastsquare : Solving with least square calculation (iteration = 36, norm = 0.000000)\n",
      "2021-07-10 12:34:59,721  WARNING  common.leastsquare : Cannot calculate inverse matrix. Calculate pseudo-inverse matrix instead.\n",
      "2021-07-10 12:34:59,726  DEBUG  common.leastsquare : Solving with least square calculation (iteration = 37, norm = 0.000000)\n",
      "2021-07-10 12:34:59,821  WARNING  common.leastsquare : Cannot calculate inverse matrix. Calculate pseudo-inverse matrix instead.\n",
      "2021-07-10 12:34:59,826  DEBUG  common.leastsquare : Solving with least square calculation (iteration = 38, norm = 0.000000)\n",
      "2021-07-10 12:34:59,920  WARNING  common.leastsquare : Cannot calculate inverse matrix. Calculate pseudo-inverse matrix instead.\n",
      "2021-07-10 12:34:59,925  DEBUG  common.leastsquare : Solving with least square calculation (iteration = 39, norm = 0.000000)\n",
      "2021-07-10 12:35:00,049  WARNING  common.leastsquare : Cannot calculate inverse matrix. Calculate pseudo-inverse matrix instead.\n",
      "2021-07-10 12:35:00,054  DEBUG  common.leastsquare : Solving with least square calculation (iteration = 40, norm = 0.000000)\n",
      "2021-07-10 12:35:00,149  WARNING  common.leastsquare : Cannot calculate inverse matrix. Calculate pseudo-inverse matrix instead.\n",
      "2021-07-10 12:35:00,154  DEBUG  common.leastsquare : Solving with least square calculation (iteration = 41, norm = 0.000000)\n",
      "2021-07-10 12:35:00,249  WARNING  common.leastsquare : Cannot calculate inverse matrix. Calculate pseudo-inverse matrix instead.\n",
      "2021-07-10 12:35:00,256  DEBUG  common.leastsquare : Solving with least square calculation (iteration = 42, norm = 0.000000)\n",
      "2021-07-10 12:35:00,351  WARNING  common.leastsquare : Cannot calculate inverse matrix. Calculate pseudo-inverse matrix instead.\n",
      "2021-07-10 12:35:00,356  DEBUG  common.leastsquare : Solving with least square calculation (iteration = 43, norm = 0.000000)\n",
      "2021-07-10 12:35:00,450  WARNING  common.leastsquare : Cannot calculate inverse matrix. Calculate pseudo-inverse matrix instead.\n",
      "2021-07-10 12:35:00,457  DEBUG  common.leastsquare : Solving with least square calculation (iteration = 44, norm = 0.000000)\n",
      "2021-07-10 12:35:00,593  WARNING  common.leastsquare : Cannot calculate inverse matrix. Calculate pseudo-inverse matrix instead.\n",
      "2021-07-10 12:35:00,597  DEBUG  common.leastsquare : Solving with least square calculation (iteration = 45, norm = 0.000000)\n",
      "2021-07-10 12:35:00,700  WARNING  common.leastsquare : Cannot calculate inverse matrix. Calculate pseudo-inverse matrix instead.\n",
      "2021-07-10 12:35:00,704  DEBUG  common.leastsquare : Solving with least square calculation (iteration = 46, norm = 0.000000)\n",
      "2021-07-10 12:35:00,800  WARNING  common.leastsquare : Cannot calculate inverse matrix. Calculate pseudo-inverse matrix instead.\n",
      "2021-07-10 12:35:00,804  DEBUG  common.leastsquare : Solving with least square calculation (iteration = 47, norm = 0.000000)\n",
      "2021-07-10 12:35:00,939  WARNING  common.leastsquare : Cannot calculate inverse matrix. Calculate pseudo-inverse matrix instead.\n",
      "2021-07-10 12:35:00,944  DEBUG  common.leastsquare : Solving with least square calculation (iteration = 48, norm = 0.000000)\n",
      "2021-07-10 12:35:01,047  WARNING  common.leastsquare : Cannot calculate inverse matrix. Calculate pseudo-inverse matrix instead.\n",
      "2021-07-10 12:35:01,051  DEBUG  common.leastsquare : Solving with least square calculation (iteration = 49, norm = 0.000000)\n",
      "2021-07-10 12:35:01,146  WARNING  common.leastsquare : Cannot calculate inverse matrix. Calculate pseudo-inverse matrix instead.\n",
      "2021-07-10 12:35:01,151  DEBUG  common.leastsquare : Solving with least square calculation (iteration = 50, norm = 0.000000)\n",
      "2021-07-10 12:35:01,246  WARNING  common.leastsquare : Cannot calculate inverse matrix. Calculate pseudo-inverse matrix instead.\n",
      "2021-07-10 12:35:01,250  DEBUG  common.leastsquare : Solving with least square calculation (iteration = 51, norm = 0.000000)\n",
      "2021-07-10 12:35:01,345  WARNING  common.leastsquare : Cannot calculate inverse matrix. Calculate pseudo-inverse matrix instead.\n",
      "2021-07-10 12:35:01,350  DEBUG  common.leastsquare : Solving with least square calculation (iteration = 52, norm = 0.000000)\n",
      "2021-07-10 12:35:01,484  WARNING  common.leastsquare : Cannot calculate inverse matrix. Calculate pseudo-inverse matrix instead.\n",
      "2021-07-10 12:35:01,489  DEBUG  common.leastsquare : Solving with least square calculation (iteration = 53, norm = 0.000000)\n",
      "2021-07-10 12:35:01,616  WARNING  common.leastsquare : Cannot calculate inverse matrix. Calculate pseudo-inverse matrix instead.\n",
      "2021-07-10 12:35:01,621  DEBUG  common.leastsquare : Solving with least square calculation (iteration = 54, norm = 0.000000)\n",
      "2021-07-10 12:35:01,716  WARNING  common.leastsquare : Cannot calculate inverse matrix. Calculate pseudo-inverse matrix instead.\n",
      "2021-07-10 12:35:01,721  DEBUG  common.leastsquare : Solving with least square calculation (iteration = 55, norm = 0.000000)\n",
      "2021-07-10 12:35:01,816  WARNING  common.leastsquare : Cannot calculate inverse matrix. Calculate pseudo-inverse matrix instead.\n",
      "2021-07-10 12:35:01,820  DEBUG  common.leastsquare : Solving with least square calculation (iteration = 56, norm = 0.000000)\n",
      "2021-07-10 12:35:01,914  WARNING  common.leastsquare : Cannot calculate inverse matrix. Calculate pseudo-inverse matrix instead.\n",
      "2021-07-10 12:35:01,919  DEBUG  common.leastsquare : Solving with least square calculation (iteration = 57, norm = 0.000000)\n",
      "2021-07-10 12:35:02,013  WARNING  common.leastsquare : Cannot calculate inverse matrix. Calculate pseudo-inverse matrix instead.\n",
      "2021-07-10 12:35:02,018  DEBUG  common.leastsquare : Solving with least square calculation (iteration = 58, norm = 0.000000)\n",
      "2021-07-10 12:35:02,112  WARNING  common.leastsquare : Cannot calculate inverse matrix. Calculate pseudo-inverse matrix instead.\n",
      "2021-07-10 12:35:02,116  DEBUG  common.leastsquare : Solving with least square calculation (iteration = 59, norm = 0.000000)\n",
      "2021-07-10 12:35:02,210  WARNING  common.leastsquare : Cannot calculate inverse matrix. Calculate pseudo-inverse matrix instead.\n",
      "2021-07-10 12:35:02,215  DEBUG  common.leastsquare : Solving with least square calculation (iteration = 60, norm = 0.000000)\n",
      "2021-07-10 12:35:02,308  WARNING  common.leastsquare : Cannot calculate inverse matrix. Calculate pseudo-inverse matrix instead.\n",
      "2021-07-10 12:35:02,313  DEBUG  common.leastsquare : Solving with least square calculation (iteration = 61, norm = 0.000000)\n",
      "2021-07-10 12:35:02,408  WARNING  common.leastsquare : Cannot calculate inverse matrix. Calculate pseudo-inverse matrix instead.\n",
      "2021-07-10 12:35:02,412  DEBUG  common.leastsquare : Solving with least square calculation (iteration = 62, norm = 0.000000)\n",
      "2021-07-10 12:35:02,506  WARNING  common.leastsquare : Cannot calculate inverse matrix. Calculate pseudo-inverse matrix instead.\n",
      "2021-07-10 12:35:02,511  DEBUG  common.leastsquare : Solving with least square calculation (iteration = 63, norm = 0.000000)\n",
      "2021-07-10 12:35:02,605  WARNING  common.leastsquare : Cannot calculate inverse matrix. Calculate pseudo-inverse matrix instead.\n",
      "2021-07-10 12:35:02,610  DEBUG  common.leastsquare : Solving with least square calculation (iteration = 64, norm = 0.000000)\n",
      "2021-07-10 12:35:02,704  WARNING  common.leastsquare : Cannot calculate inverse matrix. Calculate pseudo-inverse matrix instead.\n",
      "2021-07-10 12:35:02,709  DEBUG  common.leastsquare : Solving with least square calculation (iteration = 65, norm = 0.000000)\n",
      "2021-07-10 12:35:02,835  WARNING  common.leastsquare : Cannot calculate inverse matrix. Calculate pseudo-inverse matrix instead.\n",
      "2021-07-10 12:35:02,840  DEBUG  common.leastsquare : Solving with least square calculation (iteration = 66, norm = 0.000000)\n",
      "2021-07-10 12:35:02,966  WARNING  common.leastsquare : Cannot calculate inverse matrix. Calculate pseudo-inverse matrix instead.\n",
      "2021-07-10 12:35:02,970  DEBUG  common.leastsquare : Solving with least square calculation (iteration = 67, norm = 0.000000)\n",
      "2021-07-10 12:35:03,065  WARNING  common.leastsquare : Cannot calculate inverse matrix. Calculate pseudo-inverse matrix instead.\n",
      "2021-07-10 12:35:03,067  DEBUG  common.leastsquare : Solving with least square calculation (iteration = 68, norm = 0.000000)\n",
      "2021-07-10 12:35:03,137  WARNING  common.leastsquare : Cannot calculate inverse matrix. Calculate pseudo-inverse matrix instead.\n",
      "2021-07-10 12:35:03,141  DEBUG  common.leastsquare : Solving with least square calculation (iteration = 69, norm = 0.000000)\n",
      "2021-07-10 12:35:03,277  WARNING  common.leastsquare : Cannot calculate inverse matrix. Calculate pseudo-inverse matrix instead.\n",
      "2021-07-10 12:35:03,281  DEBUG  common.leastsquare : Solving with least square calculation (iteration = 70, norm = 0.000000)\n",
      "2021-07-10 12:35:03,382  WARNING  common.leastsquare : Cannot calculate inverse matrix. Calculate pseudo-inverse matrix instead.\n",
      "2021-07-10 12:35:03,387  DEBUG  common.leastsquare : Solving with least square calculation (iteration = 71, norm = 0.000000)\n",
      "2021-07-10 12:35:03,481  WARNING  common.leastsquare : Cannot calculate inverse matrix. Calculate pseudo-inverse matrix instead.\n",
      "2021-07-10 12:35:03,486  DEBUG  common.leastsquare : Solving with least square calculation (iteration = 72, norm = 0.000000)\n",
      "2021-07-10 12:35:03,621  WARNING  common.leastsquare : Cannot calculate inverse matrix. Calculate pseudo-inverse matrix instead.\n",
      "2021-07-10 12:35:03,625  DEBUG  common.leastsquare : Solving with least square calculation (iteration = 73, norm = 0.000000)\n",
      "2021-07-10 12:35:03,727  WARNING  common.leastsquare : Cannot calculate inverse matrix. Calculate pseudo-inverse matrix instead.\n",
      "2021-07-10 12:35:03,731  DEBUG  common.leastsquare : Solving with least square calculation (iteration = 74, norm = 0.000000)\n",
      "2021-07-10 12:35:03,798  WARNING  common.leastsquare : Cannot calculate inverse matrix. Calculate pseudo-inverse matrix instead.\n",
      "2021-07-10 12:35:03,802  DEBUG  common.leastsquare : Solving with least square calculation (iteration = 75, norm = 0.000000)\n",
      "2021-07-10 12:35:03,906  WARNING  common.leastsquare : Cannot calculate inverse matrix. Calculate pseudo-inverse matrix instead.\n",
      "2021-07-10 12:35:03,913  DEBUG  common.leastsquare : Solving with least square calculation (iteration = 76, norm = 0.000000)\n",
      "2021-07-10 12:35:04,009  WARNING  common.leastsquare : Cannot calculate inverse matrix. Calculate pseudo-inverse matrix instead.\n",
      "2021-07-10 12:35:04,013  DEBUG  common.leastsquare : Solving with least square calculation (iteration = 77, norm = 0.000000)\n",
      "2021-07-10 12:35:04,159  WARNING  common.leastsquare : Cannot calculate inverse matrix. Calculate pseudo-inverse matrix instead.\n",
      "2021-07-10 12:35:04,163  DEBUG  common.leastsquare : Solving with least square calculation (iteration = 78, norm = 0.000000)\n",
      "2021-07-10 12:35:04,299  WARNING  common.leastsquare : Cannot calculate inverse matrix. Calculate pseudo-inverse matrix instead.\n",
      "2021-07-10 12:35:04,305  DEBUG  common.leastsquare : Solving with least square calculation (iteration = 79, norm = 0.000000)\n",
      "2021-07-10 12:35:04,473  WARNING  common.leastsquare : Cannot calculate inverse matrix. Calculate pseudo-inverse matrix instead.\n",
      "2021-07-10 12:35:04,477  DEBUG  common.leastsquare : Solving with least square calculation (iteration = 80, norm = 0.000000)\n",
      "2021-07-10 12:35:04,572  WARNING  common.leastsquare : Cannot calculate inverse matrix. Calculate pseudo-inverse matrix instead.\n",
      "2021-07-10 12:35:04,577  DEBUG  common.leastsquare : Solving with least square calculation (iteration = 81, norm = 0.000000)\n",
      "2021-07-10 12:35:04,717  WARNING  common.leastsquare : Cannot calculate inverse matrix. Calculate pseudo-inverse matrix instead.\n",
      "2021-07-10 12:35:04,722  DEBUG  common.leastsquare : Solving with least square calculation (iteration = 82, norm = 0.000000)\n",
      "2021-07-10 12:35:04,871  WARNING  common.leastsquare : Cannot calculate inverse matrix. Calculate pseudo-inverse matrix instead.\n",
      "2021-07-10 12:35:04,875  DEBUG  common.leastsquare : Solving with least square calculation (iteration = 83, norm = 0.000000)\n",
      "2021-07-10 12:35:04,984  WARNING  common.leastsquare : Cannot calculate inverse matrix. Calculate pseudo-inverse matrix instead.\n",
      "2021-07-10 12:35:04,990  DEBUG  common.leastsquare : Solving with least square calculation (iteration = 84, norm = 0.000000)\n",
      "2021-07-10 12:35:05,145  WARNING  common.leastsquare : Cannot calculate inverse matrix. Calculate pseudo-inverse matrix instead.\n",
      "2021-07-10 12:35:05,150  DEBUG  common.leastsquare : Solving with least square calculation (iteration = 85, norm = 0.000000)\n",
      "2021-07-10 12:35:05,330  WARNING  common.leastsquare : Cannot calculate inverse matrix. Calculate pseudo-inverse matrix instead.\n",
      "2021-07-10 12:35:05,334  DEBUG  common.leastsquare : Solving with least square calculation (iteration = 86, norm = 0.000000)\n",
      "2021-07-10 12:35:05,483  WARNING  common.leastsquare : Cannot calculate inverse matrix. Calculate pseudo-inverse matrix instead.\n",
      "2021-07-10 12:35:05,485  DEBUG  common.leastsquare : Solving with least square calculation (iteration = 87, norm = 0.000000)\n",
      "2021-07-10 12:35:05,579  WARNING  common.leastsquare : Cannot calculate inverse matrix. Calculate pseudo-inverse matrix instead.\n",
      "2021-07-10 12:35:05,581  DEBUG  common.leastsquare : Solving with least square calculation (iteration = 88, norm = 0.000000)\n",
      "2021-07-10 12:35:05,720  WARNING  common.leastsquare : Cannot calculate inverse matrix. Calculate pseudo-inverse matrix instead.\n",
      "2021-07-10 12:35:05,722  DEBUG  common.leastsquare : Solving with least square calculation (iteration = 89, norm = 0.000000)\n",
      "2021-07-10 12:35:05,825  WARNING  common.leastsquare : Cannot calculate inverse matrix. Calculate pseudo-inverse matrix instead.\n",
      "2021-07-10 12:35:05,828  DEBUG  common.leastsquare : Solving with least square calculation (iteration = 90, norm = 0.000000)\n",
      "2021-07-10 12:35:05,974  WARNING  common.leastsquare : Cannot calculate inverse matrix. Calculate pseudo-inverse matrix instead.\n",
      "2021-07-10 12:35:05,976  DEBUG  common.leastsquare : Solving with least square calculation (iteration = 91, norm = 0.000000)\n",
      "2021-07-10 12:35:06,076  WARNING  common.leastsquare : Cannot calculate inverse matrix. Calculate pseudo-inverse matrix instead.\n",
      "2021-07-10 12:35:06,079  DEBUG  common.leastsquare : Solving with least square calculation (iteration = 92, norm = 0.000000)\n",
      "2021-07-10 12:35:06,194  WARNING  common.leastsquare : Cannot calculate inverse matrix. Calculate pseudo-inverse matrix instead.\n",
      "2021-07-10 12:35:06,196  DEBUG  common.leastsquare : Solving with least square calculation (iteration = 93, norm = 0.000000)\n",
      "2021-07-10 12:35:06,335  WARNING  common.leastsquare : Cannot calculate inverse matrix. Calculate pseudo-inverse matrix instead.\n",
      "2021-07-10 12:35:06,338  DEBUG  common.leastsquare : Solving with least square calculation (iteration = 94, norm = 0.000000)\n",
      "2021-07-10 12:35:06,432  WARNING  common.leastsquare : Cannot calculate inverse matrix. Calculate pseudo-inverse matrix instead.\n",
      "2021-07-10 12:35:06,434  DEBUG  common.leastsquare : Solving with least square calculation (iteration = 95, norm = 0.000000)\n",
      "2021-07-10 12:35:06,572  WARNING  common.leastsquare : Cannot calculate inverse matrix. Calculate pseudo-inverse matrix instead.\n",
      "2021-07-10 12:35:06,575  DEBUG  common.leastsquare : Solving with least square calculation (iteration = 96, norm = 0.000000)\n",
      "2021-07-10 12:35:06,722  WARNING  common.leastsquare : Cannot calculate inverse matrix. Calculate pseudo-inverse matrix instead.\n",
      "2021-07-10 12:35:06,724  DEBUG  common.leastsquare : Solving with least square calculation (iteration = 97, norm = 0.000000)\n",
      "2021-07-10 12:35:06,819  WARNING  common.leastsquare : Cannot calculate inverse matrix. Calculate pseudo-inverse matrix instead.\n",
      "2021-07-10 12:35:06,821  DEBUG  common.leastsquare : Solving with least square calculation (iteration = 98, norm = 0.000000)\n",
      "2021-07-10 12:35:06,931  WARNING  common.leastsquare : Cannot calculate inverse matrix. Calculate pseudo-inverse matrix instead.\n",
      "2021-07-10 12:35:06,934  DEBUG  common.leastsquare : Solving with least square calculation (iteration = 99, norm = 0.000000)\n",
      "2021-07-10 12:35:07,097  WARNING  common.leastsquare : Cannot calculate inverse matrix. Calculate pseudo-inverse matrix instead.\n",
      "2021-07-10 12:35:07,100  DEBUG  common.leastsquare : Solving with least square calculation (iteration = 100, norm = 0.000000)\n"
     ]
    }
   ],
   "source": [
    "from common.leastsquare import LeastSquare\n",
    "\n",
    "sip_order = 4\n",
    "\n",
    "ls = LeastSquare(lambda a: model(a, pixcrd, sip_order), np.size(data['x'])*2)\n",
    "\n",
    "# constructing a_init (initial parameter set).\n",
    "a_init = [ra0.value, dec0.value, pa0.value, scale0.value]\n",
    "for i in range(0, 2*(sip_order+1)**2):\n",
    "    a_init.append(0)\n",
    "a_init = np.array(a_init) # This must be an ndarray.\n",
    "\n",
    "# constraining ra/dec values in 'observed' between -180 and 180 deg.\n",
    "true_pos = np.concatenate((data['ra'], data['dec']))\n",
    "pos = np.where(true_pos>180.)\n",
    "true_pos[pos] = true_pos[pos] - 360.\n",
    "pos = np.where(true_pos<-180.)\n",
    "true_pos[pos] = true_pos[pos] + 360.\n",
    "\n",
    "result, _ = ls.solve(true_pos, a_init, max_iteration=100)\n",
    "\n",
    "if result[3] < 0:\n",
    "    result[3] = -result[3]\n",
    "    result[2] = result[2] + 180.0\n",
    "\n",
    "if result[2] > 360.0 or result[2] < 0.0:\n",
    "    result[2] = result[2]%360.0"
   ]
  },
  {
   "cell_type": "markdown",
   "metadata": {},
   "source": [
    "The result is..."
   ]
  },
  {
   "cell_type": "code",
   "execution_count": 12,
   "metadata": {},
   "outputs": [
    {
     "name": "stdout",
     "output_type": "stream",
     "text": [
      "Center R.A.   : -0.008448 deg.\n",
      "Center Dec.   : 0.007017 deg.\n",
      "Position angle: 185.120276 deg.\n",
      "Plate scale   : 7.779693e-03 deg/mm\n"
     ]
    }
   ],
   "source": [
    "print(\"Center R.A.   : {:f} deg.\".format(result[0]))\n",
    "print(\"Center Dec.   : {:f} deg.\".format(result[1]))\n",
    "print(\"Position angle: {:f} deg.\".format(result[2]))\n",
    "print(\"Plate scale   : {:e} deg/mm\".format(result[3]))"
   ]
  },
  {
   "cell_type": "code",
   "execution_count": 13,
   "metadata": {},
   "outputs": [
    {
     "name": "stdout",
     "output_type": "stream",
     "text": [
      "[[-7.36263823e-15 -7.26158098e-15 -1.20741210e-04 -3.91773214e-06\n",
      "   7.00103363e-08]\n",
      " [-1.37493552e-16  1.30673039e-03  3.62972364e-05  3.17291604e-07\n",
      "  -3.84203603e-17]\n",
      " [-2.56082423e-04 -3.31909721e-06 -6.30132250e-08  2.59677824e-18\n",
      "   1.89350896e-18]\n",
      " [ 3.46202188e-05  2.88933684e-07  6.30456941e-20  3.58380362e-22\n",
      "   7.25452276e-23]\n",
      " [-1.36254936e-07 -3.02630520e-23  5.50238542e-24  0.00000000e+00\n",
      "   0.00000000e+00]]\n",
      "[[ 0.00000000e+00  0.00000000e+00  1.88321004e-03  3.32842061e-05\n",
      "   5.76800005e-07]\n",
      " [ 0.00000000e+00 -2.26533931e-04 -4.01896732e-06  9.53916762e-09\n",
      "   0.00000000e+00]\n",
      " [ 6.16133462e-04  3.27178714e-05  5.89527584e-07  0.00000000e+00\n",
      "   0.00000000e+00]\n",
      " [-4.29224335e-06  4.52691904e-08  0.00000000e+00  0.00000000e+00\n",
      "   0.00000000e+00]\n",
      " [ 1.73809633e-07  0.00000000e+00  0.00000000e+00  0.00000000e+00\n",
      "   0.00000000e+00]]\n"
     ]
    }
   ],
   "source": [
    "print(result[4:4+(sip_order+1)**2].reshape((sip_order+1, sip_order+1)))\n",
    "print(result[4+(sip_order+1)**2:].reshape((sip_order+1, sip_order+1)))"
   ]
  },
  {
   "cell_type": "markdown",
   "metadata": {},
   "source": [
    "According to the meta part of the input file, the poiunting RA and Dec are 0.0 deg. The position angle is 185.1243978289002 deg. The calculation seems to correctly estimate these parameters."
   ]
  },
  {
   "cell_type": "markdown",
   "metadata": {},
   "source": [
    "Let's compare the ra/dec values calculated from the derived parameters with the true values."
   ]
  },
  {
   "cell_type": "code",
   "execution_count": 14,
   "metadata": {},
   "outputs": [
    {
     "data": {
      "text/plain": [
       "<matplotlib.legend.Legend at 0x7f6b5e19b4a8>"
      ]
     },
     "execution_count": 14,
     "metadata": {},
     "output_type": "execute_result"
    },
    {
     "data": {
      "image/png": "[encoded data removed]",
      "text/plain": [
       "<Figure size 1008x576 with 1 Axes>"
      ]
     },
     "metadata": {
      "needs_background": "light"
     },
     "output_type": "display_data"
    }
   ],
   "source": [
    "positions = model(result, pixcrd, sip_order)\n",
    "positions = positions.reshape((2,int(positions.size/2))).T\n",
    "\n",
    "fig = plt.figure(figsize=(14,8))\n",
    "ax = fig.add_subplot(111)\n",
    "ax.scatter(data['ra'], data['dec'], marker='+', label='Truth')\n",
    "ax.scatter(data['ra']-360., data['dec'], marker='+', label='')\n",
    "ax.scatter(positions[:,0], positions[:,1], marker='x', label='Reproduced')\n",
    "ax.set_xlabel('R.A. (deg)')\n",
    "ax.set_ylabel('Dec. (deg)')\n",
    "ax.set_xlim([-0.3,0.3])\n",
    "#ax.set_aspect('equal', adjustable='box')\n",
    "ax.legend()"
   ]
  },
  {
   "cell_type": "markdown",
   "metadata": {},
   "source": [
    "The reproduced ra/dec values seem to match the true values very well."
   ]
  },
  {
   "cell_type": "code",
   "execution_count": 15,
   "metadata": {},
   "outputs": [],
   "source": [
    "from astropy.coordinates import SkyCoord\n",
    "\n",
    "c_calc = SkyCoord(positions[:,0]*u.deg, positions[:,1]*u.deg, frame='icrs')\n",
    "c_true = SkyCoord(data['ra'], data['dec'], frame='icrs')\n",
    "sep = c_calc.separation(c_true)"
   ]
  },
  {
   "cell_type": "code",
   "execution_count": 16,
   "metadata": {},
   "outputs": [
    {
     "data": {
      "text/plain": [
       "Text(0, 0.5, 'Position estimation error (arcsec)')"
      ]
     },
     "execution_count": 16,
     "metadata": {},
     "output_type": "execute_result"
    },
    {
     "data": {
      "image/png": "[encoded data removed]",
      "text/plain": [
       "<Figure size 432x288 with 1 Axes>"
      ]
     },
     "metadata": {
      "needs_background": "light"
     },
     "output_type": "display_data"
    }
   ],
   "source": [
    "plt.plot(sep.arcsec, '.')\n",
    "plt.xlabel('Index')\n",
    "plt.ylabel('Position estimation error (arcsec)')"
   ]
  },
  {
   "cell_type": "markdown",
   "metadata": {},
   "source": [
    "The position difference is small, typically around <0.5 arcsec."
   ]
  },
  {
   "cell_type": "code",
   "execution_count": null,
   "metadata": {},
   "outputs": [],
   "source": []
  }
 ],
 "metadata": {
  "kernelspec": {
   "display_name": "Python 3",
   "language": "python",
   "name": "python3"
  },
  "language_info": {
   "codemirror_mode": {
    "name": "ipython",
    "version": 3
   },
   "file_extension": ".py",
   "mimetype": "text/x-python",
   "name": "python",
   "nbconvert_exporter": "python",
   "pygments_lexer": "ipython3",
   "version": "3.7.1"
  }
 },
 "nbformat": 4,
 "nbformat_minor": 2
}
