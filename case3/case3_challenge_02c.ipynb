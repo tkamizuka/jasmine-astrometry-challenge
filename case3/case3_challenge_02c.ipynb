{
 "cells": [
  {
   "cell_type": "markdown",
   "metadata": {},
   "source": [
    "# Case3-challenge02"
   ]
  },
  {
   "cell_type": "markdown",
   "metadata": {},
   "source": [
    "At first, we add the analysis directory to the python path."
   ]
  },
  {
   "cell_type": "code",
   "execution_count": 1,
   "metadata": {},
   "outputs": [],
   "source": [
    "import sys\n",
    "sys.path.append('/home/kamizuka/analysis')"
   ]
  },
  {
   "cell_type": "markdown",
   "metadata": {},
   "source": [
    "At first, we load the data, 'case3_chalenge_02.txt'."
   ]
  },
  {
   "cell_type": "code",
   "execution_count": 2,
   "metadata": {},
   "outputs": [],
   "source": [
    "import astropy.io.ascii as asc\n",
    "from astropy import units as u\n",
    "\n",
    "data = asc.read('case3_challenge_02.txt')\n",
    "data['x'] = data['x']*1.e-3 # Converting um to mm.\n",
    "data['y'] = data['y']*1.e-3 # Converting um to mm.\n",
    "data['x'].unit = u.mm\n",
    "data['y'].unit = u.mm\n",
    "data['ra'].unit = u.deg\n",
    "data['dec'].unit = u.deg"
   ]
  },
  {
   "cell_type": "markdown",
   "metadata": {},
   "source": [
    "The source distribution is shown in the figure below."
   ]
  },
  {
   "cell_type": "code",
   "execution_count": 5,
   "metadata": {},
   "outputs": [
    {
     "data": {
      "image/png": "[encoded data removed]",
      "text/plain": [
       "<Figure size 504x288 with 1 Axes>"
      ]
     },
     "metadata": {
      "needs_background": "light"
     },
     "output_type": "display_data"
    },
    {
     "data": {
      "image/png": "[encoded data removed]",
      "text/plain": [
       "<Figure size 504x288 with 1 Axes>"
      ]
     },
     "metadata": {
      "needs_background": "light"
     },
     "output_type": "display_data"
    }
   ],
   "source": [
    "import matplotlib.pylab as plt\n",
    "\n",
    "fig = plt.figure(figsize=(7,4))\n",
    "ax = fig.add_subplot(111)\n",
    "ax.scatter(data['x'], data['y'], marker='x')\n",
    "ax.set_xlabel('X (mm)')\n",
    "ax.set_ylabel('Y (mm)')\n",
    "ax.set_xlim([-25,25])\n",
    "ax.set_ylim([-25,25])\n",
    "ax.set_aspect('equal', adjustable='box')\n",
    "\n",
    "fig = plt.figure(figsize=(7,4))\n",
    "ax = fig.add_subplot(111)\n",
    "ax.scatter(data['ra'], data['dec'], marker='x')\n",
    "ax.scatter(data['ra']-360.0, data['dec'], marker='x')\n",
    "ax.set_xlabel('R.A. (deg)')\n",
    "ax.set_ylabel('Dec. (deg)')\n",
    "ax.set_xlim([-0.3,0.3])\n",
    "ax.set_aspect('equal', adjustable='box')"
   ]
  },
  {
   "cell_type": "markdown",
   "metadata": {},
   "source": [
    "We guess the field parameters."
   ]
  },
  {
   "cell_type": "code",
   "execution_count": 6,
   "metadata": {},
   "outputs": [
    {
     "name": "stdout",
     "output_type": "stream",
     "text": [
      "0.006122448979591855 deg\n",
      "-0.006122448979591855 deg\n",
      "0.0086568474155809 deg / mm\n",
      "0.0 deg\n"
     ]
    }
   ],
   "source": [
    "import numpy as np\n",
    "from astropy.coordinates import SkyCoord, Angle\n",
    "\n",
    "r = np.sqrt(data['x']**2.+data['y']**2.)\n",
    "i0 = np.argmin(r)\n",
    "ra0  = data['ra'].quantity[i0]\n",
    "dec0 = data['dec'].quantity[i0]\n",
    "\n",
    "c0 = SkyCoord(ra=ra0, dec=dec0, frame='icrs')\n",
    "c1 = SkyCoord(ra=data['ra'].quantity[0], dec=data['dec'].quantity[0], frame='icrs')\n",
    "angle_sep = c0.separation(c1)\n",
    "\n",
    "dx = data['x'].quantity[i0] - data['x'].quantity[0]\n",
    "dy = data['y'].quantity[i0] - data['y'].quantity[0]\n",
    "mm_sep = np.sqrt(dx*dx+dy*dy)\n",
    "\n",
    "scale0 = angle_sep/mm_sep\n",
    "\n",
    "pa0 = 0.0 * u.deg\n",
    "\n",
    "print(ra0)\n",
    "print(dec0)\n",
    "print(scale0)\n",
    "print(pa0)"
   ]
  },
  {
   "cell_type": "markdown",
   "metadata": {},
   "source": [
    "Here, we define a function to construct a wcs instance from given parameters."
   ]
  },
  {
   "cell_type": "code",
   "execution_count": 7,
   "metadata": {},
   "outputs": [],
   "source": [
    "from astropy.wcs import WCS\n",
    "from astropy.wcs import Sip\n",
    "\n",
    "def wcs(ra0, dec0, pa0, scale0, a=None, b=None):\n",
    "    w = WCS(naxis=2)\n",
    "    w.wcs.crpix=[0,0]\n",
    "    w.wcs.cdelt=np.array([-scale0, scale0])\n",
    "    w.wcs.crval=[ra0, dec0]\n",
    "    w.wcs.ctype=[\"RA---TAN-SIP\", \"DEC--TAN-SIP\"]\n",
    "    w.wcs.pc=[[ np.cos(pa0*u.deg), np.sin(pa0*u.deg)],\n",
    "              [-np.sin(pa0*u.deg), np.cos(pa0*u.deg)]]\n",
    "    if a is not None and b is not None:\n",
    "        w.sip = Sip(a, b, None, None, [0, 0])\n",
    "    return w"
   ]
  },
  {
   "cell_type": "markdown",
   "metadata": {},
   "source": [
    "Next, we define a model function to estimate the position angle. This function calculates RA and Dec from the position on the focal plane. At this moment, we ignore the distortion."
   ]
  },
  {
   "cell_type": "code",
   "execution_count": 8,
   "metadata": {},
   "outputs": [],
   "source": [
    "def model_wo_distortion(params, pxcrd):\n",
    "    # params must be an ndarray of dimension-less values.\n",
    "    # assuming params = [ra, dec, pa, scale].\n",
    "    ra_ptg  = params[0] # value in deg.\n",
    "    dec_ptg = params[1] # value in deg.\n",
    "    pa_ptg  = params[2] # value in deg.\n",
    "    scale   = params[3] # value in deg/mm.\n",
    "    \n",
    "    w = wcs(ra_ptg, dec_ptg, pa_ptg, scale)\n",
    "    world = w.all_pix2world(pixcrd, 0)\n",
    "\n",
    "    # constraining ra and dec in 'world' between -180 to 180 deg.\n",
    "    pos = np.where(world>180.)\n",
    "    world[pos] = world[pos] - 360.\n",
    "    pos = np.where(world<-180.)\n",
    "    world[pos] = world[pos] + 360.\n",
    "    \n",
    "    return world.T.flatten()"
   ]
  },
  {
   "cell_type": "markdown",
   "metadata": {},
   "source": [
    "Then, we make an array of the coordinates on the focal plane."
   ]
  },
  {
   "cell_type": "code",
   "execution_count": 9,
   "metadata": {},
   "outputs": [],
   "source": [
    "pixcrd = np.concatenate(([data['x']],[data['y']])).T"
   ]
  },
  {
   "cell_type": "code",
   "execution_count": 10,
   "metadata": {},
   "outputs": [
    {
     "name": "stderr",
     "output_type": "stream",
     "text": [
      "2021-07-10 12:22:19,637  DEBUG  common.leastsquare : Solving with least square calculation (iteration = 1, norm = 34.735499)\n",
      "2021-07-10 12:22:19,655  DEBUG  common.leastsquare : Solving with least square calculation (iteration = 2, norm = 72.514319)\n",
      "2021-07-10 12:22:19,671  DEBUG  common.leastsquare : Solving with least square calculation (iteration = 3, norm = 9.562552)\n",
      "2021-07-10 12:22:19,686  DEBUG  common.leastsquare : Solving with least square calculation (iteration = 4, norm = 7.074020)\n",
      "2021-07-10 12:22:19,701  DEBUG  common.leastsquare : Solving with least square calculation (iteration = 5, norm = 0.011508)\n",
      "2021-07-10 12:22:19,715  DEBUG  common.leastsquare : Solving with least square calculation (iteration = 6, norm = 0.000088)\n",
      "2021-07-10 12:22:19,729  DEBUG  common.leastsquare : Solving with least square calculation (iteration = 7, norm = 0.000000)\n",
      "2021-07-10 12:22:19,744  DEBUG  common.leastsquare : Solving with least square calculation (iteration = 8, norm = 0.000000)\n",
      "2021-07-10 12:22:19,758  DEBUG  common.leastsquare : Solving with least square calculation (iteration = 9, norm = 0.000000)\n",
      "2021-07-10 12:22:19,773  DEBUG  common.leastsquare : Solving with least square calculation (iteration = 10, norm = 0.000000)\n",
      "2021-07-10 12:22:19,788  DEBUG  common.leastsquare : Solving with least square calculation (iteration = 11, norm = 0.000000)\n",
      "2021-07-10 12:22:19,803  DEBUG  common.leastsquare : Solving with least square calculation (iteration = 12, norm = 0.000000)\n",
      "2021-07-10 12:22:19,818  DEBUG  common.leastsquare : Solving with least square calculation (iteration = 13, norm = 0.000000)\n",
      "2021-07-10 12:22:19,833  DEBUG  common.leastsquare : Solving with least square calculation (iteration = 14, norm = 0.000001)\n",
      "2021-07-10 12:22:19,848  DEBUG  common.leastsquare : Solving with least square calculation (iteration = 15, norm = 0.000000)\n",
      "2021-07-10 12:22:19,863  DEBUG  common.leastsquare : Solving with least square calculation (iteration = 16, norm = 0.000001)\n",
      "2021-07-10 12:22:19,877  DEBUG  common.leastsquare : Solving with least square calculation (iteration = 17, norm = 0.000001)\n",
      "2021-07-10 12:22:19,892  DEBUG  common.leastsquare : Solving with least square calculation (iteration = 18, norm = 0.000000)\n",
      "2021-07-10 12:22:19,906  DEBUG  common.leastsquare : Solving with least square calculation (iteration = 19, norm = 0.000000)\n",
      "2021-07-10 12:22:19,921  DEBUG  common.leastsquare : Solving with least square calculation (iteration = 20, norm = 0.000000)\n",
      "2021-07-10 12:22:19,935  DEBUG  common.leastsquare : Solving with least square calculation (iteration = 21, norm = 0.000000)\n",
      "2021-07-10 12:22:19,950  DEBUG  common.leastsquare : Solving with least square calculation (iteration = 22, norm = 0.000000)\n",
      "2021-07-10 12:22:19,964  DEBUG  common.leastsquare : Solving with least square calculation (iteration = 23, norm = 0.000001)\n",
      "2021-07-10 12:22:19,979  DEBUG  common.leastsquare : Solving with least square calculation (iteration = 24, norm = 0.000001)\n",
      "2021-07-10 12:22:19,994  DEBUG  common.leastsquare : Solving with least square calculation (iteration = 25, norm = 0.000001)\n",
      "2021-07-10 12:22:20,008  DEBUG  common.leastsquare : Solving with least square calculation (iteration = 26, norm = 0.000000)\n",
      "2021-07-10 12:22:20,023  DEBUG  common.leastsquare : Solving with least square calculation (iteration = 27, norm = 0.000001)\n",
      "2021-07-10 12:22:20,038  DEBUG  common.leastsquare : Solving with least square calculation (iteration = 28, norm = 0.000000)\n",
      "2021-07-10 12:22:20,053  DEBUG  common.leastsquare : Solving with least square calculation (iteration = 29, norm = 0.000000)\n",
      "2021-07-10 12:22:20,068  DEBUG  common.leastsquare : Solving with least square calculation (iteration = 30, norm = 0.000000)\n",
      "2021-07-10 12:22:20,083  DEBUG  common.leastsquare : Solving with least square calculation (iteration = 31, norm = 0.000001)\n",
      "2021-07-10 12:22:20,098  DEBUG  common.leastsquare : Solving with least square calculation (iteration = 32, norm = 0.000001)\n",
      "2021-07-10 12:22:20,112  DEBUG  common.leastsquare : Solving with least square calculation (iteration = 33, norm = 0.000000)\n",
      "2021-07-10 12:22:20,126  DEBUG  common.leastsquare : Solving with least square calculation (iteration = 34, norm = 0.000001)\n",
      "2021-07-10 12:22:20,141  DEBUG  common.leastsquare : Solving with least square calculation (iteration = 35, norm = 0.000001)\n",
      "2021-07-10 12:22:20,155  DEBUG  common.leastsquare : Solving with least square calculation (iteration = 36, norm = 0.000000)\n",
      "2021-07-10 12:22:20,170  DEBUG  common.leastsquare : Solving with least square calculation (iteration = 37, norm = 0.000000)\n",
      "2021-07-10 12:22:20,185  DEBUG  common.leastsquare : Solving with least square calculation (iteration = 38, norm = 0.000000)\n",
      "2021-07-10 12:22:20,200  DEBUG  common.leastsquare : Solving with least square calculation (iteration = 39, norm = 0.000000)\n",
      "2021-07-10 12:22:20,214  DEBUG  common.leastsquare : Solving with least square calculation (iteration = 40, norm = 0.000000)\n",
      "2021-07-10 12:22:20,229  DEBUG  common.leastsquare : Solving with least square calculation (iteration = 41, norm = 0.000000)\n",
      "2021-07-10 12:22:20,244  DEBUG  common.leastsquare : Solving with least square calculation (iteration = 42, norm = 0.000000)\n",
      "2021-07-10 12:22:20,259  DEBUG  common.leastsquare : Solving with least square calculation (iteration = 43, norm = 0.000000)\n",
      "2021-07-10 12:22:20,274  DEBUG  common.leastsquare : Solving with least square calculation (iteration = 44, norm = 0.000000)\n",
      "2021-07-10 12:22:20,289  DEBUG  common.leastsquare : Solving with least square calculation (iteration = 45, norm = 0.000000)\n",
      "2021-07-10 12:22:20,304  DEBUG  common.leastsquare : Solving with least square calculation (iteration = 46, norm = 0.000000)\n",
      "2021-07-10 12:22:20,319  DEBUG  common.leastsquare : Solving with least square calculation (iteration = 47, norm = 0.000000)\n",
      "2021-07-10 12:22:20,334  DEBUG  common.leastsquare : Solving with least square calculation (iteration = 48, norm = 0.000000)\n",
      "2021-07-10 12:22:20,342  DEBUG  common.leastsquare : Solving with least square calculation (iteration = 49, norm = 0.000000)\n",
      "2021-07-10 12:22:20,350  DEBUG  common.leastsquare : Solving with least square calculation (iteration = 50, norm = 0.000000)\n",
      "2021-07-10 12:22:20,357  DEBUG  common.leastsquare : Solving with least square calculation (iteration = 51, norm = 0.000000)\n",
      "2021-07-10 12:22:20,365  DEBUG  common.leastsquare : Solving with least square calculation (iteration = 52, norm = 0.000001)\n",
      "2021-07-10 12:22:20,373  DEBUG  common.leastsquare : Solving with least square calculation (iteration = 53, norm = 0.000001)\n",
      "2021-07-10 12:22:20,381  DEBUG  common.leastsquare : Solving with least square calculation (iteration = 54, norm = 0.000001)\n",
      "2021-07-10 12:22:20,389  DEBUG  common.leastsquare : Solving with least square calculation (iteration = 55, norm = 0.000000)\n",
      "2021-07-10 12:22:20,397  DEBUG  common.leastsquare : Solving with least square calculation (iteration = 56, norm = 0.000001)\n",
      "2021-07-10 12:22:20,405  DEBUG  common.leastsquare : Solving with least square calculation (iteration = 57, norm = 0.000001)\n",
      "2021-07-10 12:22:20,414  DEBUG  common.leastsquare : Solving with least square calculation (iteration = 58, norm = 0.000000)\n",
      "2021-07-10 12:22:20,429  DEBUG  common.leastsquare : Solving with least square calculation (iteration = 59, norm = 0.000000)\n",
      "2021-07-10 12:22:20,443  DEBUG  common.leastsquare : Solving with least square calculation (iteration = 60, norm = 0.000000)\n",
      "2021-07-10 12:22:20,457  DEBUG  common.leastsquare : Solving with least square calculation (iteration = 61, norm = 0.000000)\n",
      "2021-07-10 12:22:20,472  DEBUG  common.leastsquare : Solving with least square calculation (iteration = 62, norm = 0.000001)\n",
      "2021-07-10 12:22:20,486  DEBUG  common.leastsquare : Solving with least square calculation (iteration = 63, norm = 0.000001)\n",
      "2021-07-10 12:22:20,500  DEBUG  common.leastsquare : Solving with least square calculation (iteration = 64, norm = 0.000001)\n",
      "2021-07-10 12:22:20,514  DEBUG  common.leastsquare : Solving with least square calculation (iteration = 65, norm = 0.000000)\n",
      "2021-07-10 12:22:20,529  DEBUG  common.leastsquare : Solving with least square calculation (iteration = 66, norm = 0.000001)\n",
      "2021-07-10 12:22:20,543  DEBUG  common.leastsquare : Solving with least square calculation (iteration = 67, norm = 0.000001)\n",
      "2021-07-10 12:22:20,558  DEBUG  common.leastsquare : Solving with least square calculation (iteration = 68, norm = 0.000000)\n",
      "2021-07-10 12:22:20,572  DEBUG  common.leastsquare : Solving with least square calculation (iteration = 69, norm = 0.000001)\n",
      "2021-07-10 12:22:20,586  DEBUG  common.leastsquare : Solving with least square calculation (iteration = 70, norm = 0.000001)\n",
      "2021-07-10 12:22:20,600  DEBUG  common.leastsquare : Solving with least square calculation (iteration = 71, norm = 0.000000)\n",
      "2021-07-10 12:22:20,615  DEBUG  common.leastsquare : Solving with least square calculation (iteration = 72, norm = 0.000000)\n",
      "2021-07-10 12:22:20,629  DEBUG  common.leastsquare : Solving with least square calculation (iteration = 73, norm = 0.000000)\n",
      "2021-07-10 12:22:20,643  DEBUG  common.leastsquare : Solving with least square calculation (iteration = 74, norm = 0.000001)\n",
      "2021-07-10 12:22:20,658  DEBUG  common.leastsquare : Solving with least square calculation (iteration = 75, norm = 0.000000)\n",
      "2021-07-10 12:22:20,673  DEBUG  common.leastsquare : Solving with least square calculation (iteration = 76, norm = 0.000000)\n",
      "2021-07-10 12:22:20,689  DEBUG  common.leastsquare : Solving with least square calculation (iteration = 77, norm = 0.000000)\n",
      "2021-07-10 12:22:20,704  DEBUG  common.leastsquare : Solving with least square calculation (iteration = 78, norm = 0.000000)\n",
      "2021-07-10 12:22:20,719  DEBUG  common.leastsquare : Solving with least square calculation (iteration = 79, norm = 0.000000)\n",
      "2021-07-10 12:22:20,727  DEBUG  common.leastsquare : Solving with least square calculation (iteration = 80, norm = 0.000000)\n",
      "2021-07-10 12:22:20,734  DEBUG  common.leastsquare : Solving with least square calculation (iteration = 81, norm = 0.000000)\n",
      "2021-07-10 12:22:20,742  DEBUG  common.leastsquare : Solving with least square calculation (iteration = 82, norm = 0.000000)\n",
      "2021-07-10 12:22:20,750  DEBUG  common.leastsquare : Solving with least square calculation (iteration = 83, norm = 0.000001)\n",
      "2021-07-10 12:22:20,758  DEBUG  common.leastsquare : Solving with least square calculation (iteration = 84, norm = 0.000000)\n",
      "2021-07-10 12:22:20,766  DEBUG  common.leastsquare : Solving with least square calculation (iteration = 85, norm = 0.000001)\n",
      "2021-07-10 12:22:20,773  DEBUG  common.leastsquare : Solving with least square calculation (iteration = 86, norm = 0.000001)\n",
      "2021-07-10 12:22:20,781  DEBUG  common.leastsquare : Solving with least square calculation (iteration = 87, norm = 0.000000)\n",
      "2021-07-10 12:22:20,789  DEBUG  common.leastsquare : Solving with least square calculation (iteration = 88, norm = 0.000001)\n",
      "2021-07-10 12:22:20,797  DEBUG  common.leastsquare : Solving with least square calculation (iteration = 89, norm = 0.000000)\n",
      "2021-07-10 12:22:20,805  DEBUG  common.leastsquare : Solving with least square calculation (iteration = 90, norm = 0.000000)\n",
      "2021-07-10 12:22:20,812  DEBUG  common.leastsquare : Solving with least square calculation (iteration = 91, norm = 0.000000)\n",
      "2021-07-10 12:22:20,827  DEBUG  common.leastsquare : Solving with least square calculation (iteration = 92, norm = 0.000000)\n",
      "2021-07-10 12:22:20,835  DEBUG  common.leastsquare : Solving with least square calculation (iteration = 93, norm = 0.000000)\n",
      "2021-07-10 12:22:20,843  DEBUG  common.leastsquare : Solving with least square calculation (iteration = 94, norm = 0.000001)\n",
      "2021-07-10 12:22:20,851  DEBUG  common.leastsquare : Solving with least square calculation (iteration = 95, norm = 0.000001)\n",
      "2021-07-10 12:22:20,859  DEBUG  common.leastsquare : Solving with least square calculation (iteration = 96, norm = 0.000000)\n",
      "2021-07-10 12:22:20,874  DEBUG  common.leastsquare : Solving with least square calculation (iteration = 97, norm = 0.000000)\n",
      "2021-07-10 12:22:20,889  DEBUG  common.leastsquare : Solving with least square calculation (iteration = 98, norm = 0.000000)\n",
      "2021-07-10 12:22:20,905  DEBUG  common.leastsquare : Solving with least square calculation (iteration = 99, norm = 0.000000)\n",
      "2021-07-10 12:22:20,920  DEBUG  common.leastsquare : Solving with least square calculation (iteration = 100, norm = 0.000001)\n"
     ]
    },
    {
     "name": "stdout",
     "output_type": "stream",
     "text": [
      "Center R.A.   : -0.005650 deg.\n",
      "Center Dec.   : -0.002532 deg.\n",
      "Position angle: 220.255935 deg.\n",
      "Plate scale   : 8.121596e-03 deg/mm\n"
     ]
    }
   ],
   "source": [
    "from common.leastsquare import LeastSquare\n",
    "\n",
    "ls = LeastSquare(lambda a: model_wo_distortion(a, pixcrd), np.size(data['x'])*2)\n",
    "\n",
    "# constructing a_init (initial parameter set).\n",
    "a_init = [ra0.value, dec0.value, pa0.value, scale0.value]\n",
    "a_init = np.array(a_init) # This must be an ndarray.\n",
    "\n",
    "# constraining ra/dec values in 'observed' between -180 and 180 deg.\n",
    "true_pos = np.concatenate((data['ra'], data['dec']))\n",
    "pos = np.where(true_pos>180.)\n",
    "true_pos[pos] = true_pos[pos] - 360.\n",
    "pos = np.where(true_pos<-180.)\n",
    "true_pos[pos] = true_pos[pos] + 360.\n",
    "\n",
    "result, _ = ls.solve(true_pos, a_init, max_iteration=100)\n",
    "\n",
    "if result[3] < 0:\n",
    "    result[3] = -result[3]\n",
    "    result[2] = result[2] + 180.0\n",
    "\n",
    "if result[2] > 360.0 or result[2] < 0.0:\n",
    "    result[2] = result[2]%360.0\n",
    "\n",
    "# Showing the results.\n",
    "print(\"Center R.A.   : {:f} deg.\".format(result[0]))\n",
    "print(\"Center Dec.   : {:f} deg.\".format(result[1]))\n",
    "print(\"Position angle: {:f} deg.\".format(result[2]))\n",
    "print(\"Plate scale   : {:e} deg/mm\".format(result[3]))\n",
    "    \n",
    "# Updating the field parameters.\n",
    "ra0    = result[0] * u.deg\n",
    "dec0   = result[1] * u.deg\n",
    "pa0    = result[2] * u.deg\n",
    "scale0 = result[3] * u.deg/u.mm"
   ]
  },
  {
   "cell_type": "markdown",
   "metadata": {},
   "source": [
    "We define a model function which calculates RA and Dec from the position on the focal plane with considering the distortion. It is represented by the Sip function implemented to astropy.wcs."
   ]
  },
  {
   "cell_type": "code",
   "execution_count": 11,
   "metadata": {},
   "outputs": [],
   "source": [
    "def model(params, pxcrd, sip_order):\n",
    "    # params must be an ndarray of dimension-less values.\n",
    "    # assuming params = [ra, dec, pa, scale, a00, a01, ..., a0m, a10, a11, ..., amm, b00, b01, ..., bmm].\n",
    "    ra_ptg  = params[0] # value in deg.\n",
    "    dec_ptg = params[1] # value in deg.\n",
    "    pa_ptg  = params[2] # value in deg.\n",
    "    scale   = params[3] # value in deg/mm.\n",
    "    a = params[4:4+(sip_order+1)**2].reshape((sip_order+1, sip_order+1))\n",
    "    b = params[4+(sip_order+1)**2:4+2*(sip_order+1)**2].reshape((sip_order+1, sip_order+1))\n",
    "    # constraining some parametes to be zero.\n",
    "    m, n = np.indices((sip_order+1, sip_order+1))\n",
    "    pos = np.where((m+n==0)+(m+n==1)+(m+n>sip_order))\n",
    "    a[pos] = 0.\n",
    "    b[pos] = 0.\n",
    "    \n",
    "    w = wcs(ra_ptg, dec_ptg, pa_ptg, scale, a, b)\n",
    "    world = w.all_pix2world(pixcrd, 0)\n",
    "\n",
    "    # constraining ra and dec in 'world' between -180 to 180 deg.\n",
    "    pos = np.where(world>180.)\n",
    "    world[pos] = world[pos] - 360.\n",
    "    pos = np.where(world<-180.)\n",
    "    world[pos] = world[pos] + 360.\n",
    "    \n",
    "    return world.T.flatten()"
   ]
  },
  {
   "cell_type": "markdown",
   "metadata": {},
   "source": [
    "And now, we estimate the field and distortion parameters with the LeastSquare module. Here, we set the sip order to be 4."
   ]
  },
  {
   "cell_type": "code",
   "execution_count": 12,
   "metadata": {},
   "outputs": [
    {
     "name": "stderr",
     "output_type": "stream",
     "text": [
      "2021-07-10 12:22:42,700  WARNING  common.leastsquare : Cannot calculate inverse matrix. Calculate pseudo-inverse matrix instead.\n",
      "2021-07-10 12:22:42,703  DEBUG  common.leastsquare : Solving with least square calculation (iteration = 1, norm = 0.010724)\n",
      "2021-07-10 12:22:42,800  WARNING  common.leastsquare : Cannot calculate inverse matrix. Calculate pseudo-inverse matrix instead.\n",
      "2021-07-10 12:22:42,802  DEBUG  common.leastsquare : Solving with least square calculation (iteration = 2, norm = 0.000337)\n",
      "2021-07-10 12:22:42,896  WARNING  common.leastsquare : Cannot calculate inverse matrix. Calculate pseudo-inverse matrix instead.\n",
      "2021-07-10 12:22:42,898  DEBUG  common.leastsquare : Solving with least square calculation (iteration = 3, norm = 0.000000)\n",
      "2021-07-10 12:22:42,994  WARNING  common.leastsquare : Cannot calculate inverse matrix. Calculate pseudo-inverse matrix instead.\n",
      "2021-07-10 12:22:42,996  DEBUG  common.leastsquare : Solving with least square calculation (iteration = 4, norm = 0.000000)\n",
      "2021-07-10 12:22:43,092  WARNING  common.leastsquare : Cannot calculate inverse matrix. Calculate pseudo-inverse matrix instead.\n",
      "2021-07-10 12:22:43,094  DEBUG  common.leastsquare : Solving with least square calculation (iteration = 5, norm = 0.000000)\n",
      "2021-07-10 12:22:43,199  WARNING  common.leastsquare : Cannot calculate inverse matrix. Calculate pseudo-inverse matrix instead.\n",
      "2021-07-10 12:22:43,201  DEBUG  common.leastsquare : Solving with least square calculation (iteration = 6, norm = 0.000000)\n",
      "2021-07-10 12:22:43,296  WARNING  common.leastsquare : Cannot calculate inverse matrix. Calculate pseudo-inverse matrix instead.\n",
      "2021-07-10 12:22:43,298  DEBUG  common.leastsquare : Solving with least square calculation (iteration = 7, norm = 0.000000)\n",
      "2021-07-10 12:22:43,394  WARNING  common.leastsquare : Cannot calculate inverse matrix. Calculate pseudo-inverse matrix instead.\n",
      "2021-07-10 12:22:43,396  DEBUG  common.leastsquare : Solving with least square calculation (iteration = 8, norm = 0.000000)\n",
      "2021-07-10 12:22:43,492  WARNING  common.leastsquare : Cannot calculate inverse matrix. Calculate pseudo-inverse matrix instead.\n",
      "2021-07-10 12:22:43,494  DEBUG  common.leastsquare : Solving with least square calculation (iteration = 9, norm = 0.000000)\n",
      "2021-07-10 12:22:43,590  WARNING  common.leastsquare : Cannot calculate inverse matrix. Calculate pseudo-inverse matrix instead.\n",
      "2021-07-10 12:22:43,592  DEBUG  common.leastsquare : Solving with least square calculation (iteration = 10, norm = 0.000000)\n",
      "2021-07-10 12:22:43,688  WARNING  common.leastsquare : Cannot calculate inverse matrix. Calculate pseudo-inverse matrix instead.\n",
      "2021-07-10 12:22:43,690  DEBUG  common.leastsquare : Solving with least square calculation (iteration = 11, norm = 0.000000)\n",
      "2021-07-10 12:22:43,786  WARNING  common.leastsquare : Cannot calculate inverse matrix. Calculate pseudo-inverse matrix instead.\n",
      "2021-07-10 12:22:43,788  DEBUG  common.leastsquare : Solving with least square calculation (iteration = 12, norm = 0.000000)\n",
      "2021-07-10 12:22:43,884  WARNING  common.leastsquare : Cannot calculate inverse matrix. Calculate pseudo-inverse matrix instead.\n",
      "2021-07-10 12:22:43,886  DEBUG  common.leastsquare : Solving with least square calculation (iteration = 13, norm = 0.000000)\n",
      "2021-07-10 12:22:43,982  WARNING  common.leastsquare : Cannot calculate inverse matrix. Calculate pseudo-inverse matrix instead.\n",
      "2021-07-10 12:22:43,985  DEBUG  common.leastsquare : Solving with least square calculation (iteration = 14, norm = 0.000000)\n",
      "2021-07-10 12:22:44,081  WARNING  common.leastsquare : Cannot calculate inverse matrix. Calculate pseudo-inverse matrix instead.\n",
      "2021-07-10 12:22:44,083  DEBUG  common.leastsquare : Solving with least square calculation (iteration = 15, norm = 0.000000)\n",
      "2021-07-10 12:22:44,179  WARNING  common.leastsquare : Cannot calculate inverse matrix. Calculate pseudo-inverse matrix instead.\n",
      "2021-07-10 12:22:44,181  DEBUG  common.leastsquare : Solving with least square calculation (iteration = 16, norm = 0.000000)\n",
      "2021-07-10 12:22:44,277  WARNING  common.leastsquare : Cannot calculate inverse matrix. Calculate pseudo-inverse matrix instead.\n",
      "2021-07-10 12:22:44,279  DEBUG  common.leastsquare : Solving with least square calculation (iteration = 17, norm = 0.000000)\n",
      "2021-07-10 12:22:44,375  WARNING  common.leastsquare : Cannot calculate inverse matrix. Calculate pseudo-inverse matrix instead.\n",
      "2021-07-10 12:22:44,377  DEBUG  common.leastsquare : Solving with least square calculation (iteration = 18, norm = 0.000000)\n",
      "2021-07-10 12:22:44,472  WARNING  common.leastsquare : Cannot calculate inverse matrix. Calculate pseudo-inverse matrix instead.\n",
      "2021-07-10 12:22:44,474  DEBUG  common.leastsquare : Solving with least square calculation (iteration = 19, norm = 0.000000)\n",
      "2021-07-10 12:22:44,671  WARNING  common.leastsquare : Cannot calculate inverse matrix. Calculate pseudo-inverse matrix instead.\n",
      "2021-07-10 12:22:44,673  DEBUG  common.leastsquare : Solving with least square calculation (iteration = 20, norm = 0.000000)\n",
      "2021-07-10 12:22:44,776  WARNING  common.leastsquare : Cannot calculate inverse matrix. Calculate pseudo-inverse matrix instead.\n",
      "2021-07-10 12:22:44,778  DEBUG  common.leastsquare : Solving with least square calculation (iteration = 21, norm = 0.000000)\n",
      "2021-07-10 12:22:44,949  WARNING  common.leastsquare : Cannot calculate inverse matrix. Calculate pseudo-inverse matrix instead.\n",
      "2021-07-10 12:22:44,951  DEBUG  common.leastsquare : Solving with least square calculation (iteration = 22, norm = 0.000000)\n",
      "2021-07-10 12:22:45,055  WARNING  common.leastsquare : Cannot calculate inverse matrix. Calculate pseudo-inverse matrix instead.\n",
      "2021-07-10 12:22:45,057  DEBUG  common.leastsquare : Solving with least square calculation (iteration = 23, norm = 0.000000)\n",
      "2021-07-10 12:22:45,152  WARNING  common.leastsquare : Cannot calculate inverse matrix. Calculate pseudo-inverse matrix instead.\n",
      "2021-07-10 12:22:45,154  DEBUG  common.leastsquare : Solving with least square calculation (iteration = 24, norm = 0.000000)\n",
      "2021-07-10 12:22:45,311  WARNING  common.leastsquare : Cannot calculate inverse matrix. Calculate pseudo-inverse matrix instead.\n",
      "2021-07-10 12:22:45,313  DEBUG  common.leastsquare : Solving with least square calculation (iteration = 25, norm = 0.000000)\n",
      "2021-07-10 12:22:45,417  WARNING  common.leastsquare : Cannot calculate inverse matrix. Calculate pseudo-inverse matrix instead.\n",
      "2021-07-10 12:22:45,420  DEBUG  common.leastsquare : Solving with least square calculation (iteration = 26, norm = 0.000000)\n",
      "2021-07-10 12:22:45,579  WARNING  common.leastsquare : Cannot calculate inverse matrix. Calculate pseudo-inverse matrix instead.\n",
      "2021-07-10 12:22:45,581  DEBUG  common.leastsquare : Solving with least square calculation (iteration = 27, norm = 0.000000)\n",
      "2021-07-10 12:22:45,723  WARNING  common.leastsquare : Cannot calculate inverse matrix. Calculate pseudo-inverse matrix instead.\n",
      "2021-07-10 12:22:45,726  DEBUG  common.leastsquare : Solving with least square calculation (iteration = 28, norm = 0.000000)\n",
      "2021-07-10 12:22:45,887  WARNING  common.leastsquare : Cannot calculate inverse matrix. Calculate pseudo-inverse matrix instead.\n",
      "2021-07-10 12:22:45,890  DEBUG  common.leastsquare : Solving with least square calculation (iteration = 29, norm = 0.000000)\n",
      "2021-07-10 12:22:46,076  WARNING  common.leastsquare : Cannot calculate inverse matrix. Calculate pseudo-inverse matrix instead.\n",
      "2021-07-10 12:22:46,079  DEBUG  common.leastsquare : Solving with least square calculation (iteration = 30, norm = 0.000000)\n",
      "2021-07-10 12:22:46,237  WARNING  common.leastsquare : Cannot calculate inverse matrix. Calculate pseudo-inverse matrix instead.\n",
      "2021-07-10 12:22:46,240  DEBUG  common.leastsquare : Solving with least square calculation (iteration = 31, norm = 0.000000)\n",
      "2021-07-10 12:22:46,373  WARNING  common.leastsquare : Cannot calculate inverse matrix. Calculate pseudo-inverse matrix instead.\n",
      "2021-07-10 12:22:46,376  DEBUG  common.leastsquare : Solving with least square calculation (iteration = 32, norm = 0.000000)\n",
      "2021-07-10 12:22:46,526  WARNING  common.leastsquare : Cannot calculate inverse matrix. Calculate pseudo-inverse matrix instead.\n",
      "2021-07-10 12:22:46,529  DEBUG  common.leastsquare : Solving with least square calculation (iteration = 33, norm = 0.000000)\n",
      "2021-07-10 12:22:46,626  WARNING  common.leastsquare : Cannot calculate inverse matrix. Calculate pseudo-inverse matrix instead.\n",
      "2021-07-10 12:22:46,628  DEBUG  common.leastsquare : Solving with least square calculation (iteration = 34, norm = 0.000000)\n",
      "2021-07-10 12:22:46,737  WARNING  common.leastsquare : Cannot calculate inverse matrix. Calculate pseudo-inverse matrix instead.\n",
      "2021-07-10 12:22:46,747  DEBUG  common.leastsquare : Solving with least square calculation (iteration = 35, norm = 0.000000)\n",
      "2021-07-10 12:22:46,876  WARNING  common.leastsquare : Cannot calculate inverse matrix. Calculate pseudo-inverse matrix instead.\n",
      "2021-07-10 12:22:46,879  DEBUG  common.leastsquare : Solving with least square calculation (iteration = 36, norm = 0.000000)\n",
      "2021-07-10 12:22:47,034  WARNING  common.leastsquare : Cannot calculate inverse matrix. Calculate pseudo-inverse matrix instead.\n",
      "2021-07-10 12:22:47,037  DEBUG  common.leastsquare : Solving with least square calculation (iteration = 37, norm = 0.000000)\n",
      "2021-07-10 12:22:47,153  WARNING  common.leastsquare : Cannot calculate inverse matrix. Calculate pseudo-inverse matrix instead.\n",
      "2021-07-10 12:22:47,156  DEBUG  common.leastsquare : Solving with least square calculation (iteration = 38, norm = 0.000000)\n",
      "2021-07-10 12:22:47,311  WARNING  common.leastsquare : Cannot calculate inverse matrix. Calculate pseudo-inverse matrix instead.\n",
      "2021-07-10 12:22:47,314  DEBUG  common.leastsquare : Solving with least square calculation (iteration = 39, norm = 0.000000)\n",
      "2021-07-10 12:22:47,462  WARNING  common.leastsquare : Cannot calculate inverse matrix. Calculate pseudo-inverse matrix instead.\n",
      "2021-07-10 12:22:47,465  DEBUG  common.leastsquare : Solving with least square calculation (iteration = 40, norm = 0.000000)\n",
      "2021-07-10 12:22:47,573  WARNING  common.leastsquare : Cannot calculate inverse matrix. Calculate pseudo-inverse matrix instead.\n",
      "2021-07-10 12:22:47,576  DEBUG  common.leastsquare : Solving with least square calculation (iteration = 41, norm = 0.000000)\n",
      "2021-07-10 12:22:47,735  WARNING  common.leastsquare : Cannot calculate inverse matrix. Calculate pseudo-inverse matrix instead.\n",
      "2021-07-10 12:22:47,738  DEBUG  common.leastsquare : Solving with least square calculation (iteration = 42, norm = 0.000000)\n",
      "2021-07-10 12:22:47,886  WARNING  common.leastsquare : Cannot calculate inverse matrix. Calculate pseudo-inverse matrix instead.\n",
      "2021-07-10 12:22:47,889  DEBUG  common.leastsquare : Solving with least square calculation (iteration = 43, norm = 0.000000)\n",
      "2021-07-10 12:22:47,986  WARNING  common.leastsquare : Cannot calculate inverse matrix. Calculate pseudo-inverse matrix instead.\n",
      "2021-07-10 12:22:47,988  DEBUG  common.leastsquare : Solving with least square calculation (iteration = 44, norm = 0.000000)\n",
      "2021-07-10 12:22:48,085  WARNING  common.leastsquare : Cannot calculate inverse matrix. Calculate pseudo-inverse matrix instead.\n",
      "2021-07-10 12:22:48,087  DEBUG  common.leastsquare : Solving with least square calculation (iteration = 45, norm = 0.000000)\n",
      "2021-07-10 12:22:48,222  WARNING  common.leastsquare : Cannot calculate inverse matrix. Calculate pseudo-inverse matrix instead.\n",
      "2021-07-10 12:22:48,225  DEBUG  common.leastsquare : Solving with least square calculation (iteration = 46, norm = 0.000000)\n",
      "2021-07-10 12:22:48,371  WARNING  common.leastsquare : Cannot calculate inverse matrix. Calculate pseudo-inverse matrix instead.\n",
      "2021-07-10 12:22:48,374  DEBUG  common.leastsquare : Solving with least square calculation (iteration = 47, norm = 0.000000)\n",
      "2021-07-10 12:22:48,470  WARNING  common.leastsquare : Cannot calculate inverse matrix. Calculate pseudo-inverse matrix instead.\n",
      "2021-07-10 12:22:48,474  DEBUG  common.leastsquare : Solving with least square calculation (iteration = 48, norm = 0.000000)\n",
      "2021-07-10 12:22:48,625  WARNING  common.leastsquare : Cannot calculate inverse matrix. Calculate pseudo-inverse matrix instead.\n",
      "2021-07-10 12:22:48,628  DEBUG  common.leastsquare : Solving with least square calculation (iteration = 49, norm = 0.000000)\n",
      "2021-07-10 12:22:48,793  WARNING  common.leastsquare : Cannot calculate inverse matrix. Calculate pseudo-inverse matrix instead.\n",
      "2021-07-10 12:22:48,796  DEBUG  common.leastsquare : Solving with least square calculation (iteration = 50, norm = 0.000000)\n",
      "2021-07-10 12:22:48,938  WARNING  common.leastsquare : Cannot calculate inverse matrix. Calculate pseudo-inverse matrix instead.\n",
      "2021-07-10 12:22:48,941  DEBUG  common.leastsquare : Solving with least square calculation (iteration = 51, norm = 0.000000)\n",
      "2021-07-10 12:22:49,080  WARNING  common.leastsquare : Cannot calculate inverse matrix. Calculate pseudo-inverse matrix instead.\n",
      "2021-07-10 12:22:49,082  DEBUG  common.leastsquare : Solving with least square calculation (iteration = 52, norm = 0.000000)\n",
      "2021-07-10 12:22:49,178  WARNING  common.leastsquare : Cannot calculate inverse matrix. Calculate pseudo-inverse matrix instead.\n",
      "2021-07-10 12:22:49,181  DEBUG  common.leastsquare : Solving with least square calculation (iteration = 53, norm = 0.000000)\n",
      "2021-07-10 12:22:49,305  WARNING  common.leastsquare : Cannot calculate inverse matrix. Calculate pseudo-inverse matrix instead.\n",
      "2021-07-10 12:22:49,308  DEBUG  common.leastsquare : Solving with least square calculation (iteration = 54, norm = 0.000000)\n",
      "2021-07-10 12:22:49,456  WARNING  common.leastsquare : Cannot calculate inverse matrix. Calculate pseudo-inverse matrix instead.\n",
      "2021-07-10 12:22:49,460  DEBUG  common.leastsquare : Solving with least square calculation (iteration = 55, norm = 0.000000)\n",
      "2021-07-10 12:22:49,556  WARNING  common.leastsquare : Cannot calculate inverse matrix. Calculate pseudo-inverse matrix instead.\n",
      "2021-07-10 12:22:49,558  DEBUG  common.leastsquare : Solving with least square calculation (iteration = 56, norm = 0.000000)\n",
      "2021-07-10 12:22:49,654  WARNING  common.leastsquare : Cannot calculate inverse matrix. Calculate pseudo-inverse matrix instead.\n",
      "2021-07-10 12:22:49,657  DEBUG  common.leastsquare : Solving with least square calculation (iteration = 57, norm = 0.000000)\n",
      "2021-07-10 12:22:49,753  WARNING  common.leastsquare : Cannot calculate inverse matrix. Calculate pseudo-inverse matrix instead.\n",
      "2021-07-10 12:22:49,756  DEBUG  common.leastsquare : Solving with least square calculation (iteration = 58, norm = 0.000000)\n",
      "2021-07-10 12:22:49,854  WARNING  common.leastsquare : Cannot calculate inverse matrix. Calculate pseudo-inverse matrix instead.\n",
      "2021-07-10 12:22:49,857  DEBUG  common.leastsquare : Solving with least square calculation (iteration = 59, norm = 0.000000)\n",
      "2021-07-10 12:22:50,004  WARNING  common.leastsquare : Cannot calculate inverse matrix. Calculate pseudo-inverse matrix instead.\n",
      "2021-07-10 12:22:50,007  DEBUG  common.leastsquare : Solving with least square calculation (iteration = 60, norm = 0.000000)\n",
      "2021-07-10 12:22:50,103  WARNING  common.leastsquare : Cannot calculate inverse matrix. Calculate pseudo-inverse matrix instead.\n",
      "2021-07-10 12:22:50,106  DEBUG  common.leastsquare : Solving with least square calculation (iteration = 61, norm = 0.000000)\n",
      "2021-07-10 12:22:50,245  WARNING  common.leastsquare : Cannot calculate inverse matrix. Calculate pseudo-inverse matrix instead.\n",
      "2021-07-10 12:22:50,248  DEBUG  common.leastsquare : Solving with least square calculation (iteration = 62, norm = 0.000000)\n",
      "2021-07-10 12:22:50,345  WARNING  common.leastsquare : Cannot calculate inverse matrix. Calculate pseudo-inverse matrix instead.\n",
      "2021-07-10 12:22:50,347  DEBUG  common.leastsquare : Solving with least square calculation (iteration = 63, norm = 0.000000)\n",
      "2021-07-10 12:22:50,494  WARNING  common.leastsquare : Cannot calculate inverse matrix. Calculate pseudo-inverse matrix instead.\n",
      "2021-07-10 12:22:50,497  DEBUG  common.leastsquare : Solving with least square calculation (iteration = 64, norm = 0.000000)\n",
      "2021-07-10 12:22:50,634  WARNING  common.leastsquare : Cannot calculate inverse matrix. Calculate pseudo-inverse matrix instead.\n",
      "2021-07-10 12:22:50,637  DEBUG  common.leastsquare : Solving with least square calculation (iteration = 65, norm = 0.000000)\n",
      "2021-07-10 12:22:50,809  WARNING  common.leastsquare : Cannot calculate inverse matrix. Calculate pseudo-inverse matrix instead.\n",
      "2021-07-10 12:22:50,812  DEBUG  common.leastsquare : Solving with least square calculation (iteration = 66, norm = 0.000000)\n",
      "2021-07-10 12:22:50,982  WARNING  common.leastsquare : Cannot calculate inverse matrix. Calculate pseudo-inverse matrix instead.\n",
      "2021-07-10 12:22:50,985  DEBUG  common.leastsquare : Solving with least square calculation (iteration = 67, norm = 0.000000)\n",
      "2021-07-10 12:22:51,125  WARNING  common.leastsquare : Cannot calculate inverse matrix. Calculate pseudo-inverse matrix instead.\n",
      "2021-07-10 12:22:51,128  DEBUG  common.leastsquare : Solving with least square calculation (iteration = 68, norm = 0.000000)\n",
      "2021-07-10 12:22:51,241  WARNING  common.leastsquare : Cannot calculate inverse matrix. Calculate pseudo-inverse matrix instead.\n",
      "2021-07-10 12:22:51,244  DEBUG  common.leastsquare : Solving with least square calculation (iteration = 69, norm = 0.000000)\n",
      "2021-07-10 12:22:51,370  WARNING  common.leastsquare : Cannot calculate inverse matrix. Calculate pseudo-inverse matrix instead.\n",
      "2021-07-10 12:22:51,373  DEBUG  common.leastsquare : Solving with least square calculation (iteration = 70, norm = 0.000000)\n",
      "2021-07-10 12:22:51,475  WARNING  common.leastsquare : Cannot calculate inverse matrix. Calculate pseudo-inverse matrix instead.\n",
      "2021-07-10 12:22:51,478  DEBUG  common.leastsquare : Solving with least square calculation (iteration = 71, norm = 0.000000)\n",
      "2021-07-10 12:22:51,608  WARNING  common.leastsquare : Cannot calculate inverse matrix. Calculate pseudo-inverse matrix instead.\n",
      "2021-07-10 12:22:51,611  DEBUG  common.leastsquare : Solving with least square calculation (iteration = 72, norm = 0.000000)\n",
      "2021-07-10 12:22:51,718  WARNING  common.leastsquare : Cannot calculate inverse matrix. Calculate pseudo-inverse matrix instead.\n",
      "2021-07-10 12:22:51,721  DEBUG  common.leastsquare : Solving with least square calculation (iteration = 73, norm = 0.000000)\n",
      "2021-07-10 12:22:51,871  WARNING  common.leastsquare : Cannot calculate inverse matrix. Calculate pseudo-inverse matrix instead.\n",
      "2021-07-10 12:22:51,875  DEBUG  common.leastsquare : Solving with least square calculation (iteration = 74, norm = 0.000000)\n",
      "2021-07-10 12:22:52,033  WARNING  common.leastsquare : Cannot calculate inverse matrix. Calculate pseudo-inverse matrix instead.\n",
      "2021-07-10 12:22:52,037  DEBUG  common.leastsquare : Solving with least square calculation (iteration = 75, norm = 0.000000)\n",
      "2021-07-10 12:22:52,185  WARNING  common.leastsquare : Cannot calculate inverse matrix. Calculate pseudo-inverse matrix instead.\n",
      "2021-07-10 12:22:52,188  DEBUG  common.leastsquare : Solving with least square calculation (iteration = 76, norm = 0.000000)\n",
      "2021-07-10 12:22:52,284  WARNING  common.leastsquare : Cannot calculate inverse matrix. Calculate pseudo-inverse matrix instead.\n",
      "2021-07-10 12:22:52,287  DEBUG  common.leastsquare : Solving with least square calculation (iteration = 77, norm = 0.000000)\n",
      "2021-07-10 12:22:52,449  WARNING  common.leastsquare : Cannot calculate inverse matrix. Calculate pseudo-inverse matrix instead.\n",
      "2021-07-10 12:22:52,452  DEBUG  common.leastsquare : Solving with least square calculation (iteration = 78, norm = 0.000000)\n",
      "2021-07-10 12:22:52,602  WARNING  common.leastsquare : Cannot calculate inverse matrix. Calculate pseudo-inverse matrix instead.\n",
      "2021-07-10 12:22:52,604  DEBUG  common.leastsquare : Solving with least square calculation (iteration = 79, norm = 0.000000)\n",
      "2021-07-10 12:22:52,701  WARNING  common.leastsquare : Cannot calculate inverse matrix. Calculate pseudo-inverse matrix instead.\n",
      "2021-07-10 12:22:52,704  DEBUG  common.leastsquare : Solving with least square calculation (iteration = 80, norm = 0.000000)\n",
      "2021-07-10 12:22:52,832  WARNING  common.leastsquare : Cannot calculate inverse matrix. Calculate pseudo-inverse matrix instead.\n",
      "2021-07-10 12:22:52,835  DEBUG  common.leastsquare : Solving with least square calculation (iteration = 81, norm = 0.000000)\n",
      "2021-07-10 12:22:52,931  WARNING  common.leastsquare : Cannot calculate inverse matrix. Calculate pseudo-inverse matrix instead.\n",
      "2021-07-10 12:22:52,934  DEBUG  common.leastsquare : Solving with least square calculation (iteration = 82, norm = 0.000000)\n",
      "2021-07-10 12:22:53,042  WARNING  common.leastsquare : Cannot calculate inverse matrix. Calculate pseudo-inverse matrix instead.\n",
      "2021-07-10 12:22:53,046  DEBUG  common.leastsquare : Solving with least square calculation (iteration = 83, norm = 0.000000)\n",
      "2021-07-10 12:22:53,204  WARNING  common.leastsquare : Cannot calculate inverse matrix. Calculate pseudo-inverse matrix instead.\n",
      "2021-07-10 12:22:53,207  DEBUG  common.leastsquare : Solving with least square calculation (iteration = 84, norm = 0.000000)\n",
      "2021-07-10 12:22:53,304  WARNING  common.leastsquare : Cannot calculate inverse matrix. Calculate pseudo-inverse matrix instead.\n",
      "2021-07-10 12:22:53,307  DEBUG  common.leastsquare : Solving with least square calculation (iteration = 85, norm = 0.000000)\n",
      "2021-07-10 12:22:53,436  WARNING  common.leastsquare : Cannot calculate inverse matrix. Calculate pseudo-inverse matrix instead.\n",
      "2021-07-10 12:22:53,439  DEBUG  common.leastsquare : Solving with least square calculation (iteration = 86, norm = 0.000000)\n",
      "2021-07-10 12:22:53,579  WARNING  common.leastsquare : Cannot calculate inverse matrix. Calculate pseudo-inverse matrix instead.\n",
      "2021-07-10 12:22:53,582  DEBUG  common.leastsquare : Solving with least square calculation (iteration = 87, norm = 0.000000)\n",
      "2021-07-10 12:22:53,678  WARNING  common.leastsquare : Cannot calculate inverse matrix. Calculate pseudo-inverse matrix instead.\n",
      "2021-07-10 12:22:53,681  DEBUG  common.leastsquare : Solving with least square calculation (iteration = 88, norm = 0.000000)\n",
      "2021-07-10 12:22:53,822  WARNING  common.leastsquare : Cannot calculate inverse matrix. Calculate pseudo-inverse matrix instead.\n",
      "2021-07-10 12:22:53,825  DEBUG  common.leastsquare : Solving with least square calculation (iteration = 89, norm = 0.000000)\n",
      "2021-07-10 12:22:53,922  WARNING  common.leastsquare : Cannot calculate inverse matrix. Calculate pseudo-inverse matrix instead.\n",
      "2021-07-10 12:22:53,924  DEBUG  common.leastsquare : Solving with least square calculation (iteration = 90, norm = 0.000000)\n",
      "2021-07-10 12:22:54,032  WARNING  common.leastsquare : Cannot calculate inverse matrix. Calculate pseudo-inverse matrix instead.\n",
      "2021-07-10 12:22:54,035  DEBUG  common.leastsquare : Solving with least square calculation (iteration = 91, norm = 0.000000)\n",
      "2021-07-10 12:22:54,143  WARNING  common.leastsquare : Cannot calculate inverse matrix. Calculate pseudo-inverse matrix instead.\n",
      "2021-07-10 12:22:54,145  DEBUG  common.leastsquare : Solving with least square calculation (iteration = 92, norm = 0.000000)\n",
      "2021-07-10 12:22:54,242  WARNING  common.leastsquare : Cannot calculate inverse matrix. Calculate pseudo-inverse matrix instead.\n",
      "2021-07-10 12:22:54,245  DEBUG  common.leastsquare : Solving with least square calculation (iteration = 93, norm = 0.000000)\n",
      "2021-07-10 12:22:54,389  WARNING  common.leastsquare : Cannot calculate inverse matrix. Calculate pseudo-inverse matrix instead.\n",
      "2021-07-10 12:22:54,392  DEBUG  common.leastsquare : Solving with least square calculation (iteration = 94, norm = 0.000000)\n",
      "2021-07-10 12:22:54,488  WARNING  common.leastsquare : Cannot calculate inverse matrix. Calculate pseudo-inverse matrix instead.\n",
      "2021-07-10 12:22:54,491  DEBUG  common.leastsquare : Solving with least square calculation (iteration = 95, norm = 0.000000)\n",
      "2021-07-10 12:22:54,637  WARNING  common.leastsquare : Cannot calculate inverse matrix. Calculate pseudo-inverse matrix instead.\n",
      "2021-07-10 12:22:54,640  DEBUG  common.leastsquare : Solving with least square calculation (iteration = 96, norm = 0.000000)\n",
      "2021-07-10 12:22:54,737  WARNING  common.leastsquare : Cannot calculate inverse matrix. Calculate pseudo-inverse matrix instead.\n",
      "2021-07-10 12:22:54,740  DEBUG  common.leastsquare : Solving with least square calculation (iteration = 97, norm = 0.000000)\n",
      "2021-07-10 12:22:54,873  WARNING  common.leastsquare : Cannot calculate inverse matrix. Calculate pseudo-inverse matrix instead.\n",
      "2021-07-10 12:22:54,876  DEBUG  common.leastsquare : Solving with least square calculation (iteration = 98, norm = 0.000000)\n",
      "2021-07-10 12:22:55,043  WARNING  common.leastsquare : Cannot calculate inverse matrix. Calculate pseudo-inverse matrix instead.\n",
      "2021-07-10 12:22:55,048  DEBUG  common.leastsquare : Solving with least square calculation (iteration = 99, norm = 0.000000)\n",
      "2021-07-10 12:22:55,243  WARNING  common.leastsquare : Cannot calculate inverse matrix. Calculate pseudo-inverse matrix instead.\n",
      "2021-07-10 12:22:55,246  DEBUG  common.leastsquare : Solving with least square calculation (iteration = 100, norm = 0.000000)\n"
     ]
    }
   ],
   "source": [
    "from common.leastsquare import LeastSquare\n",
    "\n",
    "sip_order = 4\n",
    "\n",
    "ls = LeastSquare(lambda a: model(a, pixcrd, sip_order), np.size(data['x'])*2)\n",
    "\n",
    "# constructing a_init (initial parameter set).\n",
    "a_init = [ra0.value, dec0.value, pa0.value, scale0.value]\n",
    "for i in range(0, 2*(sip_order+1)**2):\n",
    "    a_init.append(0)\n",
    "a_init = np.array(a_init) # This must be an ndarray.\n",
    "\n",
    "# constraining ra/dec values in 'observed' between -180 and 180 deg.\n",
    "true_pos = np.concatenate((data['ra'], data['dec']))\n",
    "pos = np.where(true_pos>180.)\n",
    "true_pos[pos] = true_pos[pos] - 360.\n",
    "pos = np.where(true_pos<-180.)\n",
    "true_pos[pos] = true_pos[pos] + 360.\n",
    "\n",
    "result, _ = ls.solve(true_pos, a_init, max_iteration=100)\n",
    "\n",
    "if result[3] < 0:\n",
    "    result[3] = -result[3]\n",
    "    result[2] = result[2] + 180.0\n",
    "\n",
    "if result[2] > 360.0 or result[2] < 0.0:\n",
    "    result[2] = result[2]%360.0"
   ]
  },
  {
   "cell_type": "markdown",
   "metadata": {},
   "source": [
    "The result is..."
   ]
  },
  {
   "cell_type": "code",
   "execution_count": 13,
   "metadata": {},
   "outputs": [
    {
     "name": "stdout",
     "output_type": "stream",
     "text": [
      "Center R.A.   : -0.010944 deg.\n",
      "Center Dec.   : 0.000856 deg.\n",
      "Position angle: 220.263754 deg.\n",
      "Plate scale   : 7.818028e-03 deg/mm\n"
     ]
    }
   ],
   "source": [
    "print(\"Center R.A.   : {:f} deg.\".format(result[0]))\n",
    "print(\"Center Dec.   : {:f} deg.\".format(result[1]))\n",
    "print(\"Position angle: {:f} deg.\".format(result[2]))\n",
    "print(\"Plate scale   : {:e} deg/mm\".format(result[3]))"
   ]
  },
  {
   "cell_type": "code",
   "execution_count": 14,
   "metadata": {},
   "outputs": [
    {
     "name": "stdout",
     "output_type": "stream",
     "text": [
      "[[-6.53956349e-14  8.71516700e-14  2.02558301e-04 -5.67340936e-06\n",
      "   5.00485852e-07]\n",
      " [-3.48669002e-15  2.33932611e-03  6.62493000e-05  1.05295705e-06\n",
      "  -1.10192258e-16]\n",
      " [ 1.12357849e-03  1.03818550e-05  6.86761338e-07  1.08325424e-16\n",
      "  -4.65241941e-17]\n",
      " [ 5.46738356e-05  9.23210709e-07 -5.18028851e-19  3.48429703e-20\n",
      "   8.73813459e-21]\n",
      " [ 1.74290223e-07  1.19532696e-22 -1.59347085e-22  0.00000000e+00\n",
      "   0.00000000e+00]]\n",
      "[[ 0.00000000e+00  0.00000000e+00  3.46943592e-03  7.05928726e-05\n",
      "   1.46541077e-06]\n",
      " [ 0.00000000e+00  5.35622094e-04  1.01319576e-05  7.76374684e-07\n",
      "   0.00000000e+00]\n",
      " [ 1.06628315e-03  6.13410912e-05  1.60967057e-06  0.00000000e+00\n",
      "   0.00000000e+00]\n",
      " [-5.95793996e-06  6.79561621e-07  0.00000000e+00  0.00000000e+00\n",
      "   0.00000000e+00]\n",
      " [ 5.23303455e-07  0.00000000e+00  0.00000000e+00  0.00000000e+00\n",
      "   0.00000000e+00]]\n"
     ]
    }
   ],
   "source": [
    "print(result[4:4+(sip_order+1)**2].reshape((sip_order+1, sip_order+1)))\n",
    "print(result[4+(sip_order+1)**2:].reshape((sip_order+1, sip_order+1)))"
   ]
  },
  {
   "cell_type": "markdown",
   "metadata": {},
   "source": [
    "According to the meta part of the input file, the poiunting RA and Dec are 0.0 deg. The position angle is 220.2670421000566 deg. The calculation seems to correctly estimate these parameters."
   ]
  },
  {
   "cell_type": "markdown",
   "metadata": {},
   "source": [
    "Let's compare the ra/dec values calculated from the derived parameters with the true values."
   ]
  },
  {
   "cell_type": "code",
   "execution_count": 15,
   "metadata": {},
   "outputs": [
    {
     "data": {
      "text/plain": [
       "<matplotlib.legend.Legend at 0x7f0a2c80d0b8>"
      ]
     },
     "execution_count": 15,
     "metadata": {},
     "output_type": "execute_result"
    },
    {
     "data": {
      "image/png": "[encoded data removed]",
      "text/plain": [
       "<Figure size 1008x576 with 1 Axes>"
      ]
     },
     "metadata": {
      "needs_background": "light"
     },
     "output_type": "display_data"
    }
   ],
   "source": [
    "positions = model(result, pixcrd, sip_order)\n",
    "positions = positions.reshape((2,int(positions.size/2))).T\n",
    "\n",
    "fig = plt.figure(figsize=(14,8))\n",
    "ax = fig.add_subplot(111)\n",
    "ax.scatter(data['ra'], data['dec'], marker='+', label='Truth')\n",
    "ax.scatter(data['ra']-360., data['dec'], marker='+', label='')\n",
    "ax.scatter(positions[:,0], positions[:,1], marker='x', label='Reproduced')\n",
    "ax.set_xlabel('R.A. (deg)')\n",
    "ax.set_ylabel('Dec. (deg)')\n",
    "ax.set_xlim([-0.3,0.3])\n",
    "#ax.set_aspect('equal', adjustable='box')\n",
    "ax.legend()"
   ]
  },
  {
   "cell_type": "markdown",
   "metadata": {},
   "source": [
    "The reproduced ra/dec values seem to match the true values very well."
   ]
  },
  {
   "cell_type": "code",
   "execution_count": 16,
   "metadata": {},
   "outputs": [],
   "source": [
    "from astropy.coordinates import SkyCoord\n",
    "\n",
    "c_calc = SkyCoord(positions[:,0]*u.deg, positions[:,1]*u.deg, frame='icrs')\n",
    "c_true = SkyCoord(data['ra'], data['dec'], frame='icrs')\n",
    "sep = c_calc.separation(c_true)"
   ]
  },
  {
   "cell_type": "code",
   "execution_count": 17,
   "metadata": {},
   "outputs": [
    {
     "data": {
      "text/plain": [
       "Text(0, 0.5, 'Position estimation error (arcsec)')"
      ]
     },
     "execution_count": 17,
     "metadata": {},
     "output_type": "execute_result"
    },
    {
     "data": {
      "image/png": "[encoded data removed]",
      "text/plain": [
       "<Figure size 432x288 with 1 Axes>"
      ]
     },
     "metadata": {
      "needs_background": "light"
     },
     "output_type": "display_data"
    }
   ],
   "source": [
    "plt.plot(sep.arcsec, '.')\n",
    "plt.xlabel('Index')\n",
    "plt.ylabel('Position estimation error (arcsec)')"
   ]
  },
  {
   "cell_type": "markdown",
   "metadata": {},
   "source": [
    "The position difference is small, typically around <1 arcsec."
   ]
  },
  {
   "cell_type": "code",
   "execution_count": null,
   "metadata": {},
   "outputs": [],
   "source": []
  }
 ],
 "metadata": {
  "kernelspec": {
   "display_name": "Python 3",
   "language": "python",
   "name": "python3"
  },
  "language_info": {
   "codemirror_mode": {
    "name": "ipython",
    "version": 3
   },
   "file_extension": ".py",
   "mimetype": "text/x-python",
   "name": "python",
   "nbconvert_exporter": "python",
   "pygments_lexer": "ipython3",
   "version": "3.7.1"
  }
 },
 "nbformat": 4,
 "nbformat_minor": 2
}
