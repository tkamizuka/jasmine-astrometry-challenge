{
 "cells": [
  {
   "cell_type": "markdown",
   "metadata": {},
   "source": [
    "# Case3-challenge01"
   ]
  },
  {
   "cell_type": "markdown",
   "metadata": {},
   "source": [
    "At first, we add the analysis directory to the python path."
   ]
  },
  {
   "cell_type": "code",
   "execution_count": 1,
   "metadata": {},
   "outputs": [],
   "source": [
    "import sys\n",
    "sys.path.append('/home/kamizuka/analysis')"
   ]
  },
  {
   "cell_type": "markdown",
   "metadata": {},
   "source": [
    "At first, we load the data, 'case3_chalenge_01.txt'."
   ]
  },
  {
   "cell_type": "code",
   "execution_count": 2,
   "metadata": {},
   "outputs": [],
   "source": [
    "import astropy.io.ascii as asc\n",
    "from astropy import units as u\n",
    "\n",
    "data = asc.read('case3_challenge_01.txt')\n",
    "data['x'] = data['x']*1.e-3 # Converting um to mm.\n",
    "data['y'] = data['y']*1.e-3 # Converting um to mm.\n",
    "data['x'].unit = u.mm\n",
    "data['y'].unit = u.mm\n",
    "data['ra'].unit = u.deg\n",
    "data['dec'].unit = u.deg"
   ]
  },
  {
   "cell_type": "markdown",
   "metadata": {},
   "source": [
    "The source distribution is shown in the figure below."
   ]
  },
  {
   "cell_type": "code",
   "execution_count": 3,
   "metadata": {},
   "outputs": [],
   "source": [
    "import matplotlib.pylab as plt\n",
    "\n",
    "fig = plt.figure(figsize=(7,4))\n",
    "ax = fig.add_subplot(111)\n",
    "ax.scatter(data['x'], data['y'], marker='x')\n",
    "ax.set_xlabel('X (mm)')\n",
    "ax.set_ylabel('Y (mm)')\n",
    "ax.set_xlim([-25,25])\n",
    "ax.set_ylim([-25,25])\n",
    "ax.set_aspect('equal', adjustable='box')\n",
    "\n",
    "fig = plt.figure(figsize=(7,4))\n",
    "ax = fig.add_subplot(111)\n",
    "ax.scatter(data['ra'], data['dec'], marker='x')\n",
    "ax.scatter(data['ra']-360.0, data['dec'], marker='x')\n",
    "ax.set_xlabel('R.A. (deg)')\n",
    "ax.set_ylabel('Dec. (deg)')\n",
    "ax.set_xlim([-0.3,0.3])\n",
    "ax.set_aspect('equal', adjustable='box')"
   ]
  },
  {
   "cell_type": "markdown",
   "metadata": {},
   "source": [
    "We guess the field parameters."
   ]
  },
  {
   "cell_type": "code",
   "execution_count": 4,
   "metadata": {},
   "outputs": [
    {
     "name": "stdout",
     "output_type": "stream",
     "text": [
      "359.99387755102043 deg\n",
      "-0.006122448979591855 deg\n",
      "0.007909170042520645 deg / mm\n",
      "0.0 deg\n"
     ]
    }
   ],
   "source": [
    "import numpy as np\n",
    "from astropy.coordinates import SkyCoord, Angle\n",
    "\n",
    "r = np.sqrt(data['x']**2.+data['y']**2.)\n",
    "i0 = np.argmin(r)\n",
    "ra0  = data['ra'].quantity[i0]\n",
    "dec0 = data['dec'].quantity[i0]\n",
    "\n",
    "c0 = SkyCoord(ra=ra0, dec=dec0, frame='icrs')\n",
    "c1 = SkyCoord(ra=data['ra'].quantity[0], dec=data['dec'].quantity[0], frame='icrs')\n",
    "angle_sep = c0.separation(c1)\n",
    "\n",
    "dx = data['x'].quantity[i0] - data['x'].quantity[0]\n",
    "dy = data['y'].quantity[i0] - data['y'].quantity[0]\n",
    "mm_sep = np.sqrt(dx*dx+dy*dy)\n",
    "\n",
    "scale0 = angle_sep/mm_sep\n",
    "\n",
    "pa0 = 0.0 * u.deg\n",
    "\n",
    "print(ra0)\n",
    "print(dec0)\n",
    "print(scale0)\n",
    "print(pa0)"
   ]
  },
  {
   "cell_type": "markdown",
   "metadata": {},
   "source": [
    "Here, we define a function to construct a wcs instance from given parameters."
   ]
  },
  {
   "cell_type": "code",
   "execution_count": 5,
   "metadata": {},
   "outputs": [],
   "source": [
    "from astropy.wcs import WCS\n",
    "from astropy.wcs import Sip\n",
    "\n",
    "def wcs(ra0, dec0, pa0, scale0, a=None, b=None):\n",
    "    w = WCS(naxis=2)\n",
    "    w.wcs.crpix=[0,0]\n",
    "    w.wcs.cdelt=np.array([-scale0, scale0])\n",
    "    w.wcs.crval=[ra0, dec0]\n",
    "    w.wcs.ctype=[\"RA---TAN-SIP\", \"DEC--TAN-SIP\"]\n",
    "    w.wcs.pc=[[ np.cos(pa0*u.deg), np.sin(pa0*u.deg)],\n",
    "              [-np.sin(pa0*u.deg), np.cos(pa0*u.deg)]]\n",
    "    if a is not None and b is not None:\n",
    "        w.sip = Sip(a, b, None, None, [0, 0])\n",
    "    return w"
   ]
  },
  {
   "cell_type": "markdown",
   "metadata": {},
   "source": [
    "Next, we define a model function to estimate the position angle. This function calculates RA and Dec from the position on the focal plane. At this moment, we ignore the distortion."
   ]
  },
  {
   "cell_type": "code",
   "execution_count": 6,
   "metadata": {},
   "outputs": [],
   "source": [
    "def model_wo_distortion(params, pxcrd):\n",
    "    # params must be an ndarray of dimension-less values.\n",
    "    # assuming params = [ra, dec, pa, scale].\n",
    "    ra_ptg  = params[0] # value in deg.\n",
    "    dec_ptg = params[1] # value in deg.\n",
    "    pa_ptg  = params[2] # value in deg.\n",
    "    scale   = params[3] # value in deg/mm.\n",
    "    \n",
    "    w = wcs(ra_ptg, dec_ptg, pa_ptg, scale)\n",
    "    world = w.all_pix2world(pixcrd, 0)\n",
    "\n",
    "    # constraining ra and dec in 'world' between -180 to 180 deg.\n",
    "    pos = np.where(world>180.)\n",
    "    world[pos] = world[pos] - 360.\n",
    "    pos = np.where(world<-180.)\n",
    "    world[pos] = world[pos] + 360.\n",
    "    \n",
    "    return world.T.flatten()"
   ]
  },
  {
   "cell_type": "markdown",
   "metadata": {},
   "source": [
    "Then, we make an array of the coordinates on the focal plane."
   ]
  },
  {
   "cell_type": "code",
   "execution_count": 7,
   "metadata": {},
   "outputs": [],
   "source": [
    "pixcrd = np.concatenate(([data['x']],[data['y']])).T"
   ]
  },
  {
   "cell_type": "code",
   "execution_count": 8,
   "metadata": {},
   "outputs": [
    {
     "name": "stderr",
     "output_type": "stream",
     "text": [
      "2021-07-10 12:18:45,371  DEBUG  common.leastsquare : Solving with least square calculation (iteration = 1, norm = 52.761539)\n",
      "2021-07-10 12:18:45,380  DEBUG  common.leastsquare : Solving with least square calculation (iteration = 2, norm = 32.367571)\n",
      "2021-07-10 12:18:45,387  DEBUG  common.leastsquare : Solving with least square calculation (iteration = 3, norm = 19.261963)\n",
      "2021-07-10 12:18:45,395  DEBUG  common.leastsquare : Solving with least square calculation (iteration = 4, norm = 0.171874)\n",
      "2021-07-10 12:18:45,403  DEBUG  common.leastsquare : Solving with least square calculation (iteration = 5, norm = 0.009460)\n",
      "2021-07-10 12:18:45,411  DEBUG  common.leastsquare : Solving with least square calculation (iteration = 6, norm = 0.000000)\n",
      "2021-07-10 12:18:45,419  DEBUG  common.leastsquare : Solving with least square calculation (iteration = 7, norm = 0.000000)\n",
      "2021-07-10 12:18:45,426  DEBUG  common.leastsquare : Solving with least square calculation (iteration = 8, norm = 0.000000)\n",
      "2021-07-10 12:18:45,434  DEBUG  common.leastsquare : Solving with least square calculation (iteration = 9, norm = 0.000000)\n",
      "2021-07-10 12:18:45,442  DEBUG  common.leastsquare : Solving with least square calculation (iteration = 10, norm = 0.000000)\n",
      "2021-07-10 12:18:45,449  DEBUG  common.leastsquare : Solving with least square calculation (iteration = 11, norm = 0.000001)\n",
      "2021-07-10 12:18:45,457  DEBUG  common.leastsquare : Solving with least square calculation (iteration = 12, norm = 0.000001)\n",
      "2021-07-10 12:18:45,465  DEBUG  common.leastsquare : Solving with least square calculation (iteration = 13, norm = 0.000000)\n",
      "2021-07-10 12:18:45,472  DEBUG  common.leastsquare : Solving with least square calculation (iteration = 14, norm = 0.000000)\n",
      "2021-07-10 12:18:45,480  DEBUG  common.leastsquare : Solving with least square calculation (iteration = 15, norm = 0.000000)\n",
      "2021-07-10 12:18:45,488  DEBUG  common.leastsquare : Solving with least square calculation (iteration = 16, norm = 0.000000)\n",
      "2021-07-10 12:18:45,495  DEBUG  common.leastsquare : Solving with least square calculation (iteration = 17, norm = 0.000001)\n",
      "2021-07-10 12:18:45,503  DEBUG  common.leastsquare : Solving with least square calculation (iteration = 18, norm = 0.000000)\n",
      "2021-07-10 12:18:45,511  DEBUG  common.leastsquare : Solving with least square calculation (iteration = 19, norm = 0.000000)\n",
      "2021-07-10 12:18:45,518  DEBUG  common.leastsquare : Solving with least square calculation (iteration = 20, norm = 0.000000)\n",
      "2021-07-10 12:18:45,526  DEBUG  common.leastsquare : Solving with least square calculation (iteration = 21, norm = 0.000000)\n",
      "2021-07-10 12:18:45,534  DEBUG  common.leastsquare : Solving with least square calculation (iteration = 22, norm = 0.000000)\n",
      "2021-07-10 12:18:45,541  DEBUG  common.leastsquare : Solving with least square calculation (iteration = 23, norm = 0.000001)\n",
      "2021-07-10 12:18:45,549  DEBUG  common.leastsquare : Solving with least square calculation (iteration = 24, norm = 0.000000)\n",
      "2021-07-10 12:18:45,557  DEBUG  common.leastsquare : Solving with least square calculation (iteration = 25, norm = 0.000000)\n",
      "2021-07-10 12:18:45,564  DEBUG  common.leastsquare : Solving with least square calculation (iteration = 26, norm = 0.000000)\n",
      "2021-07-10 12:18:45,572  DEBUG  common.leastsquare : Solving with least square calculation (iteration = 27, norm = 0.000001)\n",
      "2021-07-10 12:18:45,580  DEBUG  common.leastsquare : Solving with least square calculation (iteration = 28, norm = 0.000002)\n",
      "2021-07-10 12:18:45,588  DEBUG  common.leastsquare : Solving with least square calculation (iteration = 29, norm = 0.000001)\n",
      "2021-07-10 12:18:45,596  DEBUG  common.leastsquare : Solving with least square calculation (iteration = 30, norm = 0.000000)\n",
      "2021-07-10 12:18:45,604  DEBUG  common.leastsquare : Solving with least square calculation (iteration = 31, norm = 0.000001)\n",
      "2021-07-10 12:18:45,612  DEBUG  common.leastsquare : Solving with least square calculation (iteration = 32, norm = 0.000000)\n",
      "2021-07-10 12:18:45,620  DEBUG  common.leastsquare : Solving with least square calculation (iteration = 33, norm = 0.000000)\n",
      "2021-07-10 12:18:45,627  DEBUG  common.leastsquare : Solving with least square calculation (iteration = 34, norm = 0.000001)\n",
      "2021-07-10 12:18:45,635  DEBUG  common.leastsquare : Solving with least square calculation (iteration = 35, norm = 0.000000)\n",
      "2021-07-10 12:18:45,643  DEBUG  common.leastsquare : Solving with least square calculation (iteration = 36, norm = 0.000000)\n",
      "2021-07-10 12:18:45,651  DEBUG  common.leastsquare : Solving with least square calculation (iteration = 37, norm = 0.000001)\n",
      "2021-07-10 12:18:45,658  DEBUG  common.leastsquare : Solving with least square calculation (iteration = 38, norm = 0.000001)\n",
      "2021-07-10 12:18:45,670  DEBUG  common.leastsquare : Solving with least square calculation (iteration = 39, norm = 0.000000)\n",
      "2021-07-10 12:18:45,677  DEBUG  common.leastsquare : Solving with least square calculation (iteration = 40, norm = 0.000001)\n",
      "2021-07-10 12:18:45,685  DEBUG  common.leastsquare : Solving with least square calculation (iteration = 41, norm = 0.000000)\n",
      "2021-07-10 12:18:45,693  DEBUG  common.leastsquare : Solving with least square calculation (iteration = 42, norm = 0.000000)\n",
      "2021-07-10 12:18:45,701  DEBUG  common.leastsquare : Solving with least square calculation (iteration = 43, norm = 0.000001)\n",
      "2021-07-10 12:18:45,708  DEBUG  common.leastsquare : Solving with least square calculation (iteration = 44, norm = 0.000000)\n",
      "2021-07-10 12:18:45,716  DEBUG  common.leastsquare : Solving with least square calculation (iteration = 45, norm = 0.000001)\n",
      "2021-07-10 12:18:45,724  DEBUG  common.leastsquare : Solving with least square calculation (iteration = 46, norm = 0.000000)\n",
      "2021-07-10 12:18:45,732  DEBUG  common.leastsquare : Solving with least square calculation (iteration = 47, norm = 0.000000)\n",
      "2021-07-10 12:18:45,739  DEBUG  common.leastsquare : Solving with least square calculation (iteration = 48, norm = 0.000000)\n",
      "2021-07-10 12:18:45,747  DEBUG  common.leastsquare : Solving with least square calculation (iteration = 49, norm = 0.000000)\n",
      "2021-07-10 12:18:45,755  DEBUG  common.leastsquare : Solving with least square calculation (iteration = 50, norm = 0.000000)\n",
      "2021-07-10 12:18:45,763  DEBUG  common.leastsquare : Solving with least square calculation (iteration = 51, norm = 0.000001)\n",
      "2021-07-10 12:18:45,771  DEBUG  common.leastsquare : Solving with least square calculation (iteration = 52, norm = 0.000001)\n",
      "2021-07-10 12:18:45,779  DEBUG  common.leastsquare : Solving with least square calculation (iteration = 53, norm = 0.000001)\n",
      "2021-07-10 12:18:45,786  DEBUG  common.leastsquare : Solving with least square calculation (iteration = 54, norm = 0.000000)\n",
      "2021-07-10 12:18:45,794  DEBUG  common.leastsquare : Solving with least square calculation (iteration = 55, norm = 0.000001)\n",
      "2021-07-10 12:18:45,802  DEBUG  common.leastsquare : Solving with least square calculation (iteration = 56, norm = 0.000000)\n",
      "2021-07-10 12:18:45,810  DEBUG  common.leastsquare : Solving with least square calculation (iteration = 57, norm = 0.000000)\n",
      "2021-07-10 12:18:45,817  DEBUG  common.leastsquare : Solving with least square calculation (iteration = 58, norm = 0.000000)\n",
      "2021-07-10 12:18:45,825  DEBUG  common.leastsquare : Solving with least square calculation (iteration = 59, norm = 0.000001)\n",
      "2021-07-10 12:18:45,833  DEBUG  common.leastsquare : Solving with least square calculation (iteration = 60, norm = 0.000001)\n",
      "2021-07-10 12:18:45,841  DEBUG  common.leastsquare : Solving with least square calculation (iteration = 61, norm = 0.000000)\n",
      "2021-07-10 12:18:45,849  DEBUG  common.leastsquare : Solving with least square calculation (iteration = 62, norm = 0.000001)\n",
      "2021-07-10 12:18:45,857  DEBUG  common.leastsquare : Solving with least square calculation (iteration = 63, norm = 0.000001)\n",
      "2021-07-10 12:18:45,864  DEBUG  common.leastsquare : Solving with least square calculation (iteration = 64, norm = 0.000000)\n",
      "2021-07-10 12:18:45,872  DEBUG  common.leastsquare : Solving with least square calculation (iteration = 65, norm = 0.000000)\n",
      "2021-07-10 12:18:45,880  DEBUG  common.leastsquare : Solving with least square calculation (iteration = 66, norm = 0.000001)\n",
      "2021-07-10 12:18:45,888  DEBUG  common.leastsquare : Solving with least square calculation (iteration = 67, norm = 0.000001)\n",
      "2021-07-10 12:18:45,895  DEBUG  common.leastsquare : Solving with least square calculation (iteration = 68, norm = 0.000000)\n",
      "2021-07-10 12:18:45,918  DEBUG  common.leastsquare : Solving with least square calculation (iteration = 69, norm = 0.000000)\n",
      "2021-07-10 12:18:45,928  DEBUG  common.leastsquare : Solving with least square calculation (iteration = 70, norm = 0.000000)\n",
      "2021-07-10 12:18:45,936  DEBUG  common.leastsquare : Solving with least square calculation (iteration = 71, norm = 0.000000)\n",
      "2021-07-10 12:18:45,944  DEBUG  common.leastsquare : Solving with least square calculation (iteration = 72, norm = 0.000001)\n",
      "2021-07-10 12:18:45,952  DEBUG  common.leastsquare : Solving with least square calculation (iteration = 73, norm = 0.000000)\n",
      "2021-07-10 12:18:45,959  DEBUG  common.leastsquare : Solving with least square calculation (iteration = 74, norm = 0.000000)\n",
      "2021-07-10 12:18:45,967  DEBUG  common.leastsquare : Solving with least square calculation (iteration = 75, norm = 0.000000)\n",
      "2021-07-10 12:18:45,975  DEBUG  common.leastsquare : Solving with least square calculation (iteration = 76, norm = 0.000001)\n",
      "2021-07-10 12:18:45,983  DEBUG  common.leastsquare : Solving with least square calculation (iteration = 77, norm = 0.000001)\n",
      "2021-07-10 12:18:45,991  DEBUG  common.leastsquare : Solving with least square calculation (iteration = 78, norm = 0.000000)\n",
      "2021-07-10 12:18:45,999  DEBUG  common.leastsquare : Solving with least square calculation (iteration = 79, norm = 0.000000)\n",
      "2021-07-10 12:18:46,007  DEBUG  common.leastsquare : Solving with least square calculation (iteration = 80, norm = 0.000000)\n",
      "2021-07-10 12:18:46,015  DEBUG  common.leastsquare : Solving with least square calculation (iteration = 81, norm = 0.000001)\n",
      "2021-07-10 12:18:46,022  DEBUG  common.leastsquare : Solving with least square calculation (iteration = 82, norm = 0.000001)\n",
      "2021-07-10 12:18:46,030  DEBUG  common.leastsquare : Solving with least square calculation (iteration = 83, norm = 0.000000)\n",
      "2021-07-10 12:18:46,038  DEBUG  common.leastsquare : Solving with least square calculation (iteration = 84, norm = 0.000000)\n",
      "2021-07-10 12:18:46,046  DEBUG  common.leastsquare : Solving with least square calculation (iteration = 85, norm = 0.000000)\n",
      "2021-07-10 12:18:46,054  DEBUG  common.leastsquare : Solving with least square calculation (iteration = 86, norm = 0.000001)\n",
      "2021-07-10 12:18:46,062  DEBUG  common.leastsquare : Solving with least square calculation (iteration = 87, norm = 0.000000)\n",
      "2021-07-10 12:18:46,070  DEBUG  common.leastsquare : Solving with least square calculation (iteration = 88, norm = 0.000001)\n",
      "2021-07-10 12:18:46,078  DEBUG  common.leastsquare : Solving with least square calculation (iteration = 89, norm = 0.000001)\n",
      "2021-07-10 12:18:46,086  DEBUG  common.leastsquare : Solving with least square calculation (iteration = 90, norm = 0.000001)\n",
      "2021-07-10 12:18:46,094  DEBUG  common.leastsquare : Solving with least square calculation (iteration = 91, norm = 0.000000)\n",
      "2021-07-10 12:18:46,101  DEBUG  common.leastsquare : Solving with least square calculation (iteration = 92, norm = 0.000001)\n",
      "2021-07-10 12:18:46,109  DEBUG  common.leastsquare : Solving with least square calculation (iteration = 93, norm = 0.000001)\n",
      "2021-07-10 12:18:46,117  DEBUG  common.leastsquare : Solving with least square calculation (iteration = 94, norm = 0.000000)\n",
      "2021-07-10 12:18:46,125  DEBUG  common.leastsquare : Solving with least square calculation (iteration = 95, norm = 0.000000)\n",
      "2021-07-10 12:18:46,132  DEBUG  common.leastsquare : Solving with least square calculation (iteration = 96, norm = 0.000001)\n",
      "2021-07-10 12:18:46,140  DEBUG  common.leastsquare : Solving with least square calculation (iteration = 97, norm = 0.000001)\n",
      "2021-07-10 12:18:46,148  DEBUG  common.leastsquare : Solving with least square calculation (iteration = 98, norm = 0.000000)\n",
      "2021-07-10 12:18:46,156  DEBUG  common.leastsquare : Solving with least square calculation (iteration = 99, norm = 0.000000)\n",
      "2021-07-10 12:18:46,164  DEBUG  common.leastsquare : Solving with least square calculation (iteration = 100, norm = 0.000001)\n"
     ]
    },
    {
     "name": "stdout",
     "output_type": "stream",
     "text": [
      "Center R.A.   : 360.004189 deg.\n",
      "Center Dec.   : 0.001229 deg.\n",
      "Position angle: 66.029557 deg.\n",
      "Plate scale   : 7.970686e-03 deg/mm\n"
     ]
    }
   ],
   "source": [
    "from common.leastsquare import LeastSquare\n",
    "\n",
    "ls = LeastSquare(lambda a: model_wo_distortion(a, pixcrd), np.size(data['x'])*2)\n",
    "\n",
    "# constructing a_init (initial parameter set).\n",
    "a_init = [ra0.value, dec0.value, pa0.value, scale0.value]\n",
    "a_init = np.array(a_init) # This must be an ndarray.\n",
    "\n",
    "# constraining ra/dec values in 'observed' between -180 and 180 deg.\n",
    "true_pos = np.concatenate((data['ra'], data['dec']))\n",
    "pos = np.where(true_pos>180.)\n",
    "true_pos[pos] = true_pos[pos] - 360.\n",
    "pos = np.where(true_pos<-180.)\n",
    "true_pos[pos] = true_pos[pos] + 360.\n",
    "\n",
    "result, _ = ls.solve(true_pos, a_init, max_iteration=100)\n",
    "\n",
    "if result[3] < 0:\n",
    "    result[3] = -result[3]\n",
    "    result[2] = result[2] + 180.0\n",
    "\n",
    "if result[2] > 360.0 or result[2] < 0.0:\n",
    "    result[2] = result[2]%360.0\n",
    "\n",
    "# Showing the results.\n",
    "print(\"Center R.A.   : {:f} deg.\".format(result[0]))\n",
    "print(\"Center Dec.   : {:f} deg.\".format(result[1]))\n",
    "print(\"Position angle: {:f} deg.\".format(result[2]))\n",
    "print(\"Plate scale   : {:e} deg/mm\".format(result[3]))\n",
    "    \n",
    "# Updating the field parameters.\n",
    "ra0    = result[0] * u.deg\n",
    "dec0   = result[1] * u.deg\n",
    "pa0    = result[2] * u.deg\n",
    "scale0 = result[3] * u.deg/u.mm"
   ]
  },
  {
   "cell_type": "markdown",
   "metadata": {},
   "source": [
    "We define a model function which calculates RA and Dec from the position on the focal plane with considering the distortion. It is represented by the Sip function implemented to astropy.wcs."
   ]
  },
  {
   "cell_type": "code",
   "execution_count": 9,
   "metadata": {},
   "outputs": [],
   "source": [
    "def model(params, pxcrd, sip_order):\n",
    "    # params must be an ndarray of dimension-less values.\n",
    "    # assuming params = [ra, dec, pa, scale, a00, a01, ..., a0m, a10, a11, ..., amm, b00, b01, ..., bmm].\n",
    "    ra_ptg  = params[0] # value in deg.\n",
    "    dec_ptg = params[1] # value in deg.\n",
    "    pa_ptg  = params[2] # value in deg.\n",
    "    scale   = params[3] # value in deg/mm.\n",
    "    a = params[4:4+(sip_order+1)**2].reshape((sip_order+1, sip_order+1))\n",
    "    b = params[4+(sip_order+1)**2:4+2*(sip_order+1)**2].reshape((sip_order+1, sip_order+1))\n",
    "    # constraining some parametes to be zero.\n",
    "    m, n = np.indices((sip_order+1, sip_order+1))\n",
    "    pos = np.where((m+n==0)+(m+n==1)+(m+n>sip_order))\n",
    "    a[pos] = 0.\n",
    "    b[pos] = 0.\n",
    "    \n",
    "    w = wcs(ra_ptg, dec_ptg, pa_ptg, scale, a, b)\n",
    "    world = w.all_pix2world(pixcrd, 0)\n",
    "\n",
    "    # constraining ra and dec in 'world' between -180 to 180 deg.\n",
    "    pos = np.where(world>180.)\n",
    "    world[pos] = world[pos] - 360.\n",
    "    pos = np.where(world<-180.)\n",
    "    world[pos] = world[pos] + 360.\n",
    "    \n",
    "    return world.T.flatten()"
   ]
  },
  {
   "cell_type": "markdown",
   "metadata": {},
   "source": [
    "And now, we estimate the field and distortion parameters with the LeastSquare module. Here, we set the sip order to be 4."
   ]
  },
  {
   "cell_type": "code",
   "execution_count": 10,
   "metadata": {},
   "outputs": [
    {
     "name": "stderr",
     "output_type": "stream",
     "text": [
      "2021-07-10 12:19:29,513  WARNING  common.leastsquare : Cannot calculate inverse matrix. Calculate pseudo-inverse matrix instead.\n",
      "2021-07-10 12:19:29,518  DEBUG  common.leastsquare : Solving with least square calculation (iteration = 1, norm = 0.009413)\n",
      "2021-07-10 12:19:29,676  WARNING  common.leastsquare : Cannot calculate inverse matrix. Calculate pseudo-inverse matrix instead.\n",
      "2021-07-10 12:19:29,679  DEBUG  common.leastsquare : Solving with least square calculation (iteration = 2, norm = 0.000123)\n",
      "2021-07-10 12:19:29,826  WARNING  common.leastsquare : Cannot calculate inverse matrix. Calculate pseudo-inverse matrix instead.\n",
      "2021-07-10 12:19:29,829  DEBUG  common.leastsquare : Solving with least square calculation (iteration = 3, norm = 0.000000)\n",
      "2021-07-10 12:19:29,933  WARNING  common.leastsquare : Cannot calculate inverse matrix. Calculate pseudo-inverse matrix instead.\n",
      "2021-07-10 12:19:29,936  DEBUG  common.leastsquare : Solving with least square calculation (iteration = 4, norm = 0.000000)\n",
      "2021-07-10 12:19:30,059  WARNING  common.leastsquare : Cannot calculate inverse matrix. Calculate pseudo-inverse matrix instead.\n",
      "2021-07-10 12:19:30,062  DEBUG  common.leastsquare : Solving with least square calculation (iteration = 5, norm = 0.000000)\n",
      "2021-07-10 12:19:30,156  WARNING  common.leastsquare : Cannot calculate inverse matrix. Calculate pseudo-inverse matrix instead.\n",
      "2021-07-10 12:19:30,158  DEBUG  common.leastsquare : Solving with least square calculation (iteration = 6, norm = 0.000000)\n",
      "2021-07-10 12:19:30,251  WARNING  common.leastsquare : Cannot calculate inverse matrix. Calculate pseudo-inverse matrix instead.\n",
      "2021-07-10 12:19:30,254  DEBUG  common.leastsquare : Solving with least square calculation (iteration = 7, norm = 0.000000)\n",
      "2021-07-10 12:19:30,347  WARNING  common.leastsquare : Cannot calculate inverse matrix. Calculate pseudo-inverse matrix instead.\n",
      "2021-07-10 12:19:30,349  DEBUG  common.leastsquare : Solving with least square calculation (iteration = 8, norm = 0.000000)\n",
      "2021-07-10 12:19:30,485  WARNING  common.leastsquare : Cannot calculate inverse matrix. Calculate pseudo-inverse matrix instead.\n",
      "2021-07-10 12:19:30,488  DEBUG  common.leastsquare : Solving with least square calculation (iteration = 9, norm = 0.000000)\n",
      "2021-07-10 12:19:30,581  WARNING  common.leastsquare : Cannot calculate inverse matrix. Calculate pseudo-inverse matrix instead.\n",
      "2021-07-10 12:19:30,584  DEBUG  common.leastsquare : Solving with least square calculation (iteration = 10, norm = 0.000000)\n",
      "2021-07-10 12:19:30,735  WARNING  common.leastsquare : Cannot calculate inverse matrix. Calculate pseudo-inverse matrix instead.\n",
      "2021-07-10 12:19:30,738  DEBUG  common.leastsquare : Solving with least square calculation (iteration = 11, norm = 0.000000)\n"
     ]
    }
   ],
   "source": [
    "from common.leastsquare import LeastSquare\n",
    "\n",
    "sip_order = 4\n",
    "\n",
    "ls = LeastSquare(lambda a: model(a, pixcrd, sip_order), np.size(data['x'])*2)\n",
    "\n",
    "# constructing a_init (initial parameter set).\n",
    "a_init = [ra0.value, dec0.value, pa0.value, scale0.value]\n",
    "for i in range(0, 2*(sip_order+1)**2):\n",
    "    a_init.append(0)\n",
    "a_init = np.array(a_init) # This must be an ndarray.\n",
    "\n",
    "# constraining ra/dec values in 'observed' between -180 and 180 deg.\n",
    "true_pos = np.concatenate((data['ra'], data['dec']))\n",
    "pos = np.where(true_pos>180.)\n",
    "true_pos[pos] = true_pos[pos] - 360.\n",
    "pos = np.where(true_pos<-180.)\n",
    "true_pos[pos] = true_pos[pos] + 360.\n",
    "\n",
    "result, _ = ls.solve(true_pos, a_init, max_iteration=100)\n",
    "\n",
    "if result[3] < 0:\n",
    "    result[3] = -result[3]\n",
    "    result[2] = result[2] + 180.0\n",
    "\n",
    "if result[2] > 360.0 or result[2] < 0.0:\n",
    "    result[2] = result[2]%360.0"
   ]
  },
  {
   "cell_type": "markdown",
   "metadata": {},
   "source": [
    "The result is..."
   ]
  },
  {
   "cell_type": "code",
   "execution_count": 11,
   "metadata": {},
   "outputs": [
    {
     "name": "stdout",
     "output_type": "stream",
     "text": [
      "Center R.A.   : 360.010319 deg.\n",
      "Center Dec.   : 0.003960 deg.\n",
      "Position angle: 66.025905 deg.\n",
      "Plate scale   : 7.824918e-03 deg/mm\n"
     ]
    }
   ],
   "source": [
    "print(\"Center R.A.   : {:f} deg.\".format(result[0]))\n",
    "print(\"Center Dec.   : {:f} deg.\".format(result[1]))\n",
    "print(\"Position angle: {:f} deg.\".format(result[2]))\n",
    "print(\"Plate scale   : {:e} deg/mm\".format(result[3]))"
   ]
  },
  {
   "cell_type": "code",
   "execution_count": 12,
   "metadata": {},
   "outputs": [
    {
     "name": "stdout",
     "output_type": "stream",
     "text": [
      "[[ 0.00000000e+00  0.00000000e+00  1.01346518e-03 -3.46321594e-06\n",
      "   3.68359281e-07]\n",
      " [ 0.00000000e+00  1.96845857e-03  9.57474290e-06  1.99347867e-07\n",
      "   0.00000000e+00]\n",
      " [ 3.41586957e-03  2.19199766e-05  1.40446855e-07  0.00000000e+00\n",
      "   0.00000000e+00]\n",
      " [ 1.14376080e-05  2.57058471e-07  0.00000000e+00  0.00000000e+00\n",
      "   0.00000000e+00]\n",
      " [-5.14043111e-08  0.00000000e+00  0.00000000e+00  0.00000000e+00\n",
      "   0.00000000e+00]]\n",
      "[[ 0.00000000e+00  0.00000000e+00  3.10857035e-03  9.11312181e-06\n",
      "  -1.43794151e-07]\n",
      " [ 0.00000000e+00  2.19323878e-03  2.18185749e-05  2.28927261e-07\n",
      "   0.00000000e+00]\n",
      " [ 8.99975868e-04  9.93042882e-06  1.40655564e-07  0.00000000e+00\n",
      "   0.00000000e+00]\n",
      " [-3.38590728e-06  1.90521744e-07  0.00000000e+00  0.00000000e+00\n",
      "   0.00000000e+00]\n",
      " [ 3.84416434e-07  0.00000000e+00  0.00000000e+00  0.00000000e+00\n",
      "   0.00000000e+00]]\n"
     ]
    }
   ],
   "source": [
    "print(result[4:4+(sip_order+1)**2].reshape((sip_order+1, sip_order+1)))\n",
    "print(result[4+(sip_order+1)**2:].reshape((sip_order+1, sip_order+1)))"
   ]
  },
  {
   "cell_type": "markdown",
   "metadata": {},
   "source": [
    "According to the meta part of the input file, the poiunting RA and Dec are 0.0 deg. The position angle is 66.02562354723618 deg. The calculation seems to correctly estimate these parameters."
   ]
  },
  {
   "cell_type": "markdown",
   "metadata": {},
   "source": [
    "Let's compare the ra/dec values calculated from the derived parameters with the true values."
   ]
  },
  {
   "cell_type": "code",
   "execution_count": 13,
   "metadata": {},
   "outputs": [
    {
     "data": {
      "text/plain": [
       "<matplotlib.legend.Legend at 0x7f595d6ad320>"
      ]
     },
     "execution_count": 13,
     "metadata": {},
     "output_type": "execute_result"
    },
    {
     "data": {
      "image/png": "[encoded data removed]",
      "text/plain": [
       "<Figure size 1008x576 with 1 Axes>"
      ]
     },
     "metadata": {
      "needs_background": "light"
     },
     "output_type": "display_data"
    }
   ],
   "source": [
    "positions = model(result, pixcrd, sip_order)\n",
    "positions = positions.reshape((2,int(positions.size/2))).T\n",
    "\n",
    "fig = plt.figure(figsize=(14,8))\n",
    "ax = fig.add_subplot(111)\n",
    "ax.scatter(data['ra'], data['dec'], marker='+', label='Truth')\n",
    "ax.scatter(data['ra']-360., data['dec'], marker='+', label='')\n",
    "ax.scatter(positions[:,0], positions[:,1], marker='x', label='Reproduced')\n",
    "ax.set_xlabel('R.A. (deg)')\n",
    "ax.set_ylabel('Dec. (deg)')\n",
    "ax.set_xlim([-0.3,0.3])\n",
    "#ax.set_aspect('equal', adjustable='box')\n",
    "ax.legend()"
   ]
  },
  {
   "cell_type": "markdown",
   "metadata": {},
   "source": [
    "The reproduced ra/dec values seem to match the true values very well."
   ]
  },
  {
   "cell_type": "code",
   "execution_count": 14,
   "metadata": {},
   "outputs": [],
   "source": [
    "from astropy.coordinates import SkyCoord\n",
    "\n",
    "c_calc = SkyCoord(positions[:,0]*u.deg, positions[:,1]*u.deg, frame='icrs')\n",
    "c_true = SkyCoord(data['ra'], data['dec'], frame='icrs')\n",
    "sep = c_calc.separation(c_true)"
   ]
  },
  {
   "cell_type": "code",
   "execution_count": 15,
   "metadata": {},
   "outputs": [
    {
     "data": {
      "text/plain": [
       "Text(0, 0.5, 'Position estimation error (arcsec)')"
      ]
     },
     "execution_count": 15,
     "metadata": {},
     "output_type": "execute_result"
    },
    {
     "data": {
      "image/png": "[encoded data removed]",
      "text/plain": [
       "<Figure size 432x288 with 1 Axes>"
      ]
     },
     "metadata": {
      "needs_background": "light"
     },
     "output_type": "display_data"
    }
   ],
   "source": [
    "plt.plot(sep.arcsec, '.')\n",
    "plt.xlabel('Index')\n",
    "plt.ylabel('Position estimation error (arcsec)')"
   ]
  },
  {
   "cell_type": "markdown",
   "metadata": {},
   "source": [
    "The position difference is small, typically around <1 arcsec."
   ]
  },
  {
   "cell_type": "code",
   "execution_count": null,
   "metadata": {},
   "outputs": [],
   "source": []
  }
 ],
 "metadata": {
  "kernelspec": {
   "display_name": "Python 3",
   "language": "python",
   "name": "python3"
  },
  "language_info": {
   "codemirror_mode": {
    "name": "ipython",
    "version": 3
   },
   "file_extension": ".py",
   "mimetype": "text/x-python",
   "name": "python",
   "nbconvert_exporter": "python",
   "pygments_lexer": "ipython3",
   "version": "3.7.1"
  }
 },
 "nbformat": 4,
 "nbformat_minor": 2
}
