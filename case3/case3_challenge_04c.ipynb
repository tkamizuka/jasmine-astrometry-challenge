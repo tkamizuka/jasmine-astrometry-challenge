{
 "cells": [
  {
   "cell_type": "markdown",
   "metadata": {},
   "source": [
    "# Case3-challenge04"
   ]
  },
  {
   "cell_type": "markdown",
   "metadata": {},
   "source": [
    "At first, we add the analysis directory to the python path."
   ]
  },
  {
   "cell_type": "code",
   "execution_count": 1,
   "metadata": {},
   "outputs": [],
   "source": [
    "import sys\n",
    "sys.path.append('/home/kamizuka/analysis')"
   ]
  },
  {
   "cell_type": "markdown",
   "metadata": {},
   "source": [
    "At first, we load the data, 'case3_chalenge_04.txt'."
   ]
  },
  {
   "cell_type": "code",
   "execution_count": 2,
   "metadata": {},
   "outputs": [],
   "source": [
    "import astropy.io.ascii as asc\n",
    "from astropy import units as u\n",
    "\n",
    "data = asc.read('case3_challenge_04.txt')\n",
    "data['x'] = data['x']*1.e-3 # Converting um to mm.\n",
    "data['y'] = data['y']*1.e-3 # Converting um to mm.\n",
    "data['x'].unit = u.mm\n",
    "data['y'].unit = u.mm\n",
    "data['ra'].unit = u.deg\n",
    "data['dec'].unit = u.deg"
   ]
  },
  {
   "cell_type": "markdown",
   "metadata": {},
   "source": [
    "The source distribution is shown in the figure below."
   ]
  },
  {
   "cell_type": "code",
   "execution_count": 4,
   "metadata": {},
   "outputs": [
    {
     "data": {
      "image/png": "[encoded data removed]",
      "text/plain": [
       "<Figure size 504x288 with 1 Axes>"
      ]
     },
     "metadata": {
      "needs_background": "light"
     },
     "output_type": "display_data"
    },
    {
     "data": {
      "image/png": "[encoded data removed]",
      "text/plain": [
       "<Figure size 504x288 with 1 Axes>"
      ]
     },
     "metadata": {
      "needs_background": "light"
     },
     "output_type": "display_data"
    }
   ],
   "source": [
    "import matplotlib.pylab as plt\n",
    "\n",
    "fig = plt.figure(figsize=(7,4))\n",
    "ax = fig.add_subplot(111)\n",
    "ax.scatter(data['x'], data['y'], marker='x')\n",
    "ax.set_xlabel('X (mm)')\n",
    "ax.set_ylabel('Y (mm)')\n",
    "ax.set_xlim([-25,25])\n",
    "ax.set_ylim([-25,25])\n",
    "ax.set_aspect('equal', adjustable='box')\n",
    "\n",
    "fig = plt.figure(figsize=(7,4))\n",
    "ax = fig.add_subplot(111)\n",
    "ax.scatter(data['ra'], data['dec'], marker='x')\n",
    "ax.scatter(data['ra']-360.0, data['dec'], marker='x')\n",
    "ax.set_xlabel('R.A. (deg)')\n",
    "ax.set_ylabel('Dec. (deg)')\n",
    "ax.set_xlim([-0.3,0.3])\n",
    "ax.set_aspect('equal', adjustable='box')"
   ]
  },
  {
   "cell_type": "markdown",
   "metadata": {},
   "source": [
    "We guess the field parameters."
   ]
  },
  {
   "cell_type": "code",
   "execution_count": 5,
   "metadata": {},
   "outputs": [
    {
     "name": "stdout",
     "output_type": "stream",
     "text": [
      "359.99387755102043 deg\n",
      "0.006122448979591855 deg\n",
      "0.00744048369119173 deg / mm\n",
      "0.0 deg\n"
     ]
    }
   ],
   "source": [
    "import numpy as np\n",
    "from astropy.coordinates import SkyCoord, Angle\n",
    "\n",
    "r = np.sqrt(data['x']**2.+data['y']**2.)\n",
    "i0 = np.argmin(r)\n",
    "ra0  = data['ra'].quantity[i0]\n",
    "dec0 = data['dec'].quantity[i0]\n",
    "\n",
    "c0 = SkyCoord(ra=ra0, dec=dec0, frame='icrs')\n",
    "c1 = SkyCoord(ra=data['ra'].quantity[0], dec=data['dec'].quantity[0], frame='icrs')\n",
    "angle_sep = c0.separation(c1)\n",
    "\n",
    "dx = data['x'].quantity[i0] - data['x'].quantity[0]\n",
    "dy = data['y'].quantity[i0] - data['y'].quantity[0]\n",
    "mm_sep = np.sqrt(dx*dx+dy*dy)\n",
    "\n",
    "scale0 = angle_sep/mm_sep\n",
    "\n",
    "pa0 = 0.0 * u.deg\n",
    "\n",
    "print(ra0)\n",
    "print(dec0)\n",
    "print(scale0)\n",
    "print(pa0)"
   ]
  },
  {
   "cell_type": "markdown",
   "metadata": {},
   "source": [
    "Here, we define a function to construct a wcs instance from given parameters."
   ]
  },
  {
   "cell_type": "code",
   "execution_count": 6,
   "metadata": {},
   "outputs": [],
   "source": [
    "from astropy.wcs import WCS\n",
    "from astropy.wcs import Sip\n",
    "\n",
    "def wcs(ra0, dec0, pa0, scale0, a=None, b=None):\n",
    "    w = WCS(naxis=2)\n",
    "    w.wcs.crpix=[0,0]\n",
    "    w.wcs.cdelt=np.array([-scale0, scale0])\n",
    "    w.wcs.crval=[ra0, dec0]\n",
    "    w.wcs.ctype=[\"RA---TAN-SIP\", \"DEC--TAN-SIP\"]\n",
    "    w.wcs.pc=[[ np.cos(pa0*u.deg), np.sin(pa0*u.deg)],\n",
    "              [-np.sin(pa0*u.deg), np.cos(pa0*u.deg)]]\n",
    "    if a is not None and b is not None:\n",
    "        w.sip = Sip(a, b, None, None, [0, 0])\n",
    "    return w"
   ]
  },
  {
   "cell_type": "markdown",
   "metadata": {},
   "source": [
    "Next, we define a model function to estimate the position angle. This function calculates RA and Dec from the position on the focal plane. At this moment, we ignore the distortion."
   ]
  },
  {
   "cell_type": "code",
   "execution_count": 7,
   "metadata": {},
   "outputs": [],
   "source": [
    "def model_wo_distortion(params, pxcrd):\n",
    "    # params must be an ndarray of dimension-less values.\n",
    "    # assuming params = [ra, dec, pa, scale].\n",
    "    ra_ptg  = params[0] # value in deg.\n",
    "    dec_ptg = params[1] # value in deg.\n",
    "    pa_ptg  = params[2] # value in deg.\n",
    "    scale   = params[3] # value in deg/mm.\n",
    "    \n",
    "    w = wcs(ra_ptg, dec_ptg, pa_ptg, scale)\n",
    "    world = w.all_pix2world(pixcrd, 0)\n",
    "\n",
    "    # constraining ra and dec in 'world' between -180 to 180 deg.\n",
    "    pos = np.where(world>180.)\n",
    "    world[pos] = world[pos] - 360.\n",
    "    pos = np.where(world<-180.)\n",
    "    world[pos] = world[pos] + 360.\n",
    "    \n",
    "    return world.T.flatten()"
   ]
  },
  {
   "cell_type": "markdown",
   "metadata": {},
   "source": [
    "Then, we make an array of the coordinates on the focal plane."
   ]
  },
  {
   "cell_type": "code",
   "execution_count": 8,
   "metadata": {},
   "outputs": [],
   "source": [
    "pixcrd = np.concatenate(([data['x']],[data['y']])).T"
   ]
  },
  {
   "cell_type": "code",
   "execution_count": 9,
   "metadata": {},
   "outputs": [
    {
     "name": "stderr",
     "output_type": "stream",
     "text": [
      "2021-07-10 12:31:59,639  DEBUG  common.leastsquare : Solving with least square calculation (iteration = 1, norm = 23.765348)\n",
      "2021-07-10 12:31:59,654  DEBUG  common.leastsquare : Solving with least square calculation (iteration = 2, norm = 0.378433)\n",
      "2021-07-10 12:31:59,667  DEBUG  common.leastsquare : Solving with least square calculation (iteration = 3, norm = 0.031170)\n",
      "2021-07-10 12:31:59,680  DEBUG  common.leastsquare : Solving with least square calculation (iteration = 4, norm = 0.000001)\n",
      "2021-07-10 12:31:59,693  DEBUG  common.leastsquare : Solving with least square calculation (iteration = 5, norm = 0.000000)\n",
      "2021-07-10 12:31:59,701  DEBUG  common.leastsquare : Solving with least square calculation (iteration = 6, norm = 0.000000)\n",
      "2021-07-10 12:31:59,708  DEBUG  common.leastsquare : Solving with least square calculation (iteration = 7, norm = 0.000000)\n",
      "2021-07-10 12:31:59,715  DEBUG  common.leastsquare : Solving with least square calculation (iteration = 8, norm = 0.000000)\n",
      "2021-07-10 12:31:59,722  DEBUG  common.leastsquare : Solving with least square calculation (iteration = 9, norm = 0.000000)\n",
      "2021-07-10 12:31:59,730  DEBUG  common.leastsquare : Solving with least square calculation (iteration = 10, norm = 0.000000)\n",
      "2021-07-10 12:31:59,737  DEBUG  common.leastsquare : Solving with least square calculation (iteration = 11, norm = 0.000000)\n",
      "2021-07-10 12:31:59,744  DEBUG  common.leastsquare : Solving with least square calculation (iteration = 12, norm = 0.000000)\n",
      "2021-07-10 12:31:59,751  DEBUG  common.leastsquare : Solving with least square calculation (iteration = 13, norm = 0.000000)\n",
      "2021-07-10 12:31:59,759  DEBUG  common.leastsquare : Solving with least square calculation (iteration = 14, norm = 0.000000)\n",
      "2021-07-10 12:31:59,766  DEBUG  common.leastsquare : Solving with least square calculation (iteration = 15, norm = 0.000000)\n",
      "2021-07-10 12:31:59,773  DEBUG  common.leastsquare : Solving with least square calculation (iteration = 16, norm = 0.000000)\n",
      "2021-07-10 12:31:59,781  DEBUG  common.leastsquare : Solving with least square calculation (iteration = 17, norm = 0.000000)\n",
      "2021-07-10 12:31:59,788  DEBUG  common.leastsquare : Solving with least square calculation (iteration = 18, norm = 0.000000)\n",
      "2021-07-10 12:31:59,795  DEBUG  common.leastsquare : Solving with least square calculation (iteration = 19, norm = 0.000000)\n",
      "2021-07-10 12:31:59,802  DEBUG  common.leastsquare : Solving with least square calculation (iteration = 20, norm = 0.000000)\n",
      "2021-07-10 12:31:59,809  DEBUG  common.leastsquare : Solving with least square calculation (iteration = 21, norm = 0.000000)\n",
      "2021-07-10 12:31:59,816  DEBUG  common.leastsquare : Solving with least square calculation (iteration = 22, norm = 0.000000)\n",
      "2021-07-10 12:31:59,824  DEBUG  common.leastsquare : Solving with least square calculation (iteration = 23, norm = 0.000000)\n",
      "2021-07-10 12:31:59,831  DEBUG  common.leastsquare : Solving with least square calculation (iteration = 24, norm = 0.000000)\n",
      "2021-07-10 12:31:59,838  DEBUG  common.leastsquare : Solving with least square calculation (iteration = 25, norm = 0.000000)\n",
      "2021-07-10 12:31:59,845  DEBUG  common.leastsquare : Solving with least square calculation (iteration = 26, norm = 0.000000)\n",
      "2021-07-10 12:31:59,852  DEBUG  common.leastsquare : Solving with least square calculation (iteration = 27, norm = 0.000000)\n",
      "2021-07-10 12:31:59,859  DEBUG  common.leastsquare : Solving with least square calculation (iteration = 28, norm = 0.000000)\n",
      "2021-07-10 12:31:59,867  DEBUG  common.leastsquare : Solving with least square calculation (iteration = 29, norm = 0.000000)\n",
      "2021-07-10 12:31:59,874  DEBUG  common.leastsquare : Solving with least square calculation (iteration = 30, norm = 0.000000)\n",
      "2021-07-10 12:31:59,881  DEBUG  common.leastsquare : Solving with least square calculation (iteration = 31, norm = 0.000000)\n",
      "2021-07-10 12:31:59,893  DEBUG  common.leastsquare : Solving with least square calculation (iteration = 32, norm = 0.000000)\n",
      "2021-07-10 12:31:59,906  DEBUG  common.leastsquare : Solving with least square calculation (iteration = 33, norm = 0.000000)\n",
      "2021-07-10 12:31:59,919  DEBUG  common.leastsquare : Solving with least square calculation (iteration = 34, norm = 0.000000)\n",
      "2021-07-10 12:31:59,932  DEBUG  common.leastsquare : Solving with least square calculation (iteration = 35, norm = 0.000000)\n",
      "2021-07-10 12:31:59,945  DEBUG  common.leastsquare : Solving with least square calculation (iteration = 36, norm = 0.000000)\n",
      "2021-07-10 12:31:59,958  DEBUG  common.leastsquare : Solving with least square calculation (iteration = 37, norm = 0.000000)\n",
      "2021-07-10 12:31:59,971  DEBUG  common.leastsquare : Solving with least square calculation (iteration = 38, norm = 0.000000)\n",
      "2021-07-10 12:31:59,984  DEBUG  common.leastsquare : Solving with least square calculation (iteration = 39, norm = 0.000000)\n",
      "2021-07-10 12:31:59,998  DEBUG  common.leastsquare : Solving with least square calculation (iteration = 40, norm = 0.000000)\n",
      "2021-07-10 12:32:00,041  DEBUG  common.leastsquare : Solving with least square calculation (iteration = 41, norm = 0.000000)\n",
      "2021-07-10 12:32:00,048  DEBUG  common.leastsquare : Solving with least square calculation (iteration = 42, norm = 0.000000)\n",
      "2021-07-10 12:32:00,059  DEBUG  common.leastsquare : Solving with least square calculation (iteration = 43, norm = 0.000000)\n",
      "2021-07-10 12:32:00,072  DEBUG  common.leastsquare : Solving with least square calculation (iteration = 44, norm = 0.000000)\n",
      "2021-07-10 12:32:00,081  DEBUG  common.leastsquare : Solving with least square calculation (iteration = 45, norm = 0.000000)\n",
      "2021-07-10 12:32:00,088  DEBUG  common.leastsquare : Solving with least square calculation (iteration = 46, norm = 0.000000)\n",
      "2021-07-10 12:32:00,095  DEBUG  common.leastsquare : Solving with least square calculation (iteration = 47, norm = 0.000000)\n",
      "2021-07-10 12:32:00,102  DEBUG  common.leastsquare : Solving with least square calculation (iteration = 48, norm = 0.000000)\n",
      "2021-07-10 12:32:00,109  DEBUG  common.leastsquare : Solving with least square calculation (iteration = 49, norm = 0.000000)\n",
      "2021-07-10 12:32:00,117  DEBUG  common.leastsquare : Solving with least square calculation (iteration = 50, norm = 0.000000)\n",
      "2021-07-10 12:32:00,124  DEBUG  common.leastsquare : Solving with least square calculation (iteration = 51, norm = 0.000000)\n",
      "2021-07-10 12:32:00,130  DEBUG  common.leastsquare : Solving with least square calculation (iteration = 52, norm = 0.000000)\n",
      "2021-07-10 12:32:00,138  DEBUG  common.leastsquare : Solving with least square calculation (iteration = 53, norm = 0.000000)\n",
      "2021-07-10 12:32:00,159  DEBUG  common.leastsquare : Solving with least square calculation (iteration = 54, norm = 0.000000)\n",
      "2021-07-10 12:32:00,167  DEBUG  common.leastsquare : Solving with least square calculation (iteration = 55, norm = 0.000000)\n",
      "2021-07-10 12:32:00,175  DEBUG  common.leastsquare : Solving with least square calculation (iteration = 56, norm = 0.000000)\n",
      "2021-07-10 12:32:00,182  DEBUG  common.leastsquare : Solving with least square calculation (iteration = 57, norm = 0.000000)\n",
      "2021-07-10 12:32:00,190  DEBUG  common.leastsquare : Solving with least square calculation (iteration = 58, norm = 0.000000)\n",
      "2021-07-10 12:32:00,197  DEBUG  common.leastsquare : Solving with least square calculation (iteration = 59, norm = 0.000000)\n",
      "2021-07-10 12:32:00,204  DEBUG  common.leastsquare : Solving with least square calculation (iteration = 60, norm = 0.000000)\n",
      "2021-07-10 12:32:00,212  DEBUG  common.leastsquare : Solving with least square calculation (iteration = 61, norm = 0.000000)\n",
      "2021-07-10 12:32:00,219  DEBUG  common.leastsquare : Solving with least square calculation (iteration = 62, norm = 0.000000)\n",
      "2021-07-10 12:32:00,226  DEBUG  common.leastsquare : Solving with least square calculation (iteration = 63, norm = 0.000000)\n",
      "2021-07-10 12:32:00,233  DEBUG  common.leastsquare : Solving with least square calculation (iteration = 64, norm = 0.000000)\n",
      "2021-07-10 12:32:00,241  DEBUG  common.leastsquare : Solving with least square calculation (iteration = 65, norm = 0.000000)\n",
      "2021-07-10 12:32:00,248  DEBUG  common.leastsquare : Solving with least square calculation (iteration = 66, norm = 0.000000)\n",
      "2021-07-10 12:32:00,255  DEBUG  common.leastsquare : Solving with least square calculation (iteration = 67, norm = 0.000000)\n",
      "2021-07-10 12:32:00,263  DEBUG  common.leastsquare : Solving with least square calculation (iteration = 68, norm = 0.000000)\n",
      "2021-07-10 12:32:00,270  DEBUG  common.leastsquare : Solving with least square calculation (iteration = 69, norm = 0.000000)\n",
      "2021-07-10 12:32:00,277  DEBUG  common.leastsquare : Solving with least square calculation (iteration = 70, norm = 0.000000)\n",
      "2021-07-10 12:32:00,285  DEBUG  common.leastsquare : Solving with least square calculation (iteration = 71, norm = 0.000000)\n",
      "2021-07-10 12:32:00,292  DEBUG  common.leastsquare : Solving with least square calculation (iteration = 72, norm = 0.000000)\n",
      "2021-07-10 12:32:00,299  DEBUG  common.leastsquare : Solving with least square calculation (iteration = 73, norm = 0.000000)\n",
      "2021-07-10 12:32:00,307  DEBUG  common.leastsquare : Solving with least square calculation (iteration = 74, norm = 0.000000)\n",
      "2021-07-10 12:32:00,314  DEBUG  common.leastsquare : Solving with least square calculation (iteration = 75, norm = 0.000000)\n",
      "2021-07-10 12:32:00,321  DEBUG  common.leastsquare : Solving with least square calculation (iteration = 76, norm = 0.000000)\n",
      "2021-07-10 12:32:00,329  DEBUG  common.leastsquare : Solving with least square calculation (iteration = 77, norm = 0.000000)\n",
      "2021-07-10 12:32:00,336  DEBUG  common.leastsquare : Solving with least square calculation (iteration = 78, norm = 0.000000)\n",
      "2021-07-10 12:32:00,343  DEBUG  common.leastsquare : Solving with least square calculation (iteration = 79, norm = 0.000000)\n",
      "2021-07-10 12:32:00,350  DEBUG  common.leastsquare : Solving with least square calculation (iteration = 80, norm = 0.000000)\n",
      "2021-07-10 12:32:00,358  DEBUG  common.leastsquare : Solving with least square calculation (iteration = 81, norm = 0.000000)\n",
      "2021-07-10 12:32:00,365  DEBUG  common.leastsquare : Solving with least square calculation (iteration = 82, norm = 0.000000)\n",
      "2021-07-10 12:32:00,372  DEBUG  common.leastsquare : Solving with least square calculation (iteration = 83, norm = 0.000000)\n",
      "2021-07-10 12:32:00,380  DEBUG  common.leastsquare : Solving with least square calculation (iteration = 84, norm = 0.000000)\n",
      "2021-07-10 12:32:00,387  DEBUG  common.leastsquare : Solving with least square calculation (iteration = 85, norm = 0.000000)\n",
      "2021-07-10 12:32:00,394  DEBUG  common.leastsquare : Solving with least square calculation (iteration = 86, norm = 0.000000)\n",
      "2021-07-10 12:32:00,402  DEBUG  common.leastsquare : Solving with least square calculation (iteration = 87, norm = 0.000000)\n",
      "2021-07-10 12:32:00,409  DEBUG  common.leastsquare : Solving with least square calculation (iteration = 88, norm = 0.000000)\n",
      "2021-07-10 12:32:00,416  DEBUG  common.leastsquare : Solving with least square calculation (iteration = 89, norm = 0.000000)\n",
      "2021-07-10 12:32:00,424  DEBUG  common.leastsquare : Solving with least square calculation (iteration = 90, norm = 0.000000)\n",
      "2021-07-10 12:32:00,431  DEBUG  common.leastsquare : Solving with least square calculation (iteration = 91, norm = 0.000000)\n",
      "2021-07-10 12:32:00,438  DEBUG  common.leastsquare : Solving with least square calculation (iteration = 92, norm = 0.000000)\n",
      "2021-07-10 12:32:00,446  DEBUG  common.leastsquare : Solving with least square calculation (iteration = 93, norm = 0.000000)\n",
      "2021-07-10 12:32:00,453  DEBUG  common.leastsquare : Solving with least square calculation (iteration = 94, norm = 0.000000)\n",
      "2021-07-10 12:32:00,460  DEBUG  common.leastsquare : Solving with least square calculation (iteration = 95, norm = 0.000000)\n",
      "2021-07-10 12:32:00,468  DEBUG  common.leastsquare : Solving with least square calculation (iteration = 96, norm = 0.000000)\n",
      "2021-07-10 12:32:00,475  DEBUG  common.leastsquare : Solving with least square calculation (iteration = 97, norm = 0.000000)\n",
      "2021-07-10 12:32:00,483  DEBUG  common.leastsquare : Solving with least square calculation (iteration = 98, norm = 0.000000)\n",
      "2021-07-10 12:32:00,490  DEBUG  common.leastsquare : Solving with least square calculation (iteration = 99, norm = 0.000000)\n",
      "2021-07-10 12:32:00,497  DEBUG  common.leastsquare : Solving with least square calculation (iteration = 100, norm = 0.000000)\n"
     ]
    },
    {
     "name": "stdout",
     "output_type": "stream",
     "text": [
      "Center R.A.   : 360.010240 deg.\n",
      "Center Dec.   : -0.002371 deg.\n",
      "Position angle: 23.418078 deg.\n",
      "Plate scale   : 7.765222e-03 deg/mm\n"
     ]
    }
   ],
   "source": [
    "from common.leastsquare import LeastSquare\n",
    "\n",
    "ls = LeastSquare(lambda a: model_wo_distortion(a, pixcrd), np.size(data['x'])*2)\n",
    "\n",
    "# constructing a_init (initial parameter set).\n",
    "a_init = [ra0.value, dec0.value, pa0.value, scale0.value]\n",
    "a_init = np.array(a_init) # This must be an ndarray.\n",
    "\n",
    "# constraining ra/dec values in 'observed' between -180 and 180 deg.\n",
    "true_pos = np.concatenate((data['ra'], data['dec']))\n",
    "pos = np.where(true_pos>180.)\n",
    "true_pos[pos] = true_pos[pos] - 360.\n",
    "pos = np.where(true_pos<-180.)\n",
    "true_pos[pos] = true_pos[pos] + 360.\n",
    "\n",
    "result, _ = ls.solve(true_pos, a_init, max_iteration=100)\n",
    "\n",
    "if result[3] < 0:\n",
    "    result[3] = -result[3]\n",
    "    result[2] = result[2] + 180.0\n",
    "\n",
    "if result[2] > 360.0 or result[2] < 0.0:\n",
    "    result[2] = result[2]%360.0\n",
    "\n",
    "# Showing the results.\n",
    "print(\"Center R.A.   : {:f} deg.\".format(result[0]))\n",
    "print(\"Center Dec.   : {:f} deg.\".format(result[1]))\n",
    "print(\"Position angle: {:f} deg.\".format(result[2]))\n",
    "print(\"Plate scale   : {:e} deg/mm\".format(result[3]))\n",
    "    \n",
    "# Updating the field parameters.\n",
    "ra0    = result[0] * u.deg\n",
    "dec0   = result[1] * u.deg\n",
    "pa0    = result[2] * u.deg\n",
    "scale0 = result[3] * u.deg/u.mm"
   ]
  },
  {
   "cell_type": "markdown",
   "metadata": {},
   "source": [
    "We define a model function which calculates RA and Dec from the position on the focal plane with considering the distortion. It is represented by the Sip function implemented to astropy.wcs."
   ]
  },
  {
   "cell_type": "code",
   "execution_count": 10,
   "metadata": {},
   "outputs": [],
   "source": [
    "def model(params, pxcrd, sip_order):\n",
    "    # params must be an ndarray of dimension-less values.\n",
    "    # assuming params = [ra, dec, pa, scale, a00, a01, ..., a0m, a10, a11, ..., amm, b00, b01, ..., bmm].\n",
    "    ra_ptg  = params[0] # value in deg.\n",
    "    dec_ptg = params[1] # value in deg.\n",
    "    pa_ptg  = params[2] # value in deg.\n",
    "    scale   = params[3] # value in deg/mm.\n",
    "    a = params[4:4+(sip_order+1)**2].reshape((sip_order+1, sip_order+1))\n",
    "    b = params[4+(sip_order+1)**2:4+2*(sip_order+1)**2].reshape((sip_order+1, sip_order+1))\n",
    "    # constraining some parametes to be zero.\n",
    "    m, n = np.indices((sip_order+1, sip_order+1))\n",
    "    pos = np.where((m+n==0)+(m+n==1)+(m+n>sip_order))\n",
    "    a[pos] = 0.\n",
    "    b[pos] = 0.\n",
    "    \n",
    "    w = wcs(ra_ptg, dec_ptg, pa_ptg, scale, a, b)\n",
    "    world = w.all_pix2world(pixcrd, 0)\n",
    "\n",
    "    # constraining ra and dec in 'world' between -180 to 180 deg.\n",
    "    pos = np.where(world>180.)\n",
    "    world[pos] = world[pos] - 360.\n",
    "    pos = np.where(world<-180.)\n",
    "    world[pos] = world[pos] + 360.\n",
    "    \n",
    "    return world.T.flatten()"
   ]
  },
  {
   "cell_type": "markdown",
   "metadata": {},
   "source": [
    "And now, we estimate the field and distortion parameters with the LeastSquare module. Here, we set the sip order to be 4."
   ]
  },
  {
   "cell_type": "code",
   "execution_count": 11,
   "metadata": {},
   "outputs": [
    {
     "name": "stderr",
     "output_type": "stream",
     "text": [
      "2021-07-10 12:32:12,621  WARNING  common.leastsquare : Cannot calculate inverse matrix. Calculate pseudo-inverse matrix instead.\n",
      "2021-07-10 12:32:12,625  DEBUG  common.leastsquare : Solving with least square calculation (iteration = 1, norm = 0.002700)\n",
      "2021-07-10 12:32:12,758  WARNING  common.leastsquare : Cannot calculate inverse matrix. Calculate pseudo-inverse matrix instead.\n",
      "2021-07-10 12:32:12,761  DEBUG  common.leastsquare : Solving with least square calculation (iteration = 2, norm = 0.000031)\n",
      "2021-07-10 12:32:12,848  WARNING  common.leastsquare : Cannot calculate inverse matrix. Calculate pseudo-inverse matrix instead.\n",
      "2021-07-10 12:32:12,850  DEBUG  common.leastsquare : Solving with least square calculation (iteration = 3, norm = 0.000000)\n",
      "2021-07-10 12:32:12,937  WARNING  common.leastsquare : Cannot calculate inverse matrix. Calculate pseudo-inverse matrix instead.\n",
      "2021-07-10 12:32:12,940  DEBUG  common.leastsquare : Solving with least square calculation (iteration = 4, norm = 0.000000)\n",
      "2021-07-10 12:32:13,027  WARNING  common.leastsquare : Cannot calculate inverse matrix. Calculate pseudo-inverse matrix instead.\n",
      "2021-07-10 12:32:13,030  DEBUG  common.leastsquare : Solving with least square calculation (iteration = 5, norm = 0.000000)\n",
      "2021-07-10 12:32:13,119  WARNING  common.leastsquare : Cannot calculate inverse matrix. Calculate pseudo-inverse matrix instead.\n",
      "2021-07-10 12:32:13,122  DEBUG  common.leastsquare : Solving with least square calculation (iteration = 6, norm = 0.000000)\n",
      "2021-07-10 12:32:13,207  WARNING  common.leastsquare : Cannot calculate inverse matrix. Calculate pseudo-inverse matrix instead.\n",
      "2021-07-10 12:32:13,210  DEBUG  common.leastsquare : Solving with least square calculation (iteration = 7, norm = 0.000000)\n",
      "2021-07-10 12:32:13,297  WARNING  common.leastsquare : Cannot calculate inverse matrix. Calculate pseudo-inverse matrix instead.\n",
      "2021-07-10 12:32:13,300  DEBUG  common.leastsquare : Solving with least square calculation (iteration = 8, norm = 0.000000)\n",
      "2021-07-10 12:32:13,386  WARNING  common.leastsquare : Cannot calculate inverse matrix. Calculate pseudo-inverse matrix instead.\n",
      "2021-07-10 12:32:13,389  DEBUG  common.leastsquare : Solving with least square calculation (iteration = 9, norm = 0.000000)\n",
      "2021-07-10 12:32:13,478  WARNING  common.leastsquare : Cannot calculate inverse matrix. Calculate pseudo-inverse matrix instead.\n",
      "2021-07-10 12:32:13,480  DEBUG  common.leastsquare : Solving with least square calculation (iteration = 10, norm = 0.000000)\n",
      "2021-07-10 12:32:13,568  WARNING  common.leastsquare : Cannot calculate inverse matrix. Calculate pseudo-inverse matrix instead.\n",
      "2021-07-10 12:32:13,571  DEBUG  common.leastsquare : Solving with least square calculation (iteration = 11, norm = 0.000000)\n",
      "2021-07-10 12:32:13,657  WARNING  common.leastsquare : Cannot calculate inverse matrix. Calculate pseudo-inverse matrix instead.\n",
      "2021-07-10 12:32:13,660  DEBUG  common.leastsquare : Solving with least square calculation (iteration = 12, norm = 0.000000)\n",
      "2021-07-10 12:32:13,746  WARNING  common.leastsquare : Cannot calculate inverse matrix. Calculate pseudo-inverse matrix instead.\n",
      "2021-07-10 12:32:13,749  DEBUG  common.leastsquare : Solving with least square calculation (iteration = 13, norm = 0.000000)\n",
      "2021-07-10 12:32:13,840  WARNING  common.leastsquare : Cannot calculate inverse matrix. Calculate pseudo-inverse matrix instead.\n",
      "2021-07-10 12:32:13,843  DEBUG  common.leastsquare : Solving with least square calculation (iteration = 14, norm = 0.000000)\n",
      "2021-07-10 12:32:13,932  WARNING  common.leastsquare : Cannot calculate inverse matrix. Calculate pseudo-inverse matrix instead.\n",
      "2021-07-10 12:32:13,935  DEBUG  common.leastsquare : Solving with least square calculation (iteration = 15, norm = 0.000000)\n",
      "2021-07-10 12:32:14,021  WARNING  common.leastsquare : Cannot calculate inverse matrix. Calculate pseudo-inverse matrix instead.\n",
      "2021-07-10 12:32:14,025  DEBUG  common.leastsquare : Solving with least square calculation (iteration = 16, norm = 0.000000)\n",
      "2021-07-10 12:32:14,113  WARNING  common.leastsquare : Cannot calculate inverse matrix. Calculate pseudo-inverse matrix instead.\n",
      "2021-07-10 12:32:14,117  DEBUG  common.leastsquare : Solving with least square calculation (iteration = 17, norm = 0.000000)\n",
      "2021-07-10 12:32:14,207  WARNING  common.leastsquare : Cannot calculate inverse matrix. Calculate pseudo-inverse matrix instead.\n",
      "2021-07-10 12:32:14,211  DEBUG  common.leastsquare : Solving with least square calculation (iteration = 18, norm = 0.000000)\n",
      "2021-07-10 12:32:14,302  WARNING  common.leastsquare : Cannot calculate inverse matrix. Calculate pseudo-inverse matrix instead.\n",
      "2021-07-10 12:32:14,306  DEBUG  common.leastsquare : Solving with least square calculation (iteration = 19, norm = 0.000000)\n",
      "2021-07-10 12:32:14,396  WARNING  common.leastsquare : Cannot calculate inverse matrix. Calculate pseudo-inverse matrix instead.\n",
      "2021-07-10 12:32:14,399  DEBUG  common.leastsquare : Solving with least square calculation (iteration = 20, norm = 0.000000)\n",
      "2021-07-10 12:32:14,489  WARNING  common.leastsquare : Cannot calculate inverse matrix. Calculate pseudo-inverse matrix instead.\n",
      "2021-07-10 12:32:14,493  DEBUG  common.leastsquare : Solving with least square calculation (iteration = 21, norm = 0.000000)\n",
      "2021-07-10 12:32:14,583  WARNING  common.leastsquare : Cannot calculate inverse matrix. Calculate pseudo-inverse matrix instead.\n",
      "2021-07-10 12:32:14,587  DEBUG  common.leastsquare : Solving with least square calculation (iteration = 22, norm = 0.000000)\n",
      "2021-07-10 12:32:14,677  WARNING  common.leastsquare : Cannot calculate inverse matrix. Calculate pseudo-inverse matrix instead.\n",
      "2021-07-10 12:32:14,681  DEBUG  common.leastsquare : Solving with least square calculation (iteration = 23, norm = 0.000000)\n",
      "2021-07-10 12:32:14,776  WARNING  common.leastsquare : Cannot calculate inverse matrix. Calculate pseudo-inverse matrix instead.\n",
      "2021-07-10 12:32:14,779  DEBUG  common.leastsquare : Solving with least square calculation (iteration = 24, norm = 0.000000)\n",
      "2021-07-10 12:32:14,871  WARNING  common.leastsquare : Cannot calculate inverse matrix. Calculate pseudo-inverse matrix instead.\n",
      "2021-07-10 12:32:14,874  DEBUG  common.leastsquare : Solving with least square calculation (iteration = 25, norm = 0.000000)\n",
      "2021-07-10 12:32:14,965  WARNING  common.leastsquare : Cannot calculate inverse matrix. Calculate pseudo-inverse matrix instead.\n",
      "2021-07-10 12:32:14,969  DEBUG  common.leastsquare : Solving with least square calculation (iteration = 26, norm = 0.000000)\n",
      "2021-07-10 12:32:15,053  WARNING  common.leastsquare : Cannot calculate inverse matrix. Calculate pseudo-inverse matrix instead.\n",
      "2021-07-10 12:32:15,057  DEBUG  common.leastsquare : Solving with least square calculation (iteration = 27, norm = 0.000000)\n",
      "2021-07-10 12:32:15,175  WARNING  common.leastsquare : Cannot calculate inverse matrix. Calculate pseudo-inverse matrix instead.\n",
      "2021-07-10 12:32:15,177  DEBUG  common.leastsquare : Solving with least square calculation (iteration = 28, norm = 0.000000)\n",
      "2021-07-10 12:32:15,307  WARNING  common.leastsquare : Cannot calculate inverse matrix. Calculate pseudo-inverse matrix instead.\n",
      "2021-07-10 12:32:15,309  DEBUG  common.leastsquare : Solving with least square calculation (iteration = 29, norm = 0.000000)\n",
      "2021-07-10 12:32:15,432  WARNING  common.leastsquare : Cannot calculate inverse matrix. Calculate pseudo-inverse matrix instead.\n",
      "2021-07-10 12:32:15,435  DEBUG  common.leastsquare : Solving with least square calculation (iteration = 30, norm = 0.000000)\n",
      "2021-07-10 12:32:15,567  WARNING  common.leastsquare : Cannot calculate inverse matrix. Calculate pseudo-inverse matrix instead.\n",
      "2021-07-10 12:32:15,569  DEBUG  common.leastsquare : Solving with least square calculation (iteration = 31, norm = 0.000000)\n",
      "2021-07-10 12:32:15,734  WARNING  common.leastsquare : Cannot calculate inverse matrix. Calculate pseudo-inverse matrix instead.\n",
      "2021-07-10 12:32:15,736  DEBUG  common.leastsquare : Solving with least square calculation (iteration = 32, norm = 0.000000)\n",
      "2021-07-10 12:32:15,855  WARNING  common.leastsquare : Cannot calculate inverse matrix. Calculate pseudo-inverse matrix instead.\n",
      "2021-07-10 12:32:15,857  DEBUG  common.leastsquare : Solving with least square calculation (iteration = 33, norm = 0.000000)\n",
      "2021-07-10 12:32:15,986  WARNING  common.leastsquare : Cannot calculate inverse matrix. Calculate pseudo-inverse matrix instead.\n",
      "2021-07-10 12:32:15,989  DEBUG  common.leastsquare : Solving with least square calculation (iteration = 34, norm = 0.000000)\n",
      "2021-07-10 12:32:16,103  WARNING  common.leastsquare : Cannot calculate inverse matrix. Calculate pseudo-inverse matrix instead.\n",
      "2021-07-10 12:32:16,105  DEBUG  common.leastsquare : Solving with least square calculation (iteration = 35, norm = 0.000000)\n",
      "2021-07-10 12:32:16,234  WARNING  common.leastsquare : Cannot calculate inverse matrix. Calculate pseudo-inverse matrix instead.\n",
      "2021-07-10 12:32:16,236  DEBUG  common.leastsquare : Solving with least square calculation (iteration = 36, norm = 0.000000)\n",
      "2021-07-10 12:32:16,391  WARNING  common.leastsquare : Cannot calculate inverse matrix. Calculate pseudo-inverse matrix instead.\n",
      "2021-07-10 12:32:16,393  DEBUG  common.leastsquare : Solving with least square calculation (iteration = 37, norm = 0.000000)\n",
      "2021-07-10 12:32:16,519  WARNING  common.leastsquare : Cannot calculate inverse matrix. Calculate pseudo-inverse matrix instead.\n",
      "2021-07-10 12:32:16,521  DEBUG  common.leastsquare : Solving with least square calculation (iteration = 38, norm = 0.000000)\n",
      "2021-07-10 12:32:16,649  WARNING  common.leastsquare : Cannot calculate inverse matrix. Calculate pseudo-inverse matrix instead.\n",
      "2021-07-10 12:32:16,652  DEBUG  common.leastsquare : Solving with least square calculation (iteration = 39, norm = 0.000000)\n",
      "2021-07-10 12:32:16,775  WARNING  common.leastsquare : Cannot calculate inverse matrix. Calculate pseudo-inverse matrix instead.\n",
      "2021-07-10 12:32:16,777  DEBUG  common.leastsquare : Solving with least square calculation (iteration = 40, norm = 0.000000)\n",
      "2021-07-10 12:32:16,903  WARNING  common.leastsquare : Cannot calculate inverse matrix. Calculate pseudo-inverse matrix instead.\n",
      "2021-07-10 12:32:16,905  DEBUG  common.leastsquare : Solving with least square calculation (iteration = 41, norm = 0.000000)\n",
      "2021-07-10 12:32:17,031  WARNING  common.leastsquare : Cannot calculate inverse matrix. Calculate pseudo-inverse matrix instead.\n",
      "2021-07-10 12:32:17,033  DEBUG  common.leastsquare : Solving with least square calculation (iteration = 42, norm = 0.000000)\n",
      "2021-07-10 12:32:17,159  WARNING  common.leastsquare : Cannot calculate inverse matrix. Calculate pseudo-inverse matrix instead.\n",
      "2021-07-10 12:32:17,161  DEBUG  common.leastsquare : Solving with least square calculation (iteration = 43, norm = 0.000000)\n",
      "2021-07-10 12:32:17,324  WARNING  common.leastsquare : Cannot calculate inverse matrix. Calculate pseudo-inverse matrix instead.\n",
      "2021-07-10 12:32:17,326  DEBUG  common.leastsquare : Solving with least square calculation (iteration = 44, norm = 0.000000)\n",
      "2021-07-10 12:32:17,479  WARNING  common.leastsquare : Cannot calculate inverse matrix. Calculate pseudo-inverse matrix instead.\n",
      "2021-07-10 12:32:17,481  DEBUG  common.leastsquare : Solving with least square calculation (iteration = 45, norm = 0.000000)\n",
      "2021-07-10 12:32:17,628  WARNING  common.leastsquare : Cannot calculate inverse matrix. Calculate pseudo-inverse matrix instead.\n",
      "2021-07-10 12:32:17,630  DEBUG  common.leastsquare : Solving with least square calculation (iteration = 46, norm = 0.000000)\n",
      "2021-07-10 12:32:17,810  WARNING  common.leastsquare : Cannot calculate inverse matrix. Calculate pseudo-inverse matrix instead.\n",
      "2021-07-10 12:32:17,812  DEBUG  common.leastsquare : Solving with least square calculation (iteration = 47, norm = 0.000000)\n",
      "2021-07-10 12:32:17,971  WARNING  common.leastsquare : Cannot calculate inverse matrix. Calculate pseudo-inverse matrix instead.\n",
      "2021-07-10 12:32:17,973  DEBUG  common.leastsquare : Solving with least square calculation (iteration = 48, norm = 0.000000)\n",
      "2021-07-10 12:32:18,090  WARNING  common.leastsquare : Cannot calculate inverse matrix. Calculate pseudo-inverse matrix instead.\n",
      "2021-07-10 12:32:18,093  DEBUG  common.leastsquare : Solving with least square calculation (iteration = 49, norm = 0.000000)\n",
      "2021-07-10 12:32:18,234  WARNING  common.leastsquare : Cannot calculate inverse matrix. Calculate pseudo-inverse matrix instead.\n",
      "2021-07-10 12:32:18,237  DEBUG  common.leastsquare : Solving with least square calculation (iteration = 50, norm = 0.000000)\n",
      "2021-07-10 12:32:18,397  WARNING  common.leastsquare : Cannot calculate inverse matrix. Calculate pseudo-inverse matrix instead.\n",
      "2021-07-10 12:32:18,400  DEBUG  common.leastsquare : Solving with least square calculation (iteration = 51, norm = 0.000000)\n",
      "2021-07-10 12:32:18,551  WARNING  common.leastsquare : Cannot calculate inverse matrix. Calculate pseudo-inverse matrix instead.\n",
      "2021-07-10 12:32:18,553  DEBUG  common.leastsquare : Solving with least square calculation (iteration = 52, norm = 0.000000)\n",
      "2021-07-10 12:32:18,697  WARNING  common.leastsquare : Cannot calculate inverse matrix. Calculate pseudo-inverse matrix instead.\n",
      "2021-07-10 12:32:18,699  DEBUG  common.leastsquare : Solving with least square calculation (iteration = 53, norm = 0.000000)\n",
      "2021-07-10 12:32:18,843  WARNING  common.leastsquare : Cannot calculate inverse matrix. Calculate pseudo-inverse matrix instead.\n",
      "2021-07-10 12:32:18,845  DEBUG  common.leastsquare : Solving with least square calculation (iteration = 54, norm = 0.000000)\n",
      "2021-07-10 12:32:18,938  WARNING  common.leastsquare : Cannot calculate inverse matrix. Calculate pseudo-inverse matrix instead.\n",
      "2021-07-10 12:32:18,941  DEBUG  common.leastsquare : Solving with least square calculation (iteration = 55, norm = 0.000000)\n",
      "2021-07-10 12:32:19,097  WARNING  common.leastsquare : Cannot calculate inverse matrix. Calculate pseudo-inverse matrix instead.\n",
      "2021-07-10 12:32:19,101  DEBUG  common.leastsquare : Solving with least square calculation (iteration = 56, norm = 0.000000)\n",
      "2021-07-10 12:32:19,244  WARNING  common.leastsquare : Cannot calculate inverse matrix. Calculate pseudo-inverse matrix instead.\n",
      "2021-07-10 12:32:19,246  DEBUG  common.leastsquare : Solving with least square calculation (iteration = 57, norm = 0.000000)\n",
      "2021-07-10 12:32:19,344  WARNING  common.leastsquare : Cannot calculate inverse matrix. Calculate pseudo-inverse matrix instead.\n",
      "2021-07-10 12:32:19,348  DEBUG  common.leastsquare : Solving with least square calculation (iteration = 58, norm = 0.000000)\n",
      "2021-07-10 12:32:19,460  WARNING  common.leastsquare : Cannot calculate inverse matrix. Calculate pseudo-inverse matrix instead.\n",
      "2021-07-10 12:32:19,462  DEBUG  common.leastsquare : Solving with least square calculation (iteration = 59, norm = 0.000000)\n",
      "2021-07-10 12:32:19,551  WARNING  common.leastsquare : Cannot calculate inverse matrix. Calculate pseudo-inverse matrix instead.\n",
      "2021-07-10 12:32:19,553  DEBUG  common.leastsquare : Solving with least square calculation (iteration = 60, norm = 0.000000)\n",
      "2021-07-10 12:32:19,641  WARNING  common.leastsquare : Cannot calculate inverse matrix. Calculate pseudo-inverse matrix instead.\n",
      "2021-07-10 12:32:19,643  DEBUG  common.leastsquare : Solving with least square calculation (iteration = 61, norm = 0.000000)\n",
      "2021-07-10 12:32:19,752  WARNING  common.leastsquare : Cannot calculate inverse matrix. Calculate pseudo-inverse matrix instead.\n",
      "2021-07-10 12:32:19,755  DEBUG  common.leastsquare : Solving with least square calculation (iteration = 62, norm = 0.000000)\n",
      "2021-07-10 12:32:19,855  WARNING  common.leastsquare : Cannot calculate inverse matrix. Calculate pseudo-inverse matrix instead.\n",
      "2021-07-10 12:32:19,857  DEBUG  common.leastsquare : Solving with least square calculation (iteration = 63, norm = 0.000000)\n",
      "2021-07-10 12:32:19,946  WARNING  common.leastsquare : Cannot calculate inverse matrix. Calculate pseudo-inverse matrix instead.\n",
      "2021-07-10 12:32:19,948  DEBUG  common.leastsquare : Solving with least square calculation (iteration = 64, norm = 0.000000)\n",
      "2021-07-10 12:32:20,069  WARNING  common.leastsquare : Cannot calculate inverse matrix. Calculate pseudo-inverse matrix instead.\n",
      "2021-07-10 12:32:20,073  DEBUG  common.leastsquare : Solving with least square calculation (iteration = 65, norm = 0.000000)\n",
      "2021-07-10 12:32:20,167  WARNING  common.leastsquare : Cannot calculate inverse matrix. Calculate pseudo-inverse matrix instead.\n",
      "2021-07-10 12:32:20,171  DEBUG  common.leastsquare : Solving with least square calculation (iteration = 66, norm = 0.000000)\n",
      "2021-07-10 12:32:20,262  WARNING  common.leastsquare : Cannot calculate inverse matrix. Calculate pseudo-inverse matrix instead.\n",
      "2021-07-10 12:32:20,265  DEBUG  common.leastsquare : Solving with least square calculation (iteration = 67, norm = 0.000000)\n",
      "2021-07-10 12:32:20,356  WARNING  common.leastsquare : Cannot calculate inverse matrix. Calculate pseudo-inverse matrix instead.\n",
      "2021-07-10 12:32:20,360  DEBUG  common.leastsquare : Solving with least square calculation (iteration = 68, norm = 0.000000)\n",
      "2021-07-10 12:32:20,456  WARNING  common.leastsquare : Cannot calculate inverse matrix. Calculate pseudo-inverse matrix instead.\n",
      "2021-07-10 12:32:20,459  DEBUG  common.leastsquare : Solving with least square calculation (iteration = 69, norm = 0.000000)\n",
      "2021-07-10 12:32:20,550  WARNING  common.leastsquare : Cannot calculate inverse matrix. Calculate pseudo-inverse matrix instead.\n",
      "2021-07-10 12:32:20,553  DEBUG  common.leastsquare : Solving with least square calculation (iteration = 70, norm = 0.000000)\n",
      "2021-07-10 12:32:20,644  WARNING  common.leastsquare : Cannot calculate inverse matrix. Calculate pseudo-inverse matrix instead.\n",
      "2021-07-10 12:32:20,647  DEBUG  common.leastsquare : Solving with least square calculation (iteration = 71, norm = 0.000000)\n",
      "2021-07-10 12:32:20,739  WARNING  common.leastsquare : Cannot calculate inverse matrix. Calculate pseudo-inverse matrix instead.\n",
      "2021-07-10 12:32:20,742  DEBUG  common.leastsquare : Solving with least square calculation (iteration = 72, norm = 0.000000)\n"
     ]
    }
   ],
   "source": [
    "from common.leastsquare import LeastSquare\n",
    "\n",
    "sip_order = 4\n",
    "\n",
    "ls = LeastSquare(lambda a: model(a, pixcrd, sip_order), np.size(data['x'])*2)\n",
    "\n",
    "# constructing a_init (initial parameter set).\n",
    "a_init = [ra0.value, dec0.value, pa0.value, scale0.value]\n",
    "for i in range(0, 2*(sip_order+1)**2):\n",
    "    a_init.append(0)\n",
    "a_init = np.array(a_init) # This must be an ndarray.\n",
    "\n",
    "# constraining ra/dec values in 'observed' between -180 and 180 deg.\n",
    "true_pos = np.concatenate((data['ra'], data['dec']))\n",
    "pos = np.where(true_pos>180.)\n",
    "true_pos[pos] = true_pos[pos] - 360.\n",
    "pos = np.where(true_pos<-180.)\n",
    "true_pos[pos] = true_pos[pos] + 360.\n",
    "\n",
    "result, _ = ls.solve(true_pos, a_init, max_iteration=100)\n",
    "\n",
    "if result[3] < 0:\n",
    "    result[3] = -result[3]\n",
    "    result[2] = result[2] + 180.0\n",
    "\n",
    "if result[2] > 360.0 or result[2] < 0.0:\n",
    "    result[2] = result[2]%360.0"
   ]
  },
  {
   "cell_type": "markdown",
   "metadata": {},
   "source": [
    "The result is..."
   ]
  },
  {
   "cell_type": "code",
   "execution_count": 13,
   "metadata": {},
   "outputs": [
    {
     "name": "stdout",
     "output_type": "stream",
     "text": [
      "Center R.A.   : 360.010359 deg.\n",
      "Center Dec.   : -0.004075 deg.\n",
      "Position angle: 23.416817 deg.\n",
      "Plate scale   : 7.883529e-03 deg/mm\n"
     ]
    }
   ],
   "source": [
    "print(\"Center R.A.   : {:f} deg.\".format(result[0]))\n",
    "print(\"Center Dec.   : {:f} deg.\".format(result[1]))\n",
    "print(\"Position angle: {:f} deg.\".format(result[2]))\n",
    "print(\"Plate scale   : {:e} deg/mm\".format(result[3]))"
   ]
  },
  {
   "cell_type": "code",
   "execution_count": 14,
   "metadata": {},
   "outputs": [
    {
     "name": "stdout",
     "output_type": "stream",
     "text": [
      "[[ 0.00000000e+00  0.00000000e+00 -1.41877396e-04 -1.73147526e-06\n",
      "   6.58393338e-08]\n",
      " [ 0.00000000e+00  8.47034136e-04 -4.01843695e-05 -2.07856149e-07\n",
      "   0.00000000e+00]\n",
      " [-3.70725065e-04 -1.29634560e-06  1.36164955e-07  0.00000000e+00\n",
      "   0.00000000e+00]\n",
      " [-4.02142769e-05 -2.09643276e-07  0.00000000e+00  0.00000000e+00\n",
      "   0.00000000e+00]\n",
      " [ 5.38010713e-08  0.00000000e+00  0.00000000e+00  0.00000000e+00\n",
      "   0.00000000e+00]]\n",
      "[[ 0.00000000e+00  0.00000000e+00  1.23182077e-03 -4.39655822e-05\n",
      "  -1.71751167e-07]\n",
      " [ 0.00000000e+00 -2.80190925e-04 -1.60118081e-06  1.35537563e-07\n",
      "   0.00000000e+00]\n",
      " [ 4.02932880e-04 -4.29046331e-05 -2.64795365e-07  0.00000000e+00\n",
      "   0.00000000e+00]\n",
      " [-1.82221786e-06  1.32208049e-07  0.00000000e+00  0.00000000e+00\n",
      "   0.00000000e+00]\n",
      " [-1.12135825e-08  0.00000000e+00  0.00000000e+00  0.00000000e+00\n",
      "   0.00000000e+00]]\n"
     ]
    }
   ],
   "source": [
    "print(result[4:4+(sip_order+1)**2].reshape((sip_order+1, sip_order+1)))\n",
    "print(result[4+(sip_order+1)**2:].reshape((sip_order+1, sip_order+1)))"
   ]
  },
  {
   "cell_type": "markdown",
   "metadata": {},
   "source": [
    "According to the meta part of the input file, the poiunting RA and Dec are 0.0 deg. The position angle is 23.418573474700626 deg. The calculation seems to correctly estimate these parameters."
   ]
  },
  {
   "cell_type": "markdown",
   "metadata": {},
   "source": [
    "Let's compare the ra/dec values calculated from the derived parameters with the true values."
   ]
  },
  {
   "cell_type": "code",
   "execution_count": 15,
   "metadata": {},
   "outputs": [
    {
     "data": {
      "text/plain": [
       "<matplotlib.legend.Legend at 0x7f6ef50c4438>"
      ]
     },
     "execution_count": 15,
     "metadata": {},
     "output_type": "execute_result"
    },
    {
     "data": {
      "image/png": "[encoded data removed]",
      "text/plain": [
       "<Figure size 1008x576 with 1 Axes>"
      ]
     },
     "metadata": {
      "needs_background": "light"
     },
     "output_type": "display_data"
    }
   ],
   "source": [
    "positions = model(result, pixcrd, sip_order)\n",
    "positions = positions.reshape((2,int(positions.size/2))).T\n",
    "\n",
    "fig = plt.figure(figsize=(14,8))\n",
    "ax = fig.add_subplot(111)\n",
    "ax.scatter(data['ra'], data['dec'], marker='+', label='Truth')\n",
    "ax.scatter(data['ra']-360., data['dec'], marker='+', label='')\n",
    "ax.scatter(positions[:,0], positions[:,1], marker='x', label='Reproduced')\n",
    "ax.set_xlabel('R.A. (deg)')\n",
    "ax.set_ylabel('Dec. (deg)')\n",
    "ax.set_xlim([-0.3,0.3])\n",
    "#ax.set_aspect('equal', adjustable='box')\n",
    "ax.legend()"
   ]
  },
  {
   "cell_type": "markdown",
   "metadata": {},
   "source": [
    "The reproduced ra/dec values seem to match the true values very well."
   ]
  },
  {
   "cell_type": "code",
   "execution_count": 16,
   "metadata": {},
   "outputs": [],
   "source": [
    "from astropy.coordinates import SkyCoord\n",
    "\n",
    "c_calc = SkyCoord(positions[:,0]*u.deg, positions[:,1]*u.deg, frame='icrs')\n",
    "c_true = SkyCoord(data['ra'], data['dec'], frame='icrs')\n",
    "sep = c_calc.separation(c_true)"
   ]
  },
  {
   "cell_type": "code",
   "execution_count": 17,
   "metadata": {},
   "outputs": [
    {
     "data": {
      "text/plain": [
       "Text(0, 0.5, 'Position estimation error (arcsec)')"
      ]
     },
     "execution_count": 17,
     "metadata": {},
     "output_type": "execute_result"
    },
    {
     "data": {
      "image/png": "[encoded data removed]",
      "text/plain": [
       "<Figure size 432x288 with 1 Axes>"
      ]
     },
     "metadata": {
      "needs_background": "light"
     },
     "output_type": "display_data"
    }
   ],
   "source": [
    "plt.plot(sep.arcsec, '.')\n",
    "plt.xlabel('Index')\n",
    "plt.ylabel('Position estimation error (arcsec)')"
   ]
  },
  {
   "cell_type": "markdown",
   "metadata": {},
   "source": [
    "The position difference is small, typically around <0.3 arcsec."
   ]
  },
  {
   "cell_type": "code",
   "execution_count": null,
   "metadata": {},
   "outputs": [],
   "source": []
  }
 ],
 "metadata": {
  "kernelspec": {
   "display_name": "Python 3",
   "language": "python",
   "name": "python3"
  },
  "language_info": {
   "codemirror_mode": {
    "name": "ipython",
    "version": 3
   },
   "file_extension": ".py",
   "mimetype": "text/x-python",
   "name": "python",
   "nbconvert_exporter": "python",
   "pygments_lexer": "ipython3",
   "version": "3.7.1"
  }
 },
 "nbformat": 4,
 "nbformat_minor": 2
}
