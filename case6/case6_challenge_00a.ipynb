{
 "cells": [
  {
   "cell_type": "markdown",
   "metadata": {},
   "source": [
    "# Case6-Challenge00"
   ]
  },
  {
   "cell_type": "markdown",
   "metadata": {},
   "source": [
    "In this notebook, we estimate the field parameters and sky coordinates of objects from the observed positions on the focal plane and pointing information."
   ]
  },
  {
   "cell_type": "markdown",
   "metadata": {},
   "source": [
    "## Preparation"
   ]
  },
  {
   "cell_type": "markdown",
   "metadata": {},
   "source": [
    "## Environment setting."
   ]
  },
  {
   "cell_type": "code",
   "execution_count": 1,
   "metadata": {},
   "outputs": [],
   "source": [
    "import sys\n",
    "sys.path.append('/home/kamizuka/analysis')"
   ]
  },
  {
   "cell_type": "markdown",
   "metadata": {},
   "source": [
    "### Loading data."
   ]
  },
  {
   "cell_type": "code",
   "execution_count": 2,
   "metadata": {},
   "outputs": [],
   "source": [
    "import astropy.io.ascii as asc\n",
    "import astropy.units as u\n",
    "\n",
    "objects = asc.read('case6_challenge_00.txt') #consists of x (um), y (um), catalog_id, ra (deg), dec (deg), and field.\n",
    "pointings = asc.read('case6_challenge_00_pointing.txt') # consists of field, ra (deg), dec (deg), and pa (deg)."
   ]
  },
  {
   "cell_type": "markdown",
   "metadata": {},
   "source": [
    "### Reducing data."
   ]
  },
  {
   "cell_type": "code",
   "execution_count": 3,
   "metadata": {},
   "outputs": [],
   "source": [
    "import numpy as np\n",
    "\n",
    "pos = np.where(objects['field']<=10)\n",
    "objects = objects[pos]\n",
    "\n",
    "pos = np.where((objects['catalog_id']%10==0))\n",
    "objects = objects[pos]\n",
    "\n",
    "pos = np.where(pointings['field']<=10)\n",
    "pointings = pointings[pos]"
   ]
  },
  {
   "cell_type": "markdown",
   "metadata": {},
   "source": [
    "### Modifying catalog ids."
   ]
  },
  {
   "cell_type": "code",
   "execution_count": 4,
   "metadata": {},
   "outputs": [],
   "source": [
    "from astropy.table import unique\n",
    "\n",
    "ids = unique(objects, keys='catalog_id')['catalog_id']\n",
    "objects.add_column(-1, name='id')\n",
    "for i in range(0, np.size(ids)):\n",
    "    pos = np.where(objects['catalog_id']==ids[i])\n",
    "    objects['id'][pos] = i\n",
    "\n",
    "objects.remove_column('catalog_id')\n",
    "objects.rename_column('id', 'catalog_id')"
   ]
  },
  {
   "cell_type": "markdown",
   "metadata": {},
   "source": [
    "### Preparing some arrays."
   ]
  },
  {
   "cell_type": "markdown",
   "metadata": {},
   "source": [
    "From the data, we prepare two arrays. One contains true sky coodinates and catalog_id (true_radec). The other one contains observed field-id, focal-plane position (um) and catalog id (observed_xy)."
   ]
  },
  {
   "cell_type": "code",
   "execution_count": 5,
   "metadata": {},
   "outputs": [],
   "source": [
    "from astropy.table import unique\n",
    "\n",
    "true_radec = objects['catalog_id', 'ra', 'dec'].copy()\n",
    "true_radec.sort('catalog_id')\n",
    "true_radec = unique(true_radec, keys='catalog_id') # consists of catalog_id, ra (deg), and dec (deg).\n",
    "\n",
    "observed_xy = objects['field', 'x', 'y', 'catalog_id', 'ra', 'dec'].copy()\n",
    "observed_xy.rename_column('ra', 'ra_est')\n",
    "observed_xy.rename_column('dec', 'dec_est')\n",
    "# observed_xy will have field, x (um), y (um), catalog_id, and estimated ra/dec (deg).\n",
    "\n",
    "# initializing ra_est and dec_est\n",
    "observed_xy['ra_est']  = 0.0\n",
    "observed_xy['dec_est'] = 0.0"
   ]
  },
  {
   "cell_type": "markdown",
   "metadata": {},
   "source": [
    "We make another array which contains field parameters with some uncertainties. These parameters will be used as the first approximation of the field parameters."
   ]
  },
  {
   "cell_type": "code",
   "execution_count": 6,
   "metadata": {},
   "outputs": [],
   "source": [
    "import numpy as np\n",
    "\n",
    "field_params = pointings.copy()\n",
    "field_params['ra'] += np.random.normal(0.0, 0.01, size=np.size(field_params))\n",
    "field_params['dec']+= np.random.normal(0.0, 0.01, size=np.size(field_params))\n",
    "field_params['pa'] += np.random.normal(0.0, 0.01, size=np.size(field_params))\n",
    "field_params['pa'] += 55.0 # offset between gal. coord and icrs coord.\n",
    "field_params.add_column(8e-06*u.deg/u.um, name='scale')\n",
    "# field_params will have field, ra (deg), dec (deg), pa (deg), and scale."
   ]
  },
  {
   "cell_type": "markdown",
   "metadata": {},
   "source": [
    "## Object distribution"
   ]
  },
  {
   "cell_type": "markdown",
   "metadata": {},
   "source": [
    "Let's check the object distribution."
   ]
  },
  {
   "cell_type": "code",
   "execution_count": 8,
   "metadata": {},
   "outputs": [
    {
     "data": {
      "text/plain": [
       "Text(0, 0.5, 'dec (deg)')"
      ]
     },
     "execution_count": 8,
     "metadata": {},
     "output_type": "execute_result"
    },
    {
     "data": {
      "image/png": "[encoded data removed]",
      "text/plain": [
       "<Figure size 432x288 with 1 Axes>"
      ]
     },
     "metadata": {
      "needs_background": "light"
     },
     "output_type": "display_data"
    }
   ],
   "source": [
    "import matplotlib.pylab as plt\n",
    "import numpy as np\n",
    "\n",
    "for i in range(0, np.max(field_params['field'])+1):\n",
    "    pos = np.where(objects['field']==i)\n",
    "    plt.scatter(objects['ra'][pos], objects['dec'][pos], marker='x')\n",
    "plt.xlabel('ra (deg)')\n",
    "plt.ylabel('dec (deg)')"
   ]
  },
  {
   "cell_type": "markdown",
   "metadata": {},
   "source": [
    "## Estimation of sky coordinates"
   ]
  },
  {
   "cell_type": "markdown",
   "metadata": {},
   "source": [
    "Here, we define a function to construct a wcs instance from given field parameters."
   ]
  },
  {
   "cell_type": "code",
   "execution_count": 9,
   "metadata": {},
   "outputs": [],
   "source": [
    "from astropy.wcs import WCS\n",
    "from astropy.wcs import Sip\n",
    "import astropy.units as u\n",
    "\n",
    "def wcs(ra_ptg, dec_ptg, pa_ptg, scale, a=None, b=None, ap=None, bp=None):\n",
    "    w = WCS(naxis=2)\n",
    "    w.wcs.crpix=[0,0]\n",
    "    w.wcs.cdelt=np.array([-scale, scale])\n",
    "    w.wcs.crval=[ra_ptg, dec_ptg]\n",
    "    w.wcs.ctype=[\"RA---TAN-SIP\", \"DEC--TAN-SIP\"]\n",
    "    w.wcs.pc=[[ np.cos(pa_ptg*u.deg), np.sin(pa_ptg*u.deg)],\n",
    "              [-np.sin(pa_ptg*u.deg), np.cos(pa_ptg*u.deg)]]\n",
    "    if a is not None and b is not None:\n",
    "        w.sip = Sip(a, b, ap, bp, [0, 0])\n",
    "    return w"
   ]
  },
  {
   "cell_type": "markdown",
   "metadata": {},
   "source": [
    "Then, we estimate the sky coordinates from the observed focal-plane positions and (approximated) field parameters."
   ]
  },
  {
   "cell_type": "code",
   "execution_count": 10,
   "metadata": {},
   "outputs": [],
   "source": [
    "for i in range(0, np.size(field_params)):\n",
    "    fp = field_params[i]\n",
    "    w = wcs(fp['ra'], fp['dec'], fp['pa'], fp['scale'])\n",
    "    pos = np.where(observed_xy['field']==fp['field'])\n",
    "    ret = w.all_pix2world(np.concatenate(([observed_xy[pos]['x']], [observed_xy[pos]['y']])).T, 0)\n",
    "    observed_xy['ra_est'][pos]  = ret[:, 0]\n",
    "    observed_xy['dec_est'][pos] = ret[:, 1]"
   ]
  },
  {
   "cell_type": "markdown",
   "metadata": {},
   "source": [
    "Let's check the true positions and estimated positions."
   ]
  },
  {
   "cell_type": "code",
   "execution_count": 11,
   "metadata": {},
   "outputs": [
    {
     "data": {
      "text/plain": [
       "Text(0, 0.5, 'dec (deg)')"
      ]
     },
     "execution_count": 11,
     "metadata": {},
     "output_type": "execute_result"
    },
    {
     "data": {
      "image/png": "[encoded data removed]",
      "text/plain": [
       "<Figure size 432x288 with 1 Axes>"
      ]
     },
     "metadata": {
      "needs_background": "light"
     },
     "output_type": "display_data"
    }
   ],
   "source": [
    "pos = np.where(objects['field']==0)\n",
    "plt.scatter(objects['ra'][pos], objects['dec'][pos], marker='x', label='True')\n",
    "pos = np.where(observed_xy['field']==0)\n",
    "plt.scatter(observed_xy['ra_est'][pos], observed_xy['dec_est'][pos], marker='+', label='Estimated')\n",
    "plt.xlabel('ra (deg)')\n",
    "plt.ylabel('dec (deg)')"
   ]
  },
  {
   "cell_type": "markdown",
   "metadata": {},
   "source": [
    "Finally, we estimate the sky coodinates by averaging the values in each frame."
   ]
  },
  {
   "cell_type": "code",
   "execution_count": 12,
   "metadata": {},
   "outputs": [],
   "source": [
    "from astropy.table import QTable\n",
    "\n",
    "radec_est = QTable(names=['catalog_id', 'ra_est', 'dec_est'],\\\n",
    "           units=[None, u.deg, u.deg],\\\n",
    "           dtype=['int64', 'float64', 'float64'])\n",
    "\n",
    "cat_ids = unique(observed_xy, 'catalog_id')['catalog_id']\n",
    "\n",
    "for i in cat_ids:\n",
    "    pos = np.where(observed_xy['catalog_id'] == i)\n",
    "    ra = np.mean(observed_xy[pos]['ra_est'])*u.deg\n",
    "    dec = np.mean(observed_xy[pos]['dec_est'])*u.deg\n",
    "    radec_est.add_row([i, ra, dec])"
   ]
  },
  {
   "cell_type": "markdown",
   "metadata": {},
   "source": [
    "## Parameter adjustment"
   ]
  },
  {
   "cell_type": "markdown",
   "metadata": {},
   "source": [
    "At first, we define a function which calculates x/y positions from the ra/dec values estimated above and the field/catalog ids."
   ]
  },
  {
   "cell_type": "code",
   "execution_count": 13,
   "metadata": {},
   "outputs": [],
   "source": [
    "def xy_calculator(observed_xy, field_params, radec_info):\n",
    "    # observed_xy:  consists of field, x (um), y (um), catalog_id, ra_est (deg), and dec_est(deg).\n",
    "    # field_params: consists of field, ra (deg), dec (deg), and pa (deg).\n",
    "    # radec_info:   consists of catalog_id, ra_est (deg), and dec_est (deg).\n",
    "\n",
    "    observed_xy_cp = observed_xy.copy()\n",
    "    observed_xy_cp.rename_column('x', 'x_est')\n",
    "    observed_xy_cp.rename_column('y', 'y_est')\n",
    "    observed_xy_cp['x_est']   = None\n",
    "    observed_xy_cp['y_est']   = None\n",
    "    observed_xy_cp['ra_est']  = None\n",
    "    observed_xy_cp['dec_est'] = None\n",
    "\n",
    "    for i in range(0, np.size(radec_info)):\n",
    "        pos = np.where(observed_xy_cp['catalog_id']==radec_info[i]['catalog_id'])\n",
    "        observed_xy_cp['ra_est'][pos]  = radec_info[i]['ra_est']\n",
    "        observed_xy_cp['dec_est'][pos] = radec_info[i]['dec_est']\n",
    "    \n",
    "    for i in range(0, np.size(field_params)):\n",
    "        fp = field_params[i]\n",
    "        w = wcs(fp['ra'], fp['dec'], fp['pa'], fp['scale'])\n",
    "        pos = np.where(observed_xy_cp['field']==fp['field'])\n",
    "        ret = w.all_world2pix(np.concatenate(([observed_xy_cp[pos]['ra_est']], [observed_xy_cp[pos]['dec_est']])).T, 0)\n",
    "        observed_xy_cp['x_est'][pos] = ret[:, 0]\n",
    "        observed_xy_cp['y_est'][pos] = ret[:, 1]\n",
    "\n",
    "    return observed_xy_cp['x_est', 'y_est']"
   ]
  },
  {
   "cell_type": "code",
   "execution_count": 14,
   "metadata": {},
   "outputs": [],
   "source": [
    "from astropy.table import Table\n",
    "\n",
    "def model(params, n_fields, n_objects, observed_xy):\n",
    "    # params = (ra_ptg...dec_ptg...pa_ptg...scale...ra_obj...dec_obj)\n",
    "    ra_ptgs, dec_ptgs, pa_ptgs, scales, ra_objs, dec_objs =\\\n",
    "        np.split(params, [n_fields, n_fields*2, n_fields*3, n_fields*4, n_fields*4+n_objects])\n",
    "    a = QTable(names=['catalog_id', 'ra_est', 'dec_est'],\\\n",
    "           units=[None, u.deg, u.deg],\\\n",
    "           dtype=['int64', 'float64', 'float64'])\n",
    "    \n",
    "    field_params = Table(data=[ra_ptgs, dec_ptgs, pa_ptgs, scales, -np.ones(shape=(np.size(ra_ptgs)))],\\\n",
    "                         names=['ra', 'dec', 'pa', 'scale', 'field'],\\\n",
    "                         units=[u.deg, u.deg, u.deg, u.deg/u.um, None],\\\n",
    "                         dtype=['float64', 'float64', 'float64', 'float64', 'int64'])\n",
    "    \n",
    "    radec_info = Table(data=[ra_objs, dec_objs, -np.ones(shape=(np.size(ra_objs)))],\\\n",
    "                       names=['ra_est', 'dec_est', 'catalog_id'],\\\n",
    "                       units=[u.deg, u.deg, None],\\\n",
    "                       dtype=['float64', 'float64', 'int64'])\n",
    "\n",
    "    field_params['field'] = np.arange(0, np.size(field_params))\n",
    "    radec_info['catalog_id'] = np.arange(0, np.size(radec_info))\n",
    "\n",
    "    ret = xy_calculator(observed_xy, field_params, radec_info)\n",
    "\n",
    "    return np.concatenate((ra_ptgs, dec_ptgs, ret['x_est'], ret['y_est']))"
   ]
  },
  {
   "cell_type": "code",
   "execution_count": 15,
   "metadata": {},
   "outputs": [
    {
     "name": "stderr",
     "output_type": "stream",
     "text": [
      "2021-07-17 22:14:10,654  DEBUG  common.leastsquare : Solving with least square calculation (iteration = 1, norm = 10.542635)\n",
      "2021-07-17 22:14:25,716  DEBUG  common.leastsquare : Solving with least square calculation (iteration = 2, norm = 1.365232)\n",
      "2021-07-17 22:14:40,985  DEBUG  common.leastsquare : Solving with least square calculation (iteration = 3, norm = 0.394412)\n",
      "2021-07-17 22:14:56,004  DEBUG  common.leastsquare : Solving with least square calculation (iteration = 4, norm = 0.002472)\n",
      "2021-07-17 22:15:11,100  DEBUG  common.leastsquare : Solving with least square calculation (iteration = 5, norm = 0.000308)\n",
      "2021-07-17 22:15:26,256  DEBUG  common.leastsquare : Solving with least square calculation (iteration = 6, norm = 0.000416)\n",
      "2021-07-17 22:15:41,832  DEBUG  common.leastsquare : Solving with least square calculation (iteration = 7, norm = 0.000186)\n",
      "2021-07-17 22:15:57,020  DEBUG  common.leastsquare : Solving with least square calculation (iteration = 8, norm = 0.000464)\n",
      "2021-07-17 22:16:11,545  DEBUG  common.leastsquare : Solving with least square calculation (iteration = 9, norm = 0.000551)\n",
      "2021-07-17 22:16:26,357  DEBUG  common.leastsquare : Solving with least square calculation (iteration = 10, norm = 0.000127)\n",
      "2021-07-17 22:16:40,848  DEBUG  common.leastsquare : Solving with least square calculation (iteration = 11, norm = 0.000002)\n",
      "2021-07-17 22:16:54,292  DEBUG  common.leastsquare : Solving with least square calculation (iteration = 12, norm = 0.000415)\n",
      "2021-07-17 22:17:07,267  DEBUG  common.leastsquare : Solving with least square calculation (iteration = 13, norm = 0.000305)\n",
      "2021-07-17 22:17:20,257  DEBUG  common.leastsquare : Solving with least square calculation (iteration = 14, norm = 0.000102)\n",
      "2021-07-17 22:17:33,084  DEBUG  common.leastsquare : Solving with least square calculation (iteration = 15, norm = 0.000320)\n",
      "2021-07-17 22:17:45,911  DEBUG  common.leastsquare : Solving with least square calculation (iteration = 16, norm = 0.000051)\n",
      "2021-07-17 22:17:58,735  DEBUG  common.leastsquare : Solving with least square calculation (iteration = 17, norm = 0.000105)\n",
      "2021-07-17 22:18:11,606  DEBUG  common.leastsquare : Solving with least square calculation (iteration = 18, norm = 0.000128)\n",
      "2021-07-17 22:18:42,852  DEBUG  common.leastsquare : Solving with least square calculation (iteration = 19, norm = 0.000407)\n",
      "2021-07-17 22:19:00,668  DEBUG  common.leastsquare : Solving with least square calculation (iteration = 20, norm = 0.000017)\n",
      "2021-07-17 22:19:32,648  DEBUG  common.leastsquare : Solving with least square calculation (iteration = 21, norm = 0.000102)\n",
      "2021-07-17 22:20:03,116  DEBUG  common.leastsquare : Solving with least square calculation (iteration = 22, norm = 0.000079)\n",
      "2021-07-17 22:20:21,068  DEBUG  common.leastsquare : Solving with least square calculation (iteration = 23, norm = 0.000066)\n",
      "2021-07-17 22:20:39,192  DEBUG  common.leastsquare : Solving with least square calculation (iteration = 24, norm = 0.000175)\n",
      "2021-07-17 22:21:11,216  DEBUG  common.leastsquare : Solving with least square calculation (iteration = 25, norm = 0.000537)\n",
      "2021-07-17 22:21:29,216  DEBUG  common.leastsquare : Solving with least square calculation (iteration = 26, norm = 0.000333)\n",
      "2021-07-17 22:21:47,184  DEBUG  common.leastsquare : Solving with least square calculation (iteration = 27, norm = 0.000138)\n",
      "2021-07-17 22:22:18,788  DEBUG  common.leastsquare : Solving with least square calculation (iteration = 28, norm = 0.000186)\n",
      "2021-07-17 22:22:37,052  DEBUG  common.leastsquare : Solving with least square calculation (iteration = 29, norm = 0.000198)\n",
      "2021-07-17 22:23:08,532  DEBUG  common.leastsquare : Solving with least square calculation (iteration = 30, norm = 0.000133)\n"
     ]
    }
   ],
   "source": [
    "from common.leastsquare import LeastSquare\n",
    "\n",
    "ls = LeastSquare(lambda a: model(a, np.size(field_params), np.size(radec_est), observed_xy),\\\n",
    "                 np.size(field_params)*2+np.size(observed_xy)*2)\n",
    "\n",
    "# constructing a_init (initial parameter set).\n",
    "a_init = np.array(np.concatenate((field_params['ra'], field_params['dec'], field_params['pa'], field_params['scale'],\\\n",
    "                                  radec_est['ra_est'], radec_est['dec_est']))) # This must be an ndarray.\n",
    "\n",
    "# constraining ra/dec values in 'observed' between -180 and 180 deg.\n",
    "measured = np.concatenate((field_params['ra'], field_params['dec'], observed_xy['x'], observed_xy['y']))\n",
    "#pos = np.where(measured>180.)\n",
    "#measured[pos] -= 360.\n",
    "#pos = np.where(measured<-180.)\n",
    "#measured[pos] += 360.\n",
    "\n",
    "result, _ = ls.solve(measured, a_init, max_iteration=30)\n",
    "\n",
    "## pa should be a positive value between 0 and 360.\n",
    "#if result[3] < 0:\n",
    "#    result[3] = -result[3]\n",
    "#    result[2] = result[2] + 180.0\n",
    "#\n",
    "#if result[2] > 360.0 or result[2] < 0.0:\n",
    "#    result[2] = result[2]%360.0"
   ]
  },
  {
   "cell_type": "code",
   "execution_count": 16,
   "metadata": {},
   "outputs": [],
   "source": [
    "n_fields = np.size(field_params)\n",
    "n_objects = np.size(radec_est)\n",
    "ra_ptgs, dec_ptgs, pa_ptgs, scales, ra_objs, dec_objs = np.split(result,\\\n",
    "                                                                 [n_fields, n_fields*2, n_fields*3, n_fields*4, n_fields*4+n_objects])"
   ]
  },
  {
   "cell_type": "code",
   "execution_count": 25,
   "metadata": {},
   "outputs": [
    {
     "data": {
      "text/plain": [
       "Text(0.5, 1.0, 'Telescope pointings')"
      ]
     },
     "execution_count": 25,
     "metadata": {},
     "output_type": "execute_result"
    },
    {
     "data": {
      "image/png": "[encoded data removed]",
      "text/plain": [
       "<Figure size 432x288 with 1 Axes>"
      ]
     },
     "metadata": {
      "needs_background": "light"
     },
     "output_type": "display_data"
    }
   ],
   "source": [
    "plt.scatter(pointings['ra'], pointings['dec'], marker='x', label='True')\n",
    "plt.scatter(a_init[0:11], a_init[11:22], marker='+', label='Initial guess')\n",
    "plt.scatter(result[0:11], result[11:22], marker='.', label='Final estimation')\n",
    "plt.legend()\n",
    "plt.xlabel('ra (deg)')\n",
    "plt.ylabel('dec (deg)')\n",
    "plt.title('Telescope pointings')"
   ]
  },
  {
   "cell_type": "code",
   "execution_count": 22,
   "metadata": {},
   "outputs": [
    {
     "data": {
      "text/plain": [
       "array([7.83021143e-06, 7.83021138e-06, 7.83021139e-06, 7.83021139e-06,\n",
       "       7.83021140e-06, 7.83021139e-06, 7.83021138e-06, 7.83021137e-06,\n",
       "       7.83021138e-06, 7.83021139e-06, 7.83021141e-06])"
      ]
     },
     "execution_count": 22,
     "metadata": {},
     "output_type": "execute_result"
    }
   ],
   "source": [
    "scales"
   ]
  },
  {
   "cell_type": "code",
   "execution_count": 31,
   "metadata": {},
   "outputs": [
    {
     "data": {
      "text/plain": [
       "<matplotlib.legend.Legend at 0x7f055bd7d588>"
      ]
     },
     "execution_count": 31,
     "metadata": {},
     "output_type": "execute_result"
    },
    {
     "data": {
      "image/png": "[encoded data removed]",
      "text/plain": [
       "<Figure size 432x288 with 1 Axes>"
      ]
     },
     "metadata": {
      "needs_background": "light"
     },
     "output_type": "display_data"
    }
   ],
   "source": [
    "pos = np.where(objects['field']==0)\n",
    "plt.scatter(objects['ra'][pos], objects['dec'][pos], marker='x', label='True')\n",
    "pos = np.where(observed_xy['field']==0)\n",
    "plt.scatter(observed_xy['ra_est'][pos], observed_xy['dec_est'][pos], marker='+', label='Initial guess')\n",
    "plt.scatter(ra_objs, dec_objs, marker='.', label='Final estimation')\n",
    "plt.xlabel('ra (deg)')\n",
    "plt.ylabel('dec (deg)')\n",
    "plt.xlim([265.55, 266.0])\n",
    "plt.ylim([-29.3, -28.85])\n",
    "plt.xlabel('ra (deg)')\n",
    "plt.ylabel('dec (deg)')\n",
    "plt.title('Object positions')\n",
    "plt.legend()"
   ]
  },
  {
   "cell_type": "code",
   "execution_count": 47,
   "metadata": {},
   "outputs": [
    {
     "data": {
      "text/plain": [
       "array([266.07845128, 266.08085808, 266.11809685, 266.05488627,\n",
       "       266.02171105, 266.06052614, 266.00802756, 265.98362308,\n",
       "       265.981192  , 265.97559003, 265.91342897, 265.89117204,\n",
       "       265.89452441, 265.81353149, 265.84821559, 265.76429997,\n",
       "       265.76485492, 265.79338944, 265.77721722, 265.76732051,\n",
       "       265.87661816, 265.85736864, 265.91241544, 265.87750132,\n",
       "       265.84066653, 265.81216454, 265.87317231, 265.6955048 ,\n",
       "       265.68958217, 265.76630914, 265.73647966, 265.63564124,\n",
       "       265.6656882 , 265.65736677, 265.69365034, 265.67200307,\n",
       "       265.79613614, 265.85294494, 265.81710785, 265.73366891,\n",
       "       265.72113119, 265.74957315, 265.78098312, 265.96075742,\n",
       "       265.92096833, 265.94569621, 265.92099176, 265.94912826,\n",
       "       265.93921071, 266.01855891, 266.02611322, 266.01621183,\n",
       "       265.85135851, 265.88069148, 265.91067299, 265.89559076,\n",
       "       265.91620625, 265.83322734, 265.78807225, 265.88863318,\n",
       "       265.86421589, 265.94174208, 266.03046852, 265.93778389,\n",
       "       265.93372459, 265.99393999, 265.94529728, 265.58030351,\n",
       "       265.61636885, 265.62250678, 265.69562793, 265.65055255,\n",
       "       265.65136257, 265.64369933, 265.68529264, 265.79323719,\n",
       "       265.78412983, 265.8329518 , 265.8096041 , 265.71532889,\n",
       "       265.87097746, 265.90781858, 265.92636527, 265.90107448,\n",
       "       265.86202123, 265.81643771, 265.91300651, 265.7316754 ,\n",
       "       265.78730194, 265.80411906, 265.84787926, 265.8639945 ])"
      ]
     },
     "execution_count": 47,
     "metadata": {},
     "output_type": "execute_result"
    }
   ],
   "source": [
    "ra_objs"
   ]
  },
  {
   "cell_type": "code",
   "execution_count": null,
   "metadata": {},
   "outputs": [],
   "source": []
  }
 ],
 "metadata": {
  "kernelspec": {
   "display_name": "Python 3",
   "language": "python",
   "name": "python3"
  },
  "language_info": {
   "codemirror_mode": {
    "name": "ipython",
    "version": 3
   },
   "file_extension": ".py",
   "mimetype": "text/x-python",
   "name": "python",
   "nbconvert_exporter": "python",
   "pygments_lexer": "ipython3",
   "version": "3.7.1"
  }
 },
 "nbformat": 4,
 "nbformat_minor": 2
}
