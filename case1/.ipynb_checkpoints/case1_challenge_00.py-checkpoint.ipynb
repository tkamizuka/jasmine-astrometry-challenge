{
 "cells": [
  {
   "cell_type": "markdown",
   "metadata": {},
   "source": [
    "# Case1-challenge00"
   ]
  },
  {
   "cell_type": "markdown",
   "metadata": {},
   "source": [
    "At first, we add the analysis directory to the python path."
   ]
  },
  {
   "cell_type": "code",
   "execution_count": 1,
   "metadata": {},
   "outputs": [],
   "source": [
    "import sys\n",
    "sys.path.append('/home/kamizuka/analysis')"
   ]
  },
  {
   "cell_type": "markdown",
   "metadata": {},
   "source": [
    "At first, we load the data, 'case1_chalenge_00.txt'."
   ]
  },
  {
   "cell_type": "code",
   "execution_count": 2,
   "metadata": {},
   "outputs": [],
   "source": [
    "import astropy.io.ascii as asc\n",
    "from astropy import units as u\n",
    "\n",
    "data = asc.read('case1_challenge_00.txt')\n",
    "data['x'].unit = u.um\n",
    "data['y'].unit = u.um\n",
    "data['ra'].unit = u.deg\n",
    "data['dec'].unit = u.deg"
   ]
  },
  {
   "cell_type": "markdown",
   "metadata": {},
   "source": [
    "The source distribution is shown in the figure below."
   ]
  },
  {
   "cell_type": "code",
   "execution_count": 4,
   "metadata": {},
   "outputs": [
    {
     "data": {
      "image/png": "[encoded data removed]",
      "text/plain": [
       "<Figure size 504x288 with 1 Axes>"
      ]
     },
     "metadata": {
      "needs_background": "light"
     },
     "output_type": "display_data"
    },
    {
     "data": {
      "image/png": "[encoded data removed]",
      "text/plain": [
       "<Figure size 504x288 with 1 Axes>"
      ]
     },
     "metadata": {
      "needs_background": "light"
     },
     "output_type": "display_data"
    }
   ],
   "source": [
    "import matplotlib.pylab as plt\n",
    "\n",
    "fig = plt.figure(figsize=(7,4))\n",
    "ax = fig.add_subplot(111)\n",
    "ax.scatter(data['x'], data['y'], marker='x')\n",
    "ax.set_xlabel('X (um)')\n",
    "ax.set_ylabel('Y (um)')\n",
    "ax.set_xlim([-25000,25000])\n",
    "ax.set_ylim([-25000,25000])\n",
    "ax.set_aspect('equal', adjustable='box')\n",
    "\n",
    "fig = plt.figure(figsize=(7,4))\n",
    "ax = fig.add_subplot(111)\n",
    "ax.scatter(data['ra'], data['dec'], marker='x')\n",
    "ax.set_xlabel('R.A. (deg)')\n",
    "ax.set_ylabel('Dec. (deg)')\n",
    "ax.set_aspect('equal', adjustable='box')"
   ]
  },
  {
   "cell_type": "markdown",
   "metadata": {},
   "source": [
    "We guess the astrometric(?) parameters."
   ]
  },
  {
   "cell_type": "code",
   "execution_count": 5,
   "metadata": {},
   "outputs": [
    {
     "name": "stdout",
     "output_type": "stream",
     "text": [
      "134.81661183788637 deg\n",
      "81.1331650814528 deg\n",
      "7.848716680726079e-06 deg / um\n",
      "0.0 deg\n"
     ]
    }
   ],
   "source": [
    "import numpy as np\n",
    "from astropy.coordinates import SkyCoord, Angle\n",
    "\n",
    "r = np.sqrt(data['x']**2.+data['y']**2.)\n",
    "i0 = np.argmin(r)\n",
    "ra0  = data['ra'].quantity[i0]\n",
    "dec0 = data['dec'].quantity[i0]\n",
    "\n",
    "c0 = SkyCoord(ra=ra0, dec=dec0, frame='icrs')\n",
    "c1 = SkyCoord(ra=data['ra'].quantity[0], dec=data['dec'].quantity[0], frame='icrs')\n",
    "angle_sep = c0.separation(c1)\n",
    "\n",
    "dx = data['x'].quantity[i0] - data['x'].quantity[0]\n",
    "dy = data['y'].quantity[i0] - data['y'].quantity[0]\n",
    "um_sep = np.sqrt(dx*dx+dy*dy)\n",
    "\n",
    "scale0 = angle_sep/um_sep\n",
    "\n",
    "pa0 = 0.0 * u.deg\n",
    "\n",
    "print(ra0)\n",
    "print(dec0)\n",
    "print(scale0)\n",
    "print(pa0)"
   ]
  },
  {
   "cell_type": "markdown",
   "metadata": {},
   "source": [
    "We define a model function which calculates RA and Dec from the position on the focal plane."
   ]
  },
  {
   "cell_type": "code",
   "execution_count": 6,
   "metadata": {},
   "outputs": [],
   "source": [
    "from astropy.wcs import WCS\n",
    "\n",
    "def wcs(ra0, dec0, pa0, scale0):\n",
    "    w = WCS(naxis=2)\n",
    "    w.wcs.crpix=[0,0]\n",
    "    w.wcs.cdelt=np.array([-scale0, scale0])\n",
    "    w.wcs.crval=[ra0, dec0]\n",
    "    w.wcs.ctype=[\"RA---TAN\", \"DEC--TAN\"]\n",
    "    w.wcs.pc=[[ np.cos(pa0*u.deg), np.sin(pa0*u.deg)],\n",
    "              [-np.sin(pa0*u.deg), np.cos(pa0*u.deg)]]\n",
    "    return w\n",
    "\n",
    "def model(params, pxcrd):\n",
    "    ra_ptg  = params[0] # value in deg.\n",
    "    dec_ptg = params[1] # value in deg.\n",
    "    pa_ptg  = params[2] # value in deg.\n",
    "    scale   = params[3] # value in deg/um.\n",
    "    # params must be an array of dimension-less values.\n",
    "    \n",
    "    w = wcs(ra_ptg, dec_ptg, pa_ptg, scale)\n",
    "    world = w.wcs_pix2world(pixcrd, 0)\n",
    "    return world.T.flatten()"
   ]
  },
  {
   "cell_type": "markdown",
   "metadata": {},
   "source": [
    "Then, we make an array of the coordinates on the focal plane."
   ]
  },
  {
   "cell_type": "code",
   "execution_count": 7,
   "metadata": {},
   "outputs": [],
   "source": [
    "pixcrd = np.concatenate(([data['x']],[data['y']])).T"
   ]
  },
  {
   "cell_type": "markdown",
   "metadata": {},
   "source": [
    "And now, we estimate the astrometric(?) parameters with the LeastSquare module."
   ]
  },
  {
   "cell_type": "code",
   "execution_count": 8,
   "metadata": {},
   "outputs": [
    {
     "name": "stderr",
     "output_type": "stream",
     "text": [
      "2021-07-04 11:39:53,360  DEBUG  common.leastsquare : Solving with least square calculation (iteration = 1, norm = 56.839147)\n",
      "2021-07-04 11:39:53,365  DEBUG  common.leastsquare : Solving with least square calculation (iteration = 2, norm = 327.196599)\n",
      "2021-07-04 11:39:53,369  DEBUG  common.leastsquare : Solving with least square calculation (iteration = 3, norm = 8.846832)\n",
      "2021-07-04 11:39:53,374  DEBUG  common.leastsquare : Solving with least square calculation (iteration = 4, norm = 2.021117)\n",
      "2021-07-04 11:39:53,378  DEBUG  common.leastsquare : Solving with least square calculation (iteration = 5, norm = 0.013930)\n",
      "2021-07-04 11:39:53,383  DEBUG  common.leastsquare : Solving with least square calculation (iteration = 6, norm = 0.000008)\n",
      "2021-07-04 11:39:53,388  DEBUG  common.leastsquare : Solving with least square calculation (iteration = 7, norm = 0.000000)\n"
     ]
    }
   ],
   "source": [
    "from common.leastsquare import LeastSquare\n",
    "\n",
    "ls = LeastSquare(lambda a: model(a, pixcrd), np.size(data['x'])*2)\n",
    "\n",
    "a_init = np.array([ra0.value, dec0.value, pa0.value, scale0.value]) # This must be an ndarray.\n",
    "\n",
    "result, _ = ls.solve(np.concatenate((data['ra'], data['dec'])), a_init)"
   ]
  },
  {
   "cell_type": "markdown",
   "metadata": {},
   "source": [
    "The result is..."
   ]
  },
  {
   "cell_type": "code",
   "execution_count": 9,
   "metadata": {},
   "outputs": [
    {
     "name": "stdout",
     "output_type": "stream",
     "text": [
      "Center R.A.   : 134.834443 deg.\n",
      "Center Dec.   : 81.128575 deg.\n",
      "Position angle: 263.517819 deg.\n",
      "Plate scale   : 7.848737e-06 deg/um\n"
     ]
    }
   ],
   "source": [
    "print(\"Center R.A.   : {:f} deg.\".format(result[0]))\n",
    "print(\"Center Dec.   : {:f} deg.\".format(result[1]))\n",
    "print(\"Position angle: {:f} deg.\".format(result[2]))\n",
    "print(\"Plate scale   : {:e} deg/um\".format(result[3]))"
   ]
  },
  {
   "cell_type": "markdown",
   "metadata": {},
   "source": [
    "According to the meta part of the input file, the poiunting RA and Dec are 134.8344427850505 and 81.12857515378491 deg, respectively. The position angle is 263.51781905210584 deg. The calculation seems to correctly estimate these parameters."
   ]
  },
  {
   "cell_type": "code",
   "execution_count": 10,
   "metadata": {},
   "outputs": [
    {
     "data": {
      "text/plain": [
       "<matplotlib.legend.Legend at 0x7f77725aa080>"
      ]
     },
     "execution_count": 10,
     "metadata": {},
     "output_type": "execute_result"
    },
    {
     "data": {
      "image/png": "[encoded data removed]",
      "text/plain": [
       "<Figure size 504x288 with 1 Axes>"
      ]
     },
     "metadata": {
      "needs_background": "light"
     },
     "output_type": "display_data"
    }
   ],
   "source": [
    "positions = model(result, pixcrd)\n",
    "positions = positions.reshape((2,int(positions.size/2))).T\n",
    "\n",
    "fig = plt.figure(figsize=(7,4))\n",
    "ax = fig.add_subplot(111)\n",
    "ax.scatter(data['ra'], data['dec'], marker='o', label='Truth')\n",
    "ax.scatter(positions[:,0], positions[:,1], marker='x', label='Reproduced')\n",
    "ax.set_xlabel('R.A. (deg)')\n",
    "ax.set_ylabel('Dec. (deg)')\n",
    "#ax.set_aspect('equal', adjustable='box')\n",
    "ax.legend()"
   ]
  },
  {
   "cell_type": "markdown",
   "metadata": {},
   "source": [
    "The positions calculated from the estimated parameters match the true positions."
   ]
  }
 ],
 "metadata": {
  "kernelspec": {
   "display_name": "Python 3",
   "language": "python",
   "name": "python3"
  },
  "language_info": {
   "codemirror_mode": {
    "name": "ipython",
    "version": 3
   },
   "file_extension": ".py",
   "mimetype": "text/x-python",
   "name": "python",
   "nbconvert_exporter": "python",
   "pygments_lexer": "ipython3",
   "version": "3.7.1"
  }
 },
 "nbformat": 4,
 "nbformat_minor": 2
}
